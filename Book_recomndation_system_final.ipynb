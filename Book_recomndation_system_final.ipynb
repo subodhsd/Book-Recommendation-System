{
  "nbformat": 4,
  "nbformat_minor": 0,
  "metadata": {
    "colab": {
      "provenance": [],
      "collapsed_sections": [],
      "include_colab_link": true
    },
    "kernelspec": {
      "name": "python3",
      "display_name": "Python 3"
    },
    "language_info": {
      "name": "python"
    }
  },
  "cells": [
    {
      "cell_type": "markdown",
      "metadata": {
        "id": "view-in-github",
        "colab_type": "text"
      },
      "source": [
        "<a href=\"https://colab.research.google.com/github/subodhsd/Book-Recommendation-System/blob/main/Book_recomndation_system_final.ipynb\" target=\"_parent\"><img src=\"https://colab.research.google.com/assets/colab-badge.svg\" alt=\"Open In Colab\"/></a>"
      ]
    },
    {
      "cell_type": "code",
      "execution_count": null,
      "metadata": {
        "id": "AhZZGzaIr2bs"
      },
      "outputs": [],
      "source": [
        "#import library\n",
        "import pandas as pd\n",
        "import matplotlib.pyplot as plt\n",
        "import seaborn as sns\n",
        "import numpy as np\n",
        "import re\n",
        "import warnings\n",
        "warnings.filterwarnings(\"ignore\")"
      ]
    },
    {
      "cell_type": "code",
      "source": [
        "from google.colab import drive\n",
        "drive.mount('/content/drive')"
      ],
      "metadata": {
        "colab": {
          "base_uri": "https://localhost:8080/"
        },
        "id": "z0SH79HoTLdT",
        "outputId": "573e2de2-89a1-42e0-8157-94215aa85dca"
      },
      "execution_count": null,
      "outputs": [
        {
          "output_type": "stream",
          "name": "stdout",
          "text": [
            "Mounted at /content/drive\n"
          ]
        }
      ]
    },
    {
      "cell_type": "code",
      "source": [
        "#loading dataset\n",
        "Book_df=pd.read_csv(\"/content/drive/MyDrive/Colab Notebooks/dat/Books.csv\")\n",
        "rating_df=pd.read_csv(\"/content/drive/MyDrive/Colab Notebooks/dat/Ratings.csv\")\n",
        "user_df=pd.read_csv('/content/drive/MyDrive/Colab Notebooks/dat/Users.csv')"
      ],
      "metadata": {
        "colab": {
          "base_uri": "https://localhost:8080/"
        },
        "id": "gCe2aRK6sXsA",
        "outputId": "92420b4b-517c-4634-993a-99c59c554fb3"
      },
      "execution_count": null,
      "outputs": [
        {
          "output_type": "stream",
          "name": "stderr",
          "text": [
            "/usr/local/lib/python3.7/dist-packages/IPython/core/interactiveshell.py:3326: DtypeWarning: Columns (3) have mixed types.Specify dtype option on import or set low_memory=False.\n",
            "  exec(code_obj, self.user_global_ns, self.user_ns)\n"
          ]
        }
      ]
    },
    {
      "cell_type": "markdown",
      "source": [
        "## Exploratory Data Analysis"
      ],
      "metadata": {
        "id": "peMvHH-O2Sqi"
      }
    },
    {
      "cell_type": "markdown",
      "source": [
        "### Book_df dataset"
      ],
      "metadata": {
        "id": "Mvf1xBKN3Odx"
      }
    },
    {
      "cell_type": "code",
      "source": [
        "# first 5 rows of Book_df dataset\n",
        "Book_df.head()"
      ],
      "metadata": {
        "colab": {
          "base_uri": "https://localhost:8080/",
          "height": 478
        },
        "id": "UXCZh4GluRYA",
        "outputId": "a078e72d-6a14-4478-e670-04872094f8c5"
      },
      "execution_count": null,
      "outputs": [
        {
          "output_type": "execute_result",
          "data": {
            "text/plain": [
              "         ISBN                                         Book-Title  \\\n",
              "0  0195153448                                Classical Mythology   \n",
              "1  0002005018                                       Clara Callan   \n",
              "2  0060973129                               Decision in Normandy   \n",
              "3  0374157065  Flu: The Story of the Great Influenza Pandemic...   \n",
              "4  0393045218                             The Mummies of Urumchi   \n",
              "\n",
              "            Book-Author Year-Of-Publication                   Publisher  \\\n",
              "0    Mark P. O. Morford                2002     Oxford University Press   \n",
              "1  Richard Bruce Wright                2001       HarperFlamingo Canada   \n",
              "2          Carlo D'Este                1991             HarperPerennial   \n",
              "3      Gina Bari Kolata                1999        Farrar Straus Giroux   \n",
              "4       E. J. W. Barber                1999  W. W. Norton &amp; Company   \n",
              "\n",
              "                                         Image-URL-S  \\\n",
              "0  http://images.amazon.com/images/P/0195153448.0...   \n",
              "1  http://images.amazon.com/images/P/0002005018.0...   \n",
              "2  http://images.amazon.com/images/P/0060973129.0...   \n",
              "3  http://images.amazon.com/images/P/0374157065.0...   \n",
              "4  http://images.amazon.com/images/P/0393045218.0...   \n",
              "\n",
              "                                         Image-URL-M  \\\n",
              "0  http://images.amazon.com/images/P/0195153448.0...   \n",
              "1  http://images.amazon.com/images/P/0002005018.0...   \n",
              "2  http://images.amazon.com/images/P/0060973129.0...   \n",
              "3  http://images.amazon.com/images/P/0374157065.0...   \n",
              "4  http://images.amazon.com/images/P/0393045218.0...   \n",
              "\n",
              "                                         Image-URL-L  \n",
              "0  http://images.amazon.com/images/P/0195153448.0...  \n",
              "1  http://images.amazon.com/images/P/0002005018.0...  \n",
              "2  http://images.amazon.com/images/P/0060973129.0...  \n",
              "3  http://images.amazon.com/images/P/0374157065.0...  \n",
              "4  http://images.amazon.com/images/P/0393045218.0...  "
            ],
            "text/html": [
              "\n",
              "  <div id=\"df-bb30b243-1ea6-42c2-9373-edc0c214c1b7\">\n",
              "    <div class=\"colab-df-container\">\n",
              "      <div>\n",
              "<style scoped>\n",
              "    .dataframe tbody tr th:only-of-type {\n",
              "        vertical-align: middle;\n",
              "    }\n",
              "\n",
              "    .dataframe tbody tr th {\n",
              "        vertical-align: top;\n",
              "    }\n",
              "\n",
              "    .dataframe thead th {\n",
              "        text-align: right;\n",
              "    }\n",
              "</style>\n",
              "<table border=\"1\" class=\"dataframe\">\n",
              "  <thead>\n",
              "    <tr style=\"text-align: right;\">\n",
              "      <th></th>\n",
              "      <th>ISBN</th>\n",
              "      <th>Book-Title</th>\n",
              "      <th>Book-Author</th>\n",
              "      <th>Year-Of-Publication</th>\n",
              "      <th>Publisher</th>\n",
              "      <th>Image-URL-S</th>\n",
              "      <th>Image-URL-M</th>\n",
              "      <th>Image-URL-L</th>\n",
              "    </tr>\n",
              "  </thead>\n",
              "  <tbody>\n",
              "    <tr>\n",
              "      <th>0</th>\n",
              "      <td>0195153448</td>\n",
              "      <td>Classical Mythology</td>\n",
              "      <td>Mark P. O. Morford</td>\n",
              "      <td>2002</td>\n",
              "      <td>Oxford University Press</td>\n",
              "      <td>http://images.amazon.com/images/P/0195153448.0...</td>\n",
              "      <td>http://images.amazon.com/images/P/0195153448.0...</td>\n",
              "      <td>http://images.amazon.com/images/P/0195153448.0...</td>\n",
              "    </tr>\n",
              "    <tr>\n",
              "      <th>1</th>\n",
              "      <td>0002005018</td>\n",
              "      <td>Clara Callan</td>\n",
              "      <td>Richard Bruce Wright</td>\n",
              "      <td>2001</td>\n",
              "      <td>HarperFlamingo Canada</td>\n",
              "      <td>http://images.amazon.com/images/P/0002005018.0...</td>\n",
              "      <td>http://images.amazon.com/images/P/0002005018.0...</td>\n",
              "      <td>http://images.amazon.com/images/P/0002005018.0...</td>\n",
              "    </tr>\n",
              "    <tr>\n",
              "      <th>2</th>\n",
              "      <td>0060973129</td>\n",
              "      <td>Decision in Normandy</td>\n",
              "      <td>Carlo D'Este</td>\n",
              "      <td>1991</td>\n",
              "      <td>HarperPerennial</td>\n",
              "      <td>http://images.amazon.com/images/P/0060973129.0...</td>\n",
              "      <td>http://images.amazon.com/images/P/0060973129.0...</td>\n",
              "      <td>http://images.amazon.com/images/P/0060973129.0...</td>\n",
              "    </tr>\n",
              "    <tr>\n",
              "      <th>3</th>\n",
              "      <td>0374157065</td>\n",
              "      <td>Flu: The Story of the Great Influenza Pandemic...</td>\n",
              "      <td>Gina Bari Kolata</td>\n",
              "      <td>1999</td>\n",
              "      <td>Farrar Straus Giroux</td>\n",
              "      <td>http://images.amazon.com/images/P/0374157065.0...</td>\n",
              "      <td>http://images.amazon.com/images/P/0374157065.0...</td>\n",
              "      <td>http://images.amazon.com/images/P/0374157065.0...</td>\n",
              "    </tr>\n",
              "    <tr>\n",
              "      <th>4</th>\n",
              "      <td>0393045218</td>\n",
              "      <td>The Mummies of Urumchi</td>\n",
              "      <td>E. J. W. Barber</td>\n",
              "      <td>1999</td>\n",
              "      <td>W. W. Norton &amp;amp; Company</td>\n",
              "      <td>http://images.amazon.com/images/P/0393045218.0...</td>\n",
              "      <td>http://images.amazon.com/images/P/0393045218.0...</td>\n",
              "      <td>http://images.amazon.com/images/P/0393045218.0...</td>\n",
              "    </tr>\n",
              "  </tbody>\n",
              "</table>\n",
              "</div>\n",
              "      <button class=\"colab-df-convert\" onclick=\"convertToInteractive('df-bb30b243-1ea6-42c2-9373-edc0c214c1b7')\"\n",
              "              title=\"Convert this dataframe to an interactive table.\"\n",
              "              style=\"display:none;\">\n",
              "        \n",
              "  <svg xmlns=\"http://www.w3.org/2000/svg\" height=\"24px\"viewBox=\"0 0 24 24\"\n",
              "       width=\"24px\">\n",
              "    <path d=\"M0 0h24v24H0V0z\" fill=\"none\"/>\n",
              "    <path d=\"M18.56 5.44l.94 2.06.94-2.06 2.06-.94-2.06-.94-.94-2.06-.94 2.06-2.06.94zm-11 1L8.5 8.5l.94-2.06 2.06-.94-2.06-.94L8.5 2.5l-.94 2.06-2.06.94zm10 10l.94 2.06.94-2.06 2.06-.94-2.06-.94-.94-2.06-.94 2.06-2.06.94z\"/><path d=\"M17.41 7.96l-1.37-1.37c-.4-.4-.92-.59-1.43-.59-.52 0-1.04.2-1.43.59L10.3 9.45l-7.72 7.72c-.78.78-.78 2.05 0 2.83L4 21.41c.39.39.9.59 1.41.59.51 0 1.02-.2 1.41-.59l7.78-7.78 2.81-2.81c.8-.78.8-2.07 0-2.86zM5.41 20L4 18.59l7.72-7.72 1.47 1.35L5.41 20z\"/>\n",
              "  </svg>\n",
              "      </button>\n",
              "      \n",
              "  <style>\n",
              "    .colab-df-container {\n",
              "      display:flex;\n",
              "      flex-wrap:wrap;\n",
              "      gap: 12px;\n",
              "    }\n",
              "\n",
              "    .colab-df-convert {\n",
              "      background-color: #E8F0FE;\n",
              "      border: none;\n",
              "      border-radius: 50%;\n",
              "      cursor: pointer;\n",
              "      display: none;\n",
              "      fill: #1967D2;\n",
              "      height: 32px;\n",
              "      padding: 0 0 0 0;\n",
              "      width: 32px;\n",
              "    }\n",
              "\n",
              "    .colab-df-convert:hover {\n",
              "      background-color: #E2EBFA;\n",
              "      box-shadow: 0px 1px 2px rgba(60, 64, 67, 0.3), 0px 1px 3px 1px rgba(60, 64, 67, 0.15);\n",
              "      fill: #174EA6;\n",
              "    }\n",
              "\n",
              "    [theme=dark] .colab-df-convert {\n",
              "      background-color: #3B4455;\n",
              "      fill: #D2E3FC;\n",
              "    }\n",
              "\n",
              "    [theme=dark] .colab-df-convert:hover {\n",
              "      background-color: #434B5C;\n",
              "      box-shadow: 0px 1px 3px 1px rgba(0, 0, 0, 0.15);\n",
              "      filter: drop-shadow(0px 1px 2px rgba(0, 0, 0, 0.3));\n",
              "      fill: #FFFFFF;\n",
              "    }\n",
              "  </style>\n",
              "\n",
              "      <script>\n",
              "        const buttonEl =\n",
              "          document.querySelector('#df-bb30b243-1ea6-42c2-9373-edc0c214c1b7 button.colab-df-convert');\n",
              "        buttonEl.style.display =\n",
              "          google.colab.kernel.accessAllowed ? 'block' : 'none';\n",
              "\n",
              "        async function convertToInteractive(key) {\n",
              "          const element = document.querySelector('#df-bb30b243-1ea6-42c2-9373-edc0c214c1b7');\n",
              "          const dataTable =\n",
              "            await google.colab.kernel.invokeFunction('convertToInteractive',\n",
              "                                                     [key], {});\n",
              "          if (!dataTable) return;\n",
              "\n",
              "          const docLinkHtml = 'Like what you see? Visit the ' +\n",
              "            '<a target=\"_blank\" href=https://colab.research.google.com/notebooks/data_table.ipynb>data table notebook</a>'\n",
              "            + ' to learn more about interactive tables.';\n",
              "          element.innerHTML = '';\n",
              "          dataTable['output_type'] = 'display_data';\n",
              "          await google.colab.output.renderOutput(dataTable, element);\n",
              "          const docLink = document.createElement('div');\n",
              "          docLink.innerHTML = docLinkHtml;\n",
              "          element.appendChild(docLink);\n",
              "        }\n",
              "      </script>\n",
              "    </div>\n",
              "  </div>\n",
              "  "
            ]
          },
          "metadata": {},
          "execution_count": 18
        }
      ]
    },
    {
      "cell_type": "code",
      "source": [
        "#information about book_df dataset\n",
        "Book_df.info()"
      ],
      "metadata": {
        "colab": {
          "base_uri": "https://localhost:8080/"
        },
        "id": "03EnS5yduRgc",
        "outputId": "1b941c32-5c7a-4bb7-ac92-55e7248b39f7"
      },
      "execution_count": null,
      "outputs": [
        {
          "output_type": "stream",
          "name": "stdout",
          "text": [
            "<class 'pandas.core.frame.DataFrame'>\n",
            "RangeIndex: 271360 entries, 0 to 271359\n",
            "Data columns (total 8 columns):\n",
            " #   Column               Non-Null Count   Dtype \n",
            "---  ------               --------------   ----- \n",
            " 0   ISBN                 271360 non-null  object\n",
            " 1   Book-Title           271360 non-null  object\n",
            " 2   Book-Author          271359 non-null  object\n",
            " 3   Year-Of-Publication  271360 non-null  object\n",
            " 4   Publisher            271358 non-null  object\n",
            " 5   Image-URL-S          271360 non-null  object\n",
            " 6   Image-URL-M          271360 non-null  object\n",
            " 7   Image-URL-L          271357 non-null  object\n",
            "dtypes: object(8)\n",
            "memory usage: 16.6+ MB\n"
          ]
        }
      ]
    },
    {
      "cell_type": "code",
      "source": [
        "#Checking duplicate observation\n",
        "Book_df.duplicated().sum()"
      ],
      "metadata": {
        "colab": {
          "base_uri": "https://localhost:8080/"
        },
        "id": "wMTZpgasFkH5",
        "outputId": "9e0009c2-04e6-4081-862e-4f7a2e6579ec"
      },
      "execution_count": null,
      "outputs": [
        {
          "output_type": "execute_result",
          "data": {
            "text/plain": [
              "0"
            ]
          },
          "metadata": {},
          "execution_count": 20
        }
      ]
    },
    {
      "cell_type": "markdown",
      "source": [
        "### Is there any repeated ISBN and Book-Title in the Book_df dataset"
      ],
      "metadata": {
        "id": "YrCA7_DN7Fdh"
      }
    },
    {
      "cell_type": "code",
      "source": [
        "total_rows=Book_df.shape[0]\n",
        "unique_isbn=len(Book_df[\"ISBN\"].unique())\n",
        "repeated_isbn=total_rows-unique_isbn\n",
        "unique_title=len(Book_df[\"Book-Title\"].unique())\n",
        "repeated_title=total_rows-unique_title\n",
        "print(f'number of repeated isbn: {repeated_isbn}')\n",
        "print(f'number of repeated isbn: {repeated_title}')"
      ],
      "metadata": {
        "colab": {
          "base_uri": "https://localhost:8080/"
        },
        "id": "G9gbnjF08AZK",
        "outputId": "ebed249a-2052-4987-83c3-b81464b8e790"
      },
      "execution_count": null,
      "outputs": [
        {
          "output_type": "stream",
          "name": "stdout",
          "text": [
            "number of repeated isbn: 0\n",
            "number of repeated isbn: 29225\n"
          ]
        }
      ]
    },
    {
      "cell_type": "code",
      "source": [
        "#checking null values\n",
        "Book_df.isnull().sum()"
      ],
      "metadata": {
        "colab": {
          "base_uri": "https://localhost:8080/"
        },
        "id": "Zq75hUB64RTg",
        "outputId": "9d9c0db7-eb3b-4a45-8dca-f4eaa108d0df"
      },
      "execution_count": null,
      "outputs": [
        {
          "output_type": "execute_result",
          "data": {
            "text/plain": [
              "ISBN                   0\n",
              "Book-Title             0\n",
              "Book-Author            1\n",
              "Year-Of-Publication    0\n",
              "Publisher              2\n",
              "Image-URL-S            0\n",
              "Image-URL-M            0\n",
              "Image-URL-L            3\n",
              "dtype: int64"
            ]
          },
          "metadata": {},
          "execution_count": 22
        }
      ]
    },
    {
      "cell_type": "markdown",
      "source": [
        "### rating_df dataset"
      ],
      "metadata": {
        "id": "1NqyqI674lfy"
      }
    },
    {
      "cell_type": "code",
      "source": [
        "#first 5 rows of rating_df dataset\n",
        "rating_df.head()"
      ],
      "metadata": {
        "colab": {
          "base_uri": "https://localhost:8080/",
          "height": 206
        },
        "id": "PG8jUzWJuRlf",
        "outputId": "3fe8bf9d-b4dc-4a8f-c347-8b50af923a12"
      },
      "execution_count": null,
      "outputs": [
        {
          "output_type": "execute_result",
          "data": {
            "text/plain": [
              "   User-ID        ISBN  Book-Rating\n",
              "0   276725  034545104X            0\n",
              "1   276726  0155061224            5\n",
              "2   276727  0446520802            0\n",
              "3   276729  052165615X            3\n",
              "4   276729  0521795028            6"
            ],
            "text/html": [
              "\n",
              "  <div id=\"df-eff476a1-a548-4ced-b3df-214ac6d00b63\">\n",
              "    <div class=\"colab-df-container\">\n",
              "      <div>\n",
              "<style scoped>\n",
              "    .dataframe tbody tr th:only-of-type {\n",
              "        vertical-align: middle;\n",
              "    }\n",
              "\n",
              "    .dataframe tbody tr th {\n",
              "        vertical-align: top;\n",
              "    }\n",
              "\n",
              "    .dataframe thead th {\n",
              "        text-align: right;\n",
              "    }\n",
              "</style>\n",
              "<table border=\"1\" class=\"dataframe\">\n",
              "  <thead>\n",
              "    <tr style=\"text-align: right;\">\n",
              "      <th></th>\n",
              "      <th>User-ID</th>\n",
              "      <th>ISBN</th>\n",
              "      <th>Book-Rating</th>\n",
              "    </tr>\n",
              "  </thead>\n",
              "  <tbody>\n",
              "    <tr>\n",
              "      <th>0</th>\n",
              "      <td>276725</td>\n",
              "      <td>034545104X</td>\n",
              "      <td>0</td>\n",
              "    </tr>\n",
              "    <tr>\n",
              "      <th>1</th>\n",
              "      <td>276726</td>\n",
              "      <td>0155061224</td>\n",
              "      <td>5</td>\n",
              "    </tr>\n",
              "    <tr>\n",
              "      <th>2</th>\n",
              "      <td>276727</td>\n",
              "      <td>0446520802</td>\n",
              "      <td>0</td>\n",
              "    </tr>\n",
              "    <tr>\n",
              "      <th>3</th>\n",
              "      <td>276729</td>\n",
              "      <td>052165615X</td>\n",
              "      <td>3</td>\n",
              "    </tr>\n",
              "    <tr>\n",
              "      <th>4</th>\n",
              "      <td>276729</td>\n",
              "      <td>0521795028</td>\n",
              "      <td>6</td>\n",
              "    </tr>\n",
              "  </tbody>\n",
              "</table>\n",
              "</div>\n",
              "      <button class=\"colab-df-convert\" onclick=\"convertToInteractive('df-eff476a1-a548-4ced-b3df-214ac6d00b63')\"\n",
              "              title=\"Convert this dataframe to an interactive table.\"\n",
              "              style=\"display:none;\">\n",
              "        \n",
              "  <svg xmlns=\"http://www.w3.org/2000/svg\" height=\"24px\"viewBox=\"0 0 24 24\"\n",
              "       width=\"24px\">\n",
              "    <path d=\"M0 0h24v24H0V0z\" fill=\"none\"/>\n",
              "    <path d=\"M18.56 5.44l.94 2.06.94-2.06 2.06-.94-2.06-.94-.94-2.06-.94 2.06-2.06.94zm-11 1L8.5 8.5l.94-2.06 2.06-.94-2.06-.94L8.5 2.5l-.94 2.06-2.06.94zm10 10l.94 2.06.94-2.06 2.06-.94-2.06-.94-.94-2.06-.94 2.06-2.06.94z\"/><path d=\"M17.41 7.96l-1.37-1.37c-.4-.4-.92-.59-1.43-.59-.52 0-1.04.2-1.43.59L10.3 9.45l-7.72 7.72c-.78.78-.78 2.05 0 2.83L4 21.41c.39.39.9.59 1.41.59.51 0 1.02-.2 1.41-.59l7.78-7.78 2.81-2.81c.8-.78.8-2.07 0-2.86zM5.41 20L4 18.59l7.72-7.72 1.47 1.35L5.41 20z\"/>\n",
              "  </svg>\n",
              "      </button>\n",
              "      \n",
              "  <style>\n",
              "    .colab-df-container {\n",
              "      display:flex;\n",
              "      flex-wrap:wrap;\n",
              "      gap: 12px;\n",
              "    }\n",
              "\n",
              "    .colab-df-convert {\n",
              "      background-color: #E8F0FE;\n",
              "      border: none;\n",
              "      border-radius: 50%;\n",
              "      cursor: pointer;\n",
              "      display: none;\n",
              "      fill: #1967D2;\n",
              "      height: 32px;\n",
              "      padding: 0 0 0 0;\n",
              "      width: 32px;\n",
              "    }\n",
              "\n",
              "    .colab-df-convert:hover {\n",
              "      background-color: #E2EBFA;\n",
              "      box-shadow: 0px 1px 2px rgba(60, 64, 67, 0.3), 0px 1px 3px 1px rgba(60, 64, 67, 0.15);\n",
              "      fill: #174EA6;\n",
              "    }\n",
              "\n",
              "    [theme=dark] .colab-df-convert {\n",
              "      background-color: #3B4455;\n",
              "      fill: #D2E3FC;\n",
              "    }\n",
              "\n",
              "    [theme=dark] .colab-df-convert:hover {\n",
              "      background-color: #434B5C;\n",
              "      box-shadow: 0px 1px 3px 1px rgba(0, 0, 0, 0.15);\n",
              "      filter: drop-shadow(0px 1px 2px rgba(0, 0, 0, 0.3));\n",
              "      fill: #FFFFFF;\n",
              "    }\n",
              "  </style>\n",
              "\n",
              "      <script>\n",
              "        const buttonEl =\n",
              "          document.querySelector('#df-eff476a1-a548-4ced-b3df-214ac6d00b63 button.colab-df-convert');\n",
              "        buttonEl.style.display =\n",
              "          google.colab.kernel.accessAllowed ? 'block' : 'none';\n",
              "\n",
              "        async function convertToInteractive(key) {\n",
              "          const element = document.querySelector('#df-eff476a1-a548-4ced-b3df-214ac6d00b63');\n",
              "          const dataTable =\n",
              "            await google.colab.kernel.invokeFunction('convertToInteractive',\n",
              "                                                     [key], {});\n",
              "          if (!dataTable) return;\n",
              "\n",
              "          const docLinkHtml = 'Like what you see? Visit the ' +\n",
              "            '<a target=\"_blank\" href=https://colab.research.google.com/notebooks/data_table.ipynb>data table notebook</a>'\n",
              "            + ' to learn more about interactive tables.';\n",
              "          element.innerHTML = '';\n",
              "          dataTable['output_type'] = 'display_data';\n",
              "          await google.colab.output.renderOutput(dataTable, element);\n",
              "          const docLink = document.createElement('div');\n",
              "          docLink.innerHTML = docLinkHtml;\n",
              "          element.appendChild(docLink);\n",
              "        }\n",
              "      </script>\n",
              "    </div>\n",
              "  </div>\n",
              "  "
            ]
          },
          "metadata": {},
          "execution_count": 23
        }
      ]
    },
    {
      "cell_type": "code",
      "source": [
        "#information about rating_df dataset\n",
        "rating_df.info()"
      ],
      "metadata": {
        "colab": {
          "base_uri": "https://localhost:8080/"
        },
        "id": "XkPlUmXyuRqi",
        "outputId": "9833d80d-276c-4cff-c483-5ce59f687ea2"
      },
      "execution_count": null,
      "outputs": [
        {
          "output_type": "stream",
          "name": "stdout",
          "text": [
            "<class 'pandas.core.frame.DataFrame'>\n",
            "RangeIndex: 1149780 entries, 0 to 1149779\n",
            "Data columns (total 3 columns):\n",
            " #   Column       Non-Null Count    Dtype \n",
            "---  ------       --------------    ----- \n",
            " 0   User-ID      1149780 non-null  int64 \n",
            " 1   ISBN         1149780 non-null  object\n",
            " 2   Book-Rating  1149780 non-null  int64 \n",
            "dtypes: int64(2), object(1)\n",
            "memory usage: 26.3+ MB\n"
          ]
        }
      ]
    },
    {
      "cell_type": "code",
      "source": [
        "#Checking duplicate observation\n",
        "rating_df.duplicated().sum()"
      ],
      "metadata": {
        "colab": {
          "base_uri": "https://localhost:8080/"
        },
        "id": "ooGWjZv-IOqv",
        "outputId": "f6915b31-3eb7-4d9f-f595-d973419f142d"
      },
      "execution_count": null,
      "outputs": [
        {
          "output_type": "execute_result",
          "data": {
            "text/plain": [
              "0"
            ]
          },
          "metadata": {},
          "execution_count": 7
        }
      ]
    },
    {
      "cell_type": "code",
      "source": [
        "#checking null values\n",
        "rating_df.isnull().sum()"
      ],
      "metadata": {
        "colab": {
          "base_uri": "https://localhost:8080/"
        },
        "id": "VyRNFedp5H_c",
        "outputId": "dc9227d5-acb5-4f85-bebd-b0b6d293edaa"
      },
      "execution_count": null,
      "outputs": [
        {
          "output_type": "execute_result",
          "data": {
            "text/plain": [
              "User-ID        0\n",
              "ISBN           0\n",
              "Book-Rating    0\n",
              "dtype: int64"
            ]
          },
          "metadata": {},
          "execution_count": 24
        }
      ]
    },
    {
      "cell_type": "markdown",
      "source": [
        "### user_df dataset"
      ],
      "metadata": {
        "id": "RlRCcDUN5PLx"
      }
    },
    {
      "cell_type": "code",
      "source": [
        "#first 5 rows of user_df dataset\n",
        "user_df.head()"
      ],
      "metadata": {
        "colab": {
          "base_uri": "https://localhost:8080/",
          "height": 206
        },
        "id": "aAuXmaRuJDDh",
        "outputId": "2c4a0ff8-35d0-4364-ea74-68c1434ea13c"
      },
      "execution_count": null,
      "outputs": [
        {
          "output_type": "execute_result",
          "data": {
            "text/plain": [
              "   User-ID                            Location   Age\n",
              "0        1                  nyc, new york, usa   NaN\n",
              "1        2           stockton, california, usa  18.0\n",
              "2        3     moscow, yukon territory, russia   NaN\n",
              "3        4           porto, v.n.gaia, portugal  17.0\n",
              "4        5  farnborough, hants, united kingdom   NaN"
            ],
            "text/html": [
              "\n",
              "  <div id=\"df-0c0bed2f-acf5-4a76-8c07-a52eb1332548\">\n",
              "    <div class=\"colab-df-container\">\n",
              "      <div>\n",
              "<style scoped>\n",
              "    .dataframe tbody tr th:only-of-type {\n",
              "        vertical-align: middle;\n",
              "    }\n",
              "\n",
              "    .dataframe tbody tr th {\n",
              "        vertical-align: top;\n",
              "    }\n",
              "\n",
              "    .dataframe thead th {\n",
              "        text-align: right;\n",
              "    }\n",
              "</style>\n",
              "<table border=\"1\" class=\"dataframe\">\n",
              "  <thead>\n",
              "    <tr style=\"text-align: right;\">\n",
              "      <th></th>\n",
              "      <th>User-ID</th>\n",
              "      <th>Location</th>\n",
              "      <th>Age</th>\n",
              "    </tr>\n",
              "  </thead>\n",
              "  <tbody>\n",
              "    <tr>\n",
              "      <th>0</th>\n",
              "      <td>1</td>\n",
              "      <td>nyc, new york, usa</td>\n",
              "      <td>NaN</td>\n",
              "    </tr>\n",
              "    <tr>\n",
              "      <th>1</th>\n",
              "      <td>2</td>\n",
              "      <td>stockton, california, usa</td>\n",
              "      <td>18.0</td>\n",
              "    </tr>\n",
              "    <tr>\n",
              "      <th>2</th>\n",
              "      <td>3</td>\n",
              "      <td>moscow, yukon territory, russia</td>\n",
              "      <td>NaN</td>\n",
              "    </tr>\n",
              "    <tr>\n",
              "      <th>3</th>\n",
              "      <td>4</td>\n",
              "      <td>porto, v.n.gaia, portugal</td>\n",
              "      <td>17.0</td>\n",
              "    </tr>\n",
              "    <tr>\n",
              "      <th>4</th>\n",
              "      <td>5</td>\n",
              "      <td>farnborough, hants, united kingdom</td>\n",
              "      <td>NaN</td>\n",
              "    </tr>\n",
              "  </tbody>\n",
              "</table>\n",
              "</div>\n",
              "      <button class=\"colab-df-convert\" onclick=\"convertToInteractive('df-0c0bed2f-acf5-4a76-8c07-a52eb1332548')\"\n",
              "              title=\"Convert this dataframe to an interactive table.\"\n",
              "              style=\"display:none;\">\n",
              "        \n",
              "  <svg xmlns=\"http://www.w3.org/2000/svg\" height=\"24px\"viewBox=\"0 0 24 24\"\n",
              "       width=\"24px\">\n",
              "    <path d=\"M0 0h24v24H0V0z\" fill=\"none\"/>\n",
              "    <path d=\"M18.56 5.44l.94 2.06.94-2.06 2.06-.94-2.06-.94-.94-2.06-.94 2.06-2.06.94zm-11 1L8.5 8.5l.94-2.06 2.06-.94-2.06-.94L8.5 2.5l-.94 2.06-2.06.94zm10 10l.94 2.06.94-2.06 2.06-.94-2.06-.94-.94-2.06-.94 2.06-2.06.94z\"/><path d=\"M17.41 7.96l-1.37-1.37c-.4-.4-.92-.59-1.43-.59-.52 0-1.04.2-1.43.59L10.3 9.45l-7.72 7.72c-.78.78-.78 2.05 0 2.83L4 21.41c.39.39.9.59 1.41.59.51 0 1.02-.2 1.41-.59l7.78-7.78 2.81-2.81c.8-.78.8-2.07 0-2.86zM5.41 20L4 18.59l7.72-7.72 1.47 1.35L5.41 20z\"/>\n",
              "  </svg>\n",
              "      </button>\n",
              "      \n",
              "  <style>\n",
              "    .colab-df-container {\n",
              "      display:flex;\n",
              "      flex-wrap:wrap;\n",
              "      gap: 12px;\n",
              "    }\n",
              "\n",
              "    .colab-df-convert {\n",
              "      background-color: #E8F0FE;\n",
              "      border: none;\n",
              "      border-radius: 50%;\n",
              "      cursor: pointer;\n",
              "      display: none;\n",
              "      fill: #1967D2;\n",
              "      height: 32px;\n",
              "      padding: 0 0 0 0;\n",
              "      width: 32px;\n",
              "    }\n",
              "\n",
              "    .colab-df-convert:hover {\n",
              "      background-color: #E2EBFA;\n",
              "      box-shadow: 0px 1px 2px rgba(60, 64, 67, 0.3), 0px 1px 3px 1px rgba(60, 64, 67, 0.15);\n",
              "      fill: #174EA6;\n",
              "    }\n",
              "\n",
              "    [theme=dark] .colab-df-convert {\n",
              "      background-color: #3B4455;\n",
              "      fill: #D2E3FC;\n",
              "    }\n",
              "\n",
              "    [theme=dark] .colab-df-convert:hover {\n",
              "      background-color: #434B5C;\n",
              "      box-shadow: 0px 1px 3px 1px rgba(0, 0, 0, 0.15);\n",
              "      filter: drop-shadow(0px 1px 2px rgba(0, 0, 0, 0.3));\n",
              "      fill: #FFFFFF;\n",
              "    }\n",
              "  </style>\n",
              "\n",
              "      <script>\n",
              "        const buttonEl =\n",
              "          document.querySelector('#df-0c0bed2f-acf5-4a76-8c07-a52eb1332548 button.colab-df-convert');\n",
              "        buttonEl.style.display =\n",
              "          google.colab.kernel.accessAllowed ? 'block' : 'none';\n",
              "\n",
              "        async function convertToInteractive(key) {\n",
              "          const element = document.querySelector('#df-0c0bed2f-acf5-4a76-8c07-a52eb1332548');\n",
              "          const dataTable =\n",
              "            await google.colab.kernel.invokeFunction('convertToInteractive',\n",
              "                                                     [key], {});\n",
              "          if (!dataTable) return;\n",
              "\n",
              "          const docLinkHtml = 'Like what you see? Visit the ' +\n",
              "            '<a target=\"_blank\" href=https://colab.research.google.com/notebooks/data_table.ipynb>data table notebook</a>'\n",
              "            + ' to learn more about interactive tables.';\n",
              "          element.innerHTML = '';\n",
              "          dataTable['output_type'] = 'display_data';\n",
              "          await google.colab.output.renderOutput(dataTable, element);\n",
              "          const docLink = document.createElement('div');\n",
              "          docLink.innerHTML = docLinkHtml;\n",
              "          element.appendChild(docLink);\n",
              "        }\n",
              "      </script>\n",
              "    </div>\n",
              "  </div>\n",
              "  "
            ]
          },
          "metadata": {},
          "execution_count": 9
        }
      ]
    },
    {
      "cell_type": "code",
      "source": [
        "#information about user_df dataset\n",
        "user_df.info()"
      ],
      "metadata": {
        "colab": {
          "base_uri": "https://localhost:8080/"
        },
        "id": "-Ak_Y6kxJYzv",
        "outputId": "9d8f9e58-fef2-4651-e63e-85343818607b"
      },
      "execution_count": null,
      "outputs": [
        {
          "output_type": "stream",
          "name": "stdout",
          "text": [
            "<class 'pandas.core.frame.DataFrame'>\n",
            "RangeIndex: 278858 entries, 0 to 278857\n",
            "Data columns (total 3 columns):\n",
            " #   Column    Non-Null Count   Dtype  \n",
            "---  ------    --------------   -----  \n",
            " 0   User-ID   278858 non-null  int64  \n",
            " 1   Location  278858 non-null  object \n",
            " 2   Age       168096 non-null  float64\n",
            "dtypes: float64(1), int64(1), object(1)\n",
            "memory usage: 6.4+ MB\n"
          ]
        }
      ]
    },
    {
      "cell_type": "code",
      "source": [
        "#Checking duplicate observation\n",
        "user_df.duplicated().sum()"
      ],
      "metadata": {
        "colab": {
          "base_uri": "https://localhost:8080/"
        },
        "id": "U9BW1994JUF-",
        "outputId": "c3a02325-c0d9-4923-dd01-6807a0240b13"
      },
      "execution_count": null,
      "outputs": [
        {
          "output_type": "execute_result",
          "data": {
            "text/plain": [
              "0"
            ]
          },
          "metadata": {},
          "execution_count": 10
        }
      ]
    },
    {
      "cell_type": "code",
      "source": [
        "#checking null values\n",
        "user_df.isnull().sum()"
      ],
      "metadata": {
        "colab": {
          "base_uri": "https://localhost:8080/"
        },
        "id": "_p9Bs7eo524K",
        "outputId": "0865e942-86e2-474d-b30c-217e8f2712ad"
      },
      "execution_count": null,
      "outputs": [
        {
          "output_type": "execute_result",
          "data": {
            "text/plain": [
              "User-ID          0\n",
              "Location         0\n",
              "Age         110762\n",
              "dtype: int64"
            ]
          },
          "metadata": {},
          "execution_count": 25
        }
      ]
    },
    {
      "cell_type": "markdown",
      "source": [
        "### Top 10 authors with highest numbers of book"
      ],
      "metadata": {
        "id": "xT6jV7gm_Hvi"
      }
    },
    {
      "cell_type": "code",
      "source": [
        "top_authors=Book_df.groupby('Book-Author').agg({'Book-Title':'count'}).sort_values(by=\"Book-Title\",ascending=False).head(10).reset_index()\n",
        "top_authors.rename(columns = {'Book-Author':'Author','Book-Title':\"count\"},inplace=True)"
      ],
      "metadata": {
        "id": "U3MeMY2n_Zmq"
      },
      "execution_count": null,
      "outputs": []
    },
    {
      "cell_type": "code",
      "source": [
        "top_authors"
      ],
      "metadata": {
        "colab": {
          "base_uri": "https://localhost:8080/",
          "height": 363
        },
        "id": "pPxxsBXSBYUB",
        "outputId": "ce78e22d-ad0f-4ea2-b269-e52a754ace5a"
      },
      "execution_count": null,
      "outputs": [
        {
          "output_type": "execute_result",
          "data": {
            "text/plain": [
              "                Author  count\n",
              "0      Agatha Christie    632\n",
              "1  William Shakespeare    567\n",
              "2         Stephen King    524\n",
              "3        Ann M. Martin    423\n",
              "4        Carolyn Keene    373\n",
              "5      Francine Pascal    372\n",
              "6         Isaac Asimov    330\n",
              "7         Nora Roberts    315\n",
              "8     Barbara Cartland    307\n",
              "9      Charles Dickens    302"
            ],
            "text/html": [
              "\n",
              "  <div id=\"df-268b5a9f-f20d-43fe-9424-6eeaec62b81d\">\n",
              "    <div class=\"colab-df-container\">\n",
              "      <div>\n",
              "<style scoped>\n",
              "    .dataframe tbody tr th:only-of-type {\n",
              "        vertical-align: middle;\n",
              "    }\n",
              "\n",
              "    .dataframe tbody tr th {\n",
              "        vertical-align: top;\n",
              "    }\n",
              "\n",
              "    .dataframe thead th {\n",
              "        text-align: right;\n",
              "    }\n",
              "</style>\n",
              "<table border=\"1\" class=\"dataframe\">\n",
              "  <thead>\n",
              "    <tr style=\"text-align: right;\">\n",
              "      <th></th>\n",
              "      <th>Author</th>\n",
              "      <th>count</th>\n",
              "    </tr>\n",
              "  </thead>\n",
              "  <tbody>\n",
              "    <tr>\n",
              "      <th>0</th>\n",
              "      <td>Agatha Christie</td>\n",
              "      <td>632</td>\n",
              "    </tr>\n",
              "    <tr>\n",
              "      <th>1</th>\n",
              "      <td>William Shakespeare</td>\n",
              "      <td>567</td>\n",
              "    </tr>\n",
              "    <tr>\n",
              "      <th>2</th>\n",
              "      <td>Stephen King</td>\n",
              "      <td>524</td>\n",
              "    </tr>\n",
              "    <tr>\n",
              "      <th>3</th>\n",
              "      <td>Ann M. Martin</td>\n",
              "      <td>423</td>\n",
              "    </tr>\n",
              "    <tr>\n",
              "      <th>4</th>\n",
              "      <td>Carolyn Keene</td>\n",
              "      <td>373</td>\n",
              "    </tr>\n",
              "    <tr>\n",
              "      <th>5</th>\n",
              "      <td>Francine Pascal</td>\n",
              "      <td>372</td>\n",
              "    </tr>\n",
              "    <tr>\n",
              "      <th>6</th>\n",
              "      <td>Isaac Asimov</td>\n",
              "      <td>330</td>\n",
              "    </tr>\n",
              "    <tr>\n",
              "      <th>7</th>\n",
              "      <td>Nora Roberts</td>\n",
              "      <td>315</td>\n",
              "    </tr>\n",
              "    <tr>\n",
              "      <th>8</th>\n",
              "      <td>Barbara Cartland</td>\n",
              "      <td>307</td>\n",
              "    </tr>\n",
              "    <tr>\n",
              "      <th>9</th>\n",
              "      <td>Charles Dickens</td>\n",
              "      <td>302</td>\n",
              "    </tr>\n",
              "  </tbody>\n",
              "</table>\n",
              "</div>\n",
              "      <button class=\"colab-df-convert\" onclick=\"convertToInteractive('df-268b5a9f-f20d-43fe-9424-6eeaec62b81d')\"\n",
              "              title=\"Convert this dataframe to an interactive table.\"\n",
              "              style=\"display:none;\">\n",
              "        \n",
              "  <svg xmlns=\"http://www.w3.org/2000/svg\" height=\"24px\"viewBox=\"0 0 24 24\"\n",
              "       width=\"24px\">\n",
              "    <path d=\"M0 0h24v24H0V0z\" fill=\"none\"/>\n",
              "    <path d=\"M18.56 5.44l.94 2.06.94-2.06 2.06-.94-2.06-.94-.94-2.06-.94 2.06-2.06.94zm-11 1L8.5 8.5l.94-2.06 2.06-.94-2.06-.94L8.5 2.5l-.94 2.06-2.06.94zm10 10l.94 2.06.94-2.06 2.06-.94-2.06-.94-.94-2.06-.94 2.06-2.06.94z\"/><path d=\"M17.41 7.96l-1.37-1.37c-.4-.4-.92-.59-1.43-.59-.52 0-1.04.2-1.43.59L10.3 9.45l-7.72 7.72c-.78.78-.78 2.05 0 2.83L4 21.41c.39.39.9.59 1.41.59.51 0 1.02-.2 1.41-.59l7.78-7.78 2.81-2.81c.8-.78.8-2.07 0-2.86zM5.41 20L4 18.59l7.72-7.72 1.47 1.35L5.41 20z\"/>\n",
              "  </svg>\n",
              "      </button>\n",
              "      \n",
              "  <style>\n",
              "    .colab-df-container {\n",
              "      display:flex;\n",
              "      flex-wrap:wrap;\n",
              "      gap: 12px;\n",
              "    }\n",
              "\n",
              "    .colab-df-convert {\n",
              "      background-color: #E8F0FE;\n",
              "      border: none;\n",
              "      border-radius: 50%;\n",
              "      cursor: pointer;\n",
              "      display: none;\n",
              "      fill: #1967D2;\n",
              "      height: 32px;\n",
              "      padding: 0 0 0 0;\n",
              "      width: 32px;\n",
              "    }\n",
              "\n",
              "    .colab-df-convert:hover {\n",
              "      background-color: #E2EBFA;\n",
              "      box-shadow: 0px 1px 2px rgba(60, 64, 67, 0.3), 0px 1px 3px 1px rgba(60, 64, 67, 0.15);\n",
              "      fill: #174EA6;\n",
              "    }\n",
              "\n",
              "    [theme=dark] .colab-df-convert {\n",
              "      background-color: #3B4455;\n",
              "      fill: #D2E3FC;\n",
              "    }\n",
              "\n",
              "    [theme=dark] .colab-df-convert:hover {\n",
              "      background-color: #434B5C;\n",
              "      box-shadow: 0px 1px 3px 1px rgba(0, 0, 0, 0.15);\n",
              "      filter: drop-shadow(0px 1px 2px rgba(0, 0, 0, 0.3));\n",
              "      fill: #FFFFFF;\n",
              "    }\n",
              "  </style>\n",
              "\n",
              "      <script>\n",
              "        const buttonEl =\n",
              "          document.querySelector('#df-268b5a9f-f20d-43fe-9424-6eeaec62b81d button.colab-df-convert');\n",
              "        buttonEl.style.display =\n",
              "          google.colab.kernel.accessAllowed ? 'block' : 'none';\n",
              "\n",
              "        async function convertToInteractive(key) {\n",
              "          const element = document.querySelector('#df-268b5a9f-f20d-43fe-9424-6eeaec62b81d');\n",
              "          const dataTable =\n",
              "            await google.colab.kernel.invokeFunction('convertToInteractive',\n",
              "                                                     [key], {});\n",
              "          if (!dataTable) return;\n",
              "\n",
              "          const docLinkHtml = 'Like what you see? Visit the ' +\n",
              "            '<a target=\"_blank\" href=https://colab.research.google.com/notebooks/data_table.ipynb>data table notebook</a>'\n",
              "            + ' to learn more about interactive tables.';\n",
              "          element.innerHTML = '';\n",
              "          dataTable['output_type'] = 'display_data';\n",
              "          await google.colab.output.renderOutput(dataTable, element);\n",
              "          const docLink = document.createElement('div');\n",
              "          docLink.innerHTML = docLinkHtml;\n",
              "          element.appendChild(docLink);\n",
              "        }\n",
              "      </script>\n",
              "    </div>\n",
              "  </div>\n",
              "  "
            ]
          },
          "metadata": {},
          "execution_count": 55
        }
      ]
    },
    {
      "cell_type": "code",
      "source": [
        "plt.figure(figsize=(12,7))\n",
        "sns.barplot(data=top_authors, x=\"Author\", y=\"count\")\n",
        "plt.title(\"Top 10 authors with highest numbers of book\",fontsize=20);\n",
        "plt.xticks(rotation=90,fontsize=15)\n",
        "plt.xlabel(\"Authors\",fontsize=20)\n",
        "plt.ylabel(\"Number Of Books\",fontsize=20)\n"
      ],
      "metadata": {
        "colab": {
          "base_uri": "https://localhost:8080/",
          "height": 637
        },
        "id": "qg271LB9A1ZT",
        "outputId": "6ebecd36-10cf-4916-dbbb-bfc50b0f8c9c"
      },
      "execution_count": null,
      "outputs": [
        {
          "output_type": "execute_result",
          "data": {
            "text/plain": [
              "Text(0, 0.5, 'Number Of Books')"
            ]
          },
          "metadata": {},
          "execution_count": 52
        },
        {
          "output_type": "display_data",
          "data": {
            "text/plain": [
              "<Figure size 864x504 with 1 Axes>"
            ],
            "image/png": "[encoded data removed]"
          },
          "metadata": {
            "needs_background": "light"
          }
        }
      ]
    },
    {
      "cell_type": "markdown",
      "source": [
        "### Unique values for year of publication column"
      ],
      "metadata": {
        "id": "1LhjrDftOz4B"
      }
    },
    {
      "cell_type": "code",
      "source": [
        "Book_df['Year-Of-Publication'].unique()"
      ],
      "metadata": {
        "colab": {
          "base_uri": "https://localhost:8080/"
        },
        "id": "zpN_uwWNPFA8",
        "outputId": "9b228e99-5eb8-4386-fbd7-be6597000539"
      },
      "execution_count": null,
      "outputs": [
        {
          "output_type": "execute_result",
          "data": {
            "text/plain": [
              "array([2002, 2001, 1991, 1999, 2000, 1993, 1996, 1988, 2004, 1998, 1994,\n",
              "       2003, 1997, 1983, 1979, 1995, 1982, 1985, 1992, 1986, 1978, 1980,\n",
              "       1952, 1987, 1990, 1981, 1989, 1984, 0, 1968, 1961, 1958, 1974,\n",
              "       1976, 1971, 1977, 1975, 1965, 1941, 1970, 1962, 1973, 1972, 1960,\n",
              "       1966, 1920, 1956, 1959, 1953, 1951, 1942, 1963, 1964, 1969, 1954,\n",
              "       1950, 1967, 2005, 1957, 1940, 1937, 1955, 1946, 1936, 1930, 2011,\n",
              "       1925, 1948, 1943, 1947, 1945, 1923, 2020, 1939, 1926, 1938, 2030,\n",
              "       1911, 1904, 1949, 1932, 1928, 1929, 1927, 1931, 1914, 2050, 1934,\n",
              "       1910, 1933, 1902, 1924, 1921, 1900, 2038, 2026, 1944, 1917, 1901,\n",
              "       2010, 1908, 1906, 1935, 1806, 2021, '2000', '1995', '1999', '2004',\n",
              "       '2003', '1990', '1994', '1986', '1989', '2002', '1981', '1993',\n",
              "       '1983', '1982', '1976', '1991', '1977', '1998', '1992', '1996',\n",
              "       '0', '1997', '2001', '1974', '1968', '1987', '1984', '1988',\n",
              "       '1963', '1956', '1970', '1985', '1978', '1973', '1980', '1979',\n",
              "       '1975', '1969', '1961', '1965', '1939', '1958', '1950', '1953',\n",
              "       '1966', '1971', '1959', '1972', '1955', '1957', '1945', '1960',\n",
              "       '1967', '1932', '1924', '1964', '2012', '1911', '1927', '1948',\n",
              "       '1962', '2006', '1952', '1940', '1951', '1931', '1954', '2005',\n",
              "       '1930', '1941', '1944', 'DK Publishing Inc', '1943', '1938',\n",
              "       '1900', '1942', '1923', '1920', '1933', 'Gallimard', '1909',\n",
              "       '1946', '2008', '1378', '2030', '1936', '1947', '2011', '2020',\n",
              "       '1919', '1949', '1922', '1897', '2024', '1376', '1926', '2037'],\n",
              "      dtype=object)"
            ]
          },
          "metadata": {},
          "execution_count": 19
        }
      ]
    },
    {
      "cell_type": "code",
      "source": [
        "#Checking the rows with wrong value\n",
        "Book_df.loc[(Book_df['Year-Of-Publication'] == 'DK Publishing Inc') | (Book_df['Year-Of-Publication'] == 'Gallimard'),:]"
      ],
      "metadata": {
        "colab": {
          "base_uri": "https://localhost:8080/",
          "height": 381
        },
        "id": "yI0K3rmRPFIf",
        "outputId": "424ebfbf-864c-4018-879d-6bd6b7a38545"
      },
      "execution_count": null,
      "outputs": [
        {
          "output_type": "execute_result",
          "data": {
            "text/plain": [
              "              ISBN                                         Book-Title  \\\n",
              "209538  078946697X  DK Readers: Creating the X-Men, How It All Beg...   \n",
              "220731  2070426769  Peuple du ciel, suivi de 'Les Bergers\\\";Jean-M...   \n",
              "221678  0789466953  DK Readers: Creating the X-Men, How Comic Book...   \n",
              "\n",
              "       Book-Author Year-Of-Publication  \\\n",
              "209538        2000   DK Publishing Inc   \n",
              "220731        2003           Gallimard   \n",
              "221678        2000   DK Publishing Inc   \n",
              "\n",
              "                                                Publisher  \\\n",
              "209538  http://images.amazon.com/images/P/078946697X.0...   \n",
              "220731  http://images.amazon.com/images/P/2070426769.0...   \n",
              "221678  http://images.amazon.com/images/P/0789466953.0...   \n",
              "\n",
              "                                              Image-URL-S  \\\n",
              "209538  http://images.amazon.com/images/P/078946697X.0...   \n",
              "220731  http://images.amazon.com/images/P/2070426769.0...   \n",
              "221678  http://images.amazon.com/images/P/0789466953.0...   \n",
              "\n",
              "                                              Image-URL-M Image-URL-L  \n",
              "209538  http://images.amazon.com/images/P/078946697X.0...         NaN  \n",
              "220731  http://images.amazon.com/images/P/2070426769.0...         NaN  \n",
              "221678  http://images.amazon.com/images/P/0789466953.0...         NaN  "
            ],
            "text/html": [
              "\n",
              "  <div id=\"df-8c67c5e6-879f-44f6-a7ee-102892c28064\">\n",
              "    <div class=\"colab-df-container\">\n",
              "      <div>\n",
              "<style scoped>\n",
              "    .dataframe tbody tr th:only-of-type {\n",
              "        vertical-align: middle;\n",
              "    }\n",
              "\n",
              "    .dataframe tbody tr th {\n",
              "        vertical-align: top;\n",
              "    }\n",
              "\n",
              "    .dataframe thead th {\n",
              "        text-align: right;\n",
              "    }\n",
              "</style>\n",
              "<table border=\"1\" class=\"dataframe\">\n",
              "  <thead>\n",
              "    <tr style=\"text-align: right;\">\n",
              "      <th></th>\n",
              "      <th>ISBN</th>\n",
              "      <th>Book-Title</th>\n",
              "      <th>Book-Author</th>\n",
              "      <th>Year-Of-Publication</th>\n",
              "      <th>Publisher</th>\n",
              "      <th>Image-URL-S</th>\n",
              "      <th>Image-URL-M</th>\n",
              "      <th>Image-URL-L</th>\n",
              "    </tr>\n",
              "  </thead>\n",
              "  <tbody>\n",
              "    <tr>\n",
              "      <th>209538</th>\n",
              "      <td>078946697X</td>\n",
              "      <td>DK Readers: Creating the X-Men, How It All Beg...</td>\n",
              "      <td>2000</td>\n",
              "      <td>DK Publishing Inc</td>\n",
              "      <td>http://images.amazon.com/images/P/078946697X.0...</td>\n",
              "      <td>http://images.amazon.com/images/P/078946697X.0...</td>\n",
              "      <td>http://images.amazon.com/images/P/078946697X.0...</td>\n",
              "      <td>NaN</td>\n",
              "    </tr>\n",
              "    <tr>\n",
              "      <th>220731</th>\n",
              "      <td>2070426769</td>\n",
              "      <td>Peuple du ciel, suivi de 'Les Bergers\\\";Jean-M...</td>\n",
              "      <td>2003</td>\n",
              "      <td>Gallimard</td>\n",
              "      <td>http://images.amazon.com/images/P/2070426769.0...</td>\n",
              "      <td>http://images.amazon.com/images/P/2070426769.0...</td>\n",
              "      <td>http://images.amazon.com/images/P/2070426769.0...</td>\n",
              "      <td>NaN</td>\n",
              "    </tr>\n",
              "    <tr>\n",
              "      <th>221678</th>\n",
              "      <td>0789466953</td>\n",
              "      <td>DK Readers: Creating the X-Men, How Comic Book...</td>\n",
              "      <td>2000</td>\n",
              "      <td>DK Publishing Inc</td>\n",
              "      <td>http://images.amazon.com/images/P/0789466953.0...</td>\n",
              "      <td>http://images.amazon.com/images/P/0789466953.0...</td>\n",
              "      <td>http://images.amazon.com/images/P/0789466953.0...</td>\n",
              "      <td>NaN</td>\n",
              "    </tr>\n",
              "  </tbody>\n",
              "</table>\n",
              "</div>\n",
              "      <button class=\"colab-df-convert\" onclick=\"convertToInteractive('df-8c67c5e6-879f-44f6-a7ee-102892c28064')\"\n",
              "              title=\"Convert this dataframe to an interactive table.\"\n",
              "              style=\"display:none;\">\n",
              "        \n",
              "  <svg xmlns=\"http://www.w3.org/2000/svg\" height=\"24px\"viewBox=\"0 0 24 24\"\n",
              "       width=\"24px\">\n",
              "    <path d=\"M0 0h24v24H0V0z\" fill=\"none\"/>\n",
              "    <path d=\"M18.56 5.44l.94 2.06.94-2.06 2.06-.94-2.06-.94-.94-2.06-.94 2.06-2.06.94zm-11 1L8.5 8.5l.94-2.06 2.06-.94-2.06-.94L8.5 2.5l-.94 2.06-2.06.94zm10 10l.94 2.06.94-2.06 2.06-.94-2.06-.94-.94-2.06-.94 2.06-2.06.94z\"/><path d=\"M17.41 7.96l-1.37-1.37c-.4-.4-.92-.59-1.43-.59-.52 0-1.04.2-1.43.59L10.3 9.45l-7.72 7.72c-.78.78-.78 2.05 0 2.83L4 21.41c.39.39.9.59 1.41.59.51 0 1.02-.2 1.41-.59l7.78-7.78 2.81-2.81c.8-.78.8-2.07 0-2.86zM5.41 20L4 18.59l7.72-7.72 1.47 1.35L5.41 20z\"/>\n",
              "  </svg>\n",
              "      </button>\n",
              "      \n",
              "  <style>\n",
              "    .colab-df-container {\n",
              "      display:flex;\n",
              "      flex-wrap:wrap;\n",
              "      gap: 12px;\n",
              "    }\n",
              "\n",
              "    .colab-df-convert {\n",
              "      background-color: #E8F0FE;\n",
              "      border: none;\n",
              "      border-radius: 50%;\n",
              "      cursor: pointer;\n",
              "      display: none;\n",
              "      fill: #1967D2;\n",
              "      height: 32px;\n",
              "      padding: 0 0 0 0;\n",
              "      width: 32px;\n",
              "    }\n",
              "\n",
              "    .colab-df-convert:hover {\n",
              "      background-color: #E2EBFA;\n",
              "      box-shadow: 0px 1px 2px rgba(60, 64, 67, 0.3), 0px 1px 3px 1px rgba(60, 64, 67, 0.15);\n",
              "      fill: #174EA6;\n",
              "    }\n",
              "\n",
              "    [theme=dark] .colab-df-convert {\n",
              "      background-color: #3B4455;\n",
              "      fill: #D2E3FC;\n",
              "    }\n",
              "\n",
              "    [theme=dark] .colab-df-convert:hover {\n",
              "      background-color: #434B5C;\n",
              "      box-shadow: 0px 1px 3px 1px rgba(0, 0, 0, 0.15);\n",
              "      filter: drop-shadow(0px 1px 2px rgba(0, 0, 0, 0.3));\n",
              "      fill: #FFFFFF;\n",
              "    }\n",
              "  </style>\n",
              "\n",
              "      <script>\n",
              "        const buttonEl =\n",
              "          document.querySelector('#df-8c67c5e6-879f-44f6-a7ee-102892c28064 button.colab-df-convert');\n",
              "        buttonEl.style.display =\n",
              "          google.colab.kernel.accessAllowed ? 'block' : 'none';\n",
              "\n",
              "        async function convertToInteractive(key) {\n",
              "          const element = document.querySelector('#df-8c67c5e6-879f-44f6-a7ee-102892c28064');\n",
              "          const dataTable =\n",
              "            await google.colab.kernel.invokeFunction('convertToInteractive',\n",
              "                                                     [key], {});\n",
              "          if (!dataTable) return;\n",
              "\n",
              "          const docLinkHtml = 'Like what you see? Visit the ' +\n",
              "            '<a target=\"_blank\" href=https://colab.research.google.com/notebooks/data_table.ipynb>data table notebook</a>'\n",
              "            + ' to learn more about interactive tables.';\n",
              "          element.innerHTML = '';\n",
              "          dataTable['output_type'] = 'display_data';\n",
              "          await google.colab.output.renderOutput(dataTable, element);\n",
              "          const docLink = document.createElement('div');\n",
              "          docLink.innerHTML = docLinkHtml;\n",
              "          element.appendChild(docLink);\n",
              "        }\n",
              "      </script>\n",
              "    </div>\n",
              "  </div>\n",
              "  "
            ]
          },
          "metadata": {},
          "execution_count": 20
        }
      ]
    },
    {
      "cell_type": "code",
      "source": [
        "# correct the 'Year of Publication' column\n",
        "#ISBN = '0789466953'\n",
        "Book_df.loc[Book_df.ISBN == '0789466953','Year-Of-Publication'] = 2000\n",
        "Book_df.loc[Book_df.ISBN == '0789466953','Book-Author'] = \"James Buckley\"\n",
        "Book_df.loc[Book_df.ISBN == '0789466953','Publisher'] = \"DK Publishing Inc\"\n",
        "Book_df.loc[Book_df.ISBN == '0789466953','Book-Title'] = \"DK Readers: Creating the X-Men, How Comic Book_df Come to Life(Level 4: Proficient Readers)\"\n",
        "\n",
        "#ISBN = '078946697X'\n",
        "Book_df.loc[Book_df.ISBN == '078946697X','Year-Of-Publication'] = 2000\n",
        "Book_df.loc[Book_df.ISBN == '078946697X','Book-Author'] = \"Michael Teitelbaum\"\n",
        "Book_df.loc[Book_df.ISBN == '078946697X','Publisher'] = \"DK Publishing Inc\"\n",
        "Book_df.loc[Book_df.ISBN == '078946697X','Book-Title'] = \"DK Readers: Creating the X-Men, How It All Began(Level 4: Proficient Readers)\"\n",
        "\n",
        "#ISBN = '2070426769'\n",
        "Book_df.loc[Book_df.ISBN == '2070426769','Year-Of-Publication'] = 2003\n",
        "Book_df.loc[Book_df.ISBN == '2070426769','Book-Author'] = \"Jean-Marie Gustave Le ClÃƒ?Ã‚Â©zio\"\n",
        "Book_df.loc[Book_df.ISBN == '2070426769','Publisher'] = \"Gallimard\"\n",
        "Book_df.loc[Book_df.ISBN == '2070426769','Book-Title'] = \"Peuple du ciel, suivi de 'Les Bergers'\"\n",
        "\n",
        "\n",
        "Book_df.loc[(Book_df.ISBN == '0789466953') | (Book_df.ISBN == '078946697X') | (Book_df.ISBN == '2070426769'),:]"
      ],
      "metadata": {
        "colab": {
          "base_uri": "https://localhost:8080/",
          "height": 500
        },
        "id": "JCVrNldmQX7V",
        "outputId": "27f8e4e1-f90d-4689-ed46-dee2202ceed9"
      },
      "execution_count": null,
      "outputs": [
        {
          "output_type": "execute_result",
          "data": {
            "text/plain": [
              "              ISBN                                         Book-Title  \\\n",
              "209538  078946697X  DK Readers: Creating the X-Men, How It All Beg...   \n",
              "220731  2070426769             Peuple du ciel, suivi de 'Les Bergers'   \n",
              "221678  0789466953  DK Readers: Creating the X-Men, How Comic Book...   \n",
              "\n",
              "                               Book-Author Year-Of-Publication  \\\n",
              "209538                  Michael Teitelbaum                2000   \n",
              "220731  Jean-Marie Gustave Le ClÃƒ?Ã‚Â©zio                2003   \n",
              "221678                       James Buckley                2000   \n",
              "\n",
              "                Publisher                                        Image-URL-S  \\\n",
              "209538  DK Publishing Inc  http://images.amazon.com/images/P/078946697X.0...   \n",
              "220731          Gallimard  http://images.amazon.com/images/P/2070426769.0...   \n",
              "221678  DK Publishing Inc  http://images.amazon.com/images/P/0789466953.0...   \n",
              "\n",
              "                                              Image-URL-M Image-URL-L  \n",
              "209538  http://images.amazon.com/images/P/078946697X.0...         NaN  \n",
              "220731  http://images.amazon.com/images/P/2070426769.0...         NaN  \n",
              "221678  http://images.amazon.com/images/P/0789466953.0...         NaN  "
            ],
            "text/html": [
              "\n",
              "  <div id=\"df-8036a89c-fdcf-43d3-be2d-33c0ba81475b\">\n",
              "    <div class=\"colab-df-container\">\n",
              "      <div>\n",
              "<style scoped>\n",
              "    .dataframe tbody tr th:only-of-type {\n",
              "        vertical-align: middle;\n",
              "    }\n",
              "\n",
              "    .dataframe tbody tr th {\n",
              "        vertical-align: top;\n",
              "    }\n",
              "\n",
              "    .dataframe thead th {\n",
              "        text-align: right;\n",
              "    }\n",
              "</style>\n",
              "<table border=\"1\" class=\"dataframe\">\n",
              "  <thead>\n",
              "    <tr style=\"text-align: right;\">\n",
              "      <th></th>\n",
              "      <th>ISBN</th>\n",
              "      <th>Book-Title</th>\n",
              "      <th>Book-Author</th>\n",
              "      <th>Year-Of-Publication</th>\n",
              "      <th>Publisher</th>\n",
              "      <th>Image-URL-S</th>\n",
              "      <th>Image-URL-M</th>\n",
              "      <th>Image-URL-L</th>\n",
              "    </tr>\n",
              "  </thead>\n",
              "  <tbody>\n",
              "    <tr>\n",
              "      <th>209538</th>\n",
              "      <td>078946697X</td>\n",
              "      <td>DK Readers: Creating the X-Men, How It All Beg...</td>\n",
              "      <td>Michael Teitelbaum</td>\n",
              "      <td>2000</td>\n",
              "      <td>DK Publishing Inc</td>\n",
              "      <td>http://images.amazon.com/images/P/078946697X.0...</td>\n",
              "      <td>http://images.amazon.com/images/P/078946697X.0...</td>\n",
              "      <td>NaN</td>\n",
              "    </tr>\n",
              "    <tr>\n",
              "      <th>220731</th>\n",
              "      <td>2070426769</td>\n",
              "      <td>Peuple du ciel, suivi de 'Les Bergers'</td>\n",
              "      <td>Jean-Marie Gustave Le ClÃƒ?Ã‚Â©zio</td>\n",
              "      <td>2003</td>\n",
              "      <td>Gallimard</td>\n",
              "      <td>http://images.amazon.com/images/P/2070426769.0...</td>\n",
              "      <td>http://images.amazon.com/images/P/2070426769.0...</td>\n",
              "      <td>NaN</td>\n",
              "    </tr>\n",
              "    <tr>\n",
              "      <th>221678</th>\n",
              "      <td>0789466953</td>\n",
              "      <td>DK Readers: Creating the X-Men, How Comic Book...</td>\n",
              "      <td>James Buckley</td>\n",
              "      <td>2000</td>\n",
              "      <td>DK Publishing Inc</td>\n",
              "      <td>http://images.amazon.com/images/P/0789466953.0...</td>\n",
              "      <td>http://images.amazon.com/images/P/0789466953.0...</td>\n",
              "      <td>NaN</td>\n",
              "    </tr>\n",
              "  </tbody>\n",
              "</table>\n",
              "</div>\n",
              "      <button class=\"colab-df-convert\" onclick=\"convertToInteractive('df-8036a89c-fdcf-43d3-be2d-33c0ba81475b')\"\n",
              "              title=\"Convert this dataframe to an interactive table.\"\n",
              "              style=\"display:none;\">\n",
              "        \n",
              "  <svg xmlns=\"http://www.w3.org/2000/svg\" height=\"24px\"viewBox=\"0 0 24 24\"\n",
              "       width=\"24px\">\n",
              "    <path d=\"M0 0h24v24H0V0z\" fill=\"none\"/>\n",
              "    <path d=\"M18.56 5.44l.94 2.06.94-2.06 2.06-.94-2.06-.94-.94-2.06-.94 2.06-2.06.94zm-11 1L8.5 8.5l.94-2.06 2.06-.94-2.06-.94L8.5 2.5l-.94 2.06-2.06.94zm10 10l.94 2.06.94-2.06 2.06-.94-2.06-.94-.94-2.06-.94 2.06-2.06.94z\"/><path d=\"M17.41 7.96l-1.37-1.37c-.4-.4-.92-.59-1.43-.59-.52 0-1.04.2-1.43.59L10.3 9.45l-7.72 7.72c-.78.78-.78 2.05 0 2.83L4 21.41c.39.39.9.59 1.41.59.51 0 1.02-.2 1.41-.59l7.78-7.78 2.81-2.81c.8-.78.8-2.07 0-2.86zM5.41 20L4 18.59l7.72-7.72 1.47 1.35L5.41 20z\"/>\n",
              "  </svg>\n",
              "      </button>\n",
              "      \n",
              "  <style>\n",
              "    .colab-df-container {\n",
              "      display:flex;\n",
              "      flex-wrap:wrap;\n",
              "      gap: 12px;\n",
              "    }\n",
              "\n",
              "    .colab-df-convert {\n",
              "      background-color: #E8F0FE;\n",
              "      border: none;\n",
              "      border-radius: 50%;\n",
              "      cursor: pointer;\n",
              "      display: none;\n",
              "      fill: #1967D2;\n",
              "      height: 32px;\n",
              "      padding: 0 0 0 0;\n",
              "      width: 32px;\n",
              "    }\n",
              "\n",
              "    .colab-df-convert:hover {\n",
              "      background-color: #E2EBFA;\n",
              "      box-shadow: 0px 1px 2px rgba(60, 64, 67, 0.3), 0px 1px 3px 1px rgba(60, 64, 67, 0.15);\n",
              "      fill: #174EA6;\n",
              "    }\n",
              "\n",
              "    [theme=dark] .colab-df-convert {\n",
              "      background-color: #3B4455;\n",
              "      fill: #D2E3FC;\n",
              "    }\n",
              "\n",
              "    [theme=dark] .colab-df-convert:hover {\n",
              "      background-color: #434B5C;\n",
              "      box-shadow: 0px 1px 3px 1px rgba(0, 0, 0, 0.15);\n",
              "      filter: drop-shadow(0px 1px 2px rgba(0, 0, 0, 0.3));\n",
              "      fill: #FFFFFF;\n",
              "    }\n",
              "  </style>\n",
              "\n",
              "      <script>\n",
              "        const buttonEl =\n",
              "          document.querySelector('#df-8036a89c-fdcf-43d3-be2d-33c0ba81475b button.colab-df-convert');\n",
              "        buttonEl.style.display =\n",
              "          google.colab.kernel.accessAllowed ? 'block' : 'none';\n",
              "\n",
              "        async function convertToInteractive(key) {\n",
              "          const element = document.querySelector('#df-8036a89c-fdcf-43d3-be2d-33c0ba81475b');\n",
              "          const dataTable =\n",
              "            await google.colab.kernel.invokeFunction('convertToInteractive',\n",
              "                                                     [key], {});\n",
              "          if (!dataTable) return;\n",
              "\n",
              "          const docLinkHtml = 'Like what you see? Visit the ' +\n",
              "            '<a target=\"_blank\" href=https://colab.research.google.com/notebooks/data_table.ipynb>data table notebook</a>'\n",
              "            + ' to learn more about interactive tables.';\n",
              "          element.innerHTML = '';\n",
              "          dataTable['output_type'] = 'display_data';\n",
              "          await google.colab.output.renderOutput(dataTable, element);\n",
              "          const docLink = document.createElement('div');\n",
              "          docLink.innerHTML = docLinkHtml;\n",
              "          element.appendChild(docLink);\n",
              "        }\n",
              "      </script>\n",
              "    </div>\n",
              "  </div>\n",
              "  "
            ]
          },
          "metadata": {},
          "execution_count": 21
        }
      ]
    },
    {
      "cell_type": "code",
      "source": [
        "#Converting Year-Of-Publication column from string to integer\n",
        "Book_df['Year-Of-Publication'] = Book_df['Year-Of-Publication'].apply(lambda x: int(x))"
      ],
      "metadata": {
        "id": "T-hw0hvHRcIt"
      },
      "execution_count": null,
      "outputs": []
    },
    {
      "cell_type": "code",
      "source": [
        "#fill the wrong entries with Nan values.\n",
        "Book_df.loc[(Book_df['Year-Of-Publication'] >= 2006) | (Book_df['Year-Of-Publication'] == 0),'Year-Of-Publication'] = np.NAN\n",
        "\n",
        "#replacing NaN values with median \n",
        "Book_df['Year-Of-Publication'].fillna(round(Book_df['Year-Of-Publication'].median()), inplace=True)"
      ],
      "metadata": {
        "id": "dcbarUb7SgWG"
      },
      "execution_count": null,
      "outputs": []
    },
    {
      "cell_type": "code",
      "source": [
        "sns.distplot(Book_df['Year-Of-Publication'])"
      ],
      "metadata": {
        "colab": {
          "base_uri": "https://localhost:8080/",
          "height": 296
        },
        "id": "c1jCNjRWS3ho",
        "outputId": "82972bdc-9a0c-4ded-98a1-edc4cb6788d5"
      },
      "execution_count": null,
      "outputs": [
        {
          "output_type": "execute_result",
          "data": {
            "text/plain": [
              "<matplotlib.axes._subplots.AxesSubplot at 0x7f232c160f50>"
            ]
          },
          "metadata": {},
          "execution_count": 24
        },
        {
          "output_type": "display_data",
          "data": {
            "text/plain": [
              "<Figure size 432x288 with 1 Axes>"
            ],
            "image/png": "[encoded data removed]"
          },
          "metadata": {
            "needs_background": "light"
          }
        }
      ]
    },
    {
      "cell_type": "markdown",
      "source": [
        "### Top 10 Publishers with highest numbers of book"
      ],
      "metadata": {
        "id": "kMv2EcTREglB"
      }
    },
    {
      "cell_type": "code",
      "source": [
        "top_Publisher=Book_df.groupby('Publisher').agg({'Book-Title':'count'}).sort_values(by=\"Book-Title\",ascending=False).head(10).reset_index()\n",
        "top_Publisher.rename(columns = {'Publisher':'Publisher','Book-Title':\"count\"},inplace=True)"
      ],
      "metadata": {
        "id": "gDkjC8XaEglD"
      },
      "execution_count": null,
      "outputs": []
    },
    {
      "cell_type": "code",
      "source": [
        "top_Publisher"
      ],
      "metadata": {
        "colab": {
          "base_uri": "https://localhost:8080/",
          "height": 363
        },
        "outputId": "db5f233b-bbea-42ed-e6e7-ce6cd8542013",
        "id": "azWnsfZdEglE"
      },
      "execution_count": null,
      "outputs": [
        {
          "output_type": "execute_result",
          "data": {
            "text/plain": [
              "                  Publisher  count\n",
              "0                 Harlequin   7535\n",
              "1                Silhouette   4220\n",
              "2                    Pocket   3905\n",
              "3          Ballantine Books   3783\n",
              "4              Bantam Books   3646\n",
              "5                Scholastic   3160\n",
              "6      Simon &amp; Schuster   2971\n",
              "7             Penguin Books   2844\n",
              "8  Berkley Publishing Group   2771\n",
              "9              Warner Books   2727"
            ],
            "text/html": [
              "\n",
              "  <div id=\"df-17b916b7-3245-4ac8-a900-5593a4e41068\">\n",
              "    <div class=\"colab-df-container\">\n",
              "      <div>\n",
              "<style scoped>\n",
              "    .dataframe tbody tr th:only-of-type {\n",
              "        vertical-align: middle;\n",
              "    }\n",
              "\n",
              "    .dataframe tbody tr th {\n",
              "        vertical-align: top;\n",
              "    }\n",
              "\n",
              "    .dataframe thead th {\n",
              "        text-align: right;\n",
              "    }\n",
              "</style>\n",
              "<table border=\"1\" class=\"dataframe\">\n",
              "  <thead>\n",
              "    <tr style=\"text-align: right;\">\n",
              "      <th></th>\n",
              "      <th>Publisher</th>\n",
              "      <th>count</th>\n",
              "    </tr>\n",
              "  </thead>\n",
              "  <tbody>\n",
              "    <tr>\n",
              "      <th>0</th>\n",
              "      <td>Harlequin</td>\n",
              "      <td>7535</td>\n",
              "    </tr>\n",
              "    <tr>\n",
              "      <th>1</th>\n",
              "      <td>Silhouette</td>\n",
              "      <td>4220</td>\n",
              "    </tr>\n",
              "    <tr>\n",
              "      <th>2</th>\n",
              "      <td>Pocket</td>\n",
              "      <td>3905</td>\n",
              "    </tr>\n",
              "    <tr>\n",
              "      <th>3</th>\n",
              "      <td>Ballantine Books</td>\n",
              "      <td>3783</td>\n",
              "    </tr>\n",
              "    <tr>\n",
              "      <th>4</th>\n",
              "      <td>Bantam Books</td>\n",
              "      <td>3646</td>\n",
              "    </tr>\n",
              "    <tr>\n",
              "      <th>5</th>\n",
              "      <td>Scholastic</td>\n",
              "      <td>3160</td>\n",
              "    </tr>\n",
              "    <tr>\n",
              "      <th>6</th>\n",
              "      <td>Simon &amp;amp; Schuster</td>\n",
              "      <td>2971</td>\n",
              "    </tr>\n",
              "    <tr>\n",
              "      <th>7</th>\n",
              "      <td>Penguin Books</td>\n",
              "      <td>2844</td>\n",
              "    </tr>\n",
              "    <tr>\n",
              "      <th>8</th>\n",
              "      <td>Berkley Publishing Group</td>\n",
              "      <td>2771</td>\n",
              "    </tr>\n",
              "    <tr>\n",
              "      <th>9</th>\n",
              "      <td>Warner Books</td>\n",
              "      <td>2727</td>\n",
              "    </tr>\n",
              "  </tbody>\n",
              "</table>\n",
              "</div>\n",
              "      <button class=\"colab-df-convert\" onclick=\"convertToInteractive('df-17b916b7-3245-4ac8-a900-5593a4e41068')\"\n",
              "              title=\"Convert this dataframe to an interactive table.\"\n",
              "              style=\"display:none;\">\n",
              "        \n",
              "  <svg xmlns=\"http://www.w3.org/2000/svg\" height=\"24px\"viewBox=\"0 0 24 24\"\n",
              "       width=\"24px\">\n",
              "    <path d=\"M0 0h24v24H0V0z\" fill=\"none\"/>\n",
              "    <path d=\"M18.56 5.44l.94 2.06.94-2.06 2.06-.94-2.06-.94-.94-2.06-.94 2.06-2.06.94zm-11 1L8.5 8.5l.94-2.06 2.06-.94-2.06-.94L8.5 2.5l-.94 2.06-2.06.94zm10 10l.94 2.06.94-2.06 2.06-.94-2.06-.94-.94-2.06-.94 2.06-2.06.94z\"/><path d=\"M17.41 7.96l-1.37-1.37c-.4-.4-.92-.59-1.43-.59-.52 0-1.04.2-1.43.59L10.3 9.45l-7.72 7.72c-.78.78-.78 2.05 0 2.83L4 21.41c.39.39.9.59 1.41.59.51 0 1.02-.2 1.41-.59l7.78-7.78 2.81-2.81c.8-.78.8-2.07 0-2.86zM5.41 20L4 18.59l7.72-7.72 1.47 1.35L5.41 20z\"/>\n",
              "  </svg>\n",
              "      </button>\n",
              "      \n",
              "  <style>\n",
              "    .colab-df-container {\n",
              "      display:flex;\n",
              "      flex-wrap:wrap;\n",
              "      gap: 12px;\n",
              "    }\n",
              "\n",
              "    .colab-df-convert {\n",
              "      background-color: #E8F0FE;\n",
              "      border: none;\n",
              "      border-radius: 50%;\n",
              "      cursor: pointer;\n",
              "      display: none;\n",
              "      fill: #1967D2;\n",
              "      height: 32px;\n",
              "      padding: 0 0 0 0;\n",
              "      width: 32px;\n",
              "    }\n",
              "\n",
              "    .colab-df-convert:hover {\n",
              "      background-color: #E2EBFA;\n",
              "      box-shadow: 0px 1px 2px rgba(60, 64, 67, 0.3), 0px 1px 3px 1px rgba(60, 64, 67, 0.15);\n",
              "      fill: #174EA6;\n",
              "    }\n",
              "\n",
              "    [theme=dark] .colab-df-convert {\n",
              "      background-color: #3B4455;\n",
              "      fill: #D2E3FC;\n",
              "    }\n",
              "\n",
              "    [theme=dark] .colab-df-convert:hover {\n",
              "      background-color: #434B5C;\n",
              "      box-shadow: 0px 1px 3px 1px rgba(0, 0, 0, 0.15);\n",
              "      filter: drop-shadow(0px 1px 2px rgba(0, 0, 0, 0.3));\n",
              "      fill: #FFFFFF;\n",
              "    }\n",
              "  </style>\n",
              "\n",
              "      <script>\n",
              "        const buttonEl =\n",
              "          document.querySelector('#df-17b916b7-3245-4ac8-a900-5593a4e41068 button.colab-df-convert');\n",
              "        buttonEl.style.display =\n",
              "          google.colab.kernel.accessAllowed ? 'block' : 'none';\n",
              "\n",
              "        async function convertToInteractive(key) {\n",
              "          const element = document.querySelector('#df-17b916b7-3245-4ac8-a900-5593a4e41068');\n",
              "          const dataTable =\n",
              "            await google.colab.kernel.invokeFunction('convertToInteractive',\n",
              "                                                     [key], {});\n",
              "          if (!dataTable) return;\n",
              "\n",
              "          const docLinkHtml = 'Like what you see? Visit the ' +\n",
              "            '<a target=\"_blank\" href=https://colab.research.google.com/notebooks/data_table.ipynb>data table notebook</a>'\n",
              "            + ' to learn more about interactive tables.';\n",
              "          element.innerHTML = '';\n",
              "          dataTable['output_type'] = 'display_data';\n",
              "          await google.colab.output.renderOutput(dataTable, element);\n",
              "          const docLink = document.createElement('div');\n",
              "          docLink.innerHTML = docLinkHtml;\n",
              "          element.appendChild(docLink);\n",
              "        }\n",
              "      </script>\n",
              "    </div>\n",
              "  </div>\n",
              "  "
            ]
          },
          "metadata": {},
          "execution_count": 26
        }
      ]
    },
    {
      "cell_type": "code",
      "source": [
        "plt.figure(figsize=(12,7))\n",
        "sns.barplot(data=top_Publisher, x=\"Publisher\", y=\"count\")\n",
        "plt.title(\"Top 10 Publisher with highest numbers of book\",fontsize=20);\n",
        "plt.xticks(rotation=90,fontsize=15)\n",
        "plt.xlabel(\"Publisher\",fontsize=20)\n",
        "plt.ylabel(\"Number Of Books\",fontsize=20)\n"
      ],
      "metadata": {
        "colab": {
          "base_uri": "https://localhost:8080/",
          "height": 669
        },
        "outputId": "6a4917e3-1ebb-412a-8486-34bcd7403ebe",
        "id": "4eTp9fXoEglF"
      },
      "execution_count": null,
      "outputs": [
        {
          "output_type": "execute_result",
          "data": {
            "text/plain": [
              "Text(0, 0.5, 'Number Of Books')"
            ]
          },
          "metadata": {},
          "execution_count": 27
        },
        {
          "output_type": "display_data",
          "data": {
            "text/plain": [
              "<Figure size 864x504 with 1 Axes>"
            ],
            "image/png": "[encoded data removed]"
          },
          "metadata": {
            "needs_background": "light"
          }
        }
      ]
    },
    {
      "cell_type": "markdown",
      "source": [
        "### Top Country with highest numbers of users"
      ],
      "metadata": {
        "id": "WbYw7B_bQ1EL"
      }
    },
    {
      "cell_type": "code",
      "source": [
        "loction_df=user_df['Location'].apply(lambda x: pd.Series(str(x).split(\",\")))[2]"
      ],
      "metadata": {
        "id": "i_cW1D2LHDs8"
      },
      "execution_count": null,
      "outputs": []
    },
    {
      "cell_type": "code",
      "source": [
        "user_df['Country']=loction_df"
      ],
      "metadata": {
        "id": "zvg2iF_gKRZ3"
      },
      "execution_count": null,
      "outputs": []
    },
    {
      "cell_type": "code",
      "source": [
        "user_location=user_df[['User-ID']]\n",
        "user_location['Country']=loction_df"
      ],
      "metadata": {
        "id": "M7Z8CeuFIqQK"
      },
      "execution_count": null,
      "outputs": []
    },
    {
      "cell_type": "code",
      "source": [
        "top_location=user_location.groupby('Country').agg({'User-ID':'count'}).sort_values(by=\"User-ID\",ascending=False).head(16).reset_index()\n",
        "top_location.rename(columns = {'Country':'Country','User-ID':\"count\"},inplace=True)"
      ],
      "metadata": {
        "id": "ZwRZVdblLDxd"
      },
      "execution_count": null,
      "outputs": []
    },
    {
      "cell_type": "code",
      "source": [
        "top_location=top_location.drop(7)"
      ],
      "metadata": {
        "id": "1KOb7JPJMfsb"
      },
      "execution_count": null,
      "outputs": []
    },
    {
      "cell_type": "code",
      "source": [
        "top_location"
      ],
      "metadata": {
        "colab": {
          "base_uri": "https://localhost:8080/",
          "height": 520
        },
        "id": "YeAx-w3qQU_s",
        "outputId": "206c5476-053e-4c38-d80d-ba042a317929"
      },
      "execution_count": null,
      "outputs": [
        {
          "output_type": "execute_result",
          "data": {
            "text/plain": [
              "            Country   count\n",
              "0               usa  139187\n",
              "1            canada   21558\n",
              "2    united kingdom   18286\n",
              "3           germany   17022\n",
              "4             spain   13095\n",
              "5         australia   11723\n",
              "6             italy   11242\n",
              "8            france    3442\n",
              "9          portugal    3306\n",
              "10      new zealand    3071\n",
              "11      netherlands    3017\n",
              "12      switzerland    1740\n",
              "13           brazil    1671\n",
              "14            china    1462\n",
              "15           sweden    1402"
            ],
            "text/html": [
              "\n",
              "  <div id=\"df-7c308ddb-85f2-47cc-a6fe-599096ee7ef5\">\n",
              "    <div class=\"colab-df-container\">\n",
              "      <div>\n",
              "<style scoped>\n",
              "    .dataframe tbody tr th:only-of-type {\n",
              "        vertical-align: middle;\n",
              "    }\n",
              "\n",
              "    .dataframe tbody tr th {\n",
              "        vertical-align: top;\n",
              "    }\n",
              "\n",
              "    .dataframe thead th {\n",
              "        text-align: right;\n",
              "    }\n",
              "</style>\n",
              "<table border=\"1\" class=\"dataframe\">\n",
              "  <thead>\n",
              "    <tr style=\"text-align: right;\">\n",
              "      <th></th>\n",
              "      <th>Country</th>\n",
              "      <th>count</th>\n",
              "    </tr>\n",
              "  </thead>\n",
              "  <tbody>\n",
              "    <tr>\n",
              "      <th>0</th>\n",
              "      <td>usa</td>\n",
              "      <td>139187</td>\n",
              "    </tr>\n",
              "    <tr>\n",
              "      <th>1</th>\n",
              "      <td>canada</td>\n",
              "      <td>21558</td>\n",
              "    </tr>\n",
              "    <tr>\n",
              "      <th>2</th>\n",
              "      <td>united kingdom</td>\n",
              "      <td>18286</td>\n",
              "    </tr>\n",
              "    <tr>\n",
              "      <th>3</th>\n",
              "      <td>germany</td>\n",
              "      <td>17022</td>\n",
              "    </tr>\n",
              "    <tr>\n",
              "      <th>4</th>\n",
              "      <td>spain</td>\n",
              "      <td>13095</td>\n",
              "    </tr>\n",
              "    <tr>\n",
              "      <th>5</th>\n",
              "      <td>australia</td>\n",
              "      <td>11723</td>\n",
              "    </tr>\n",
              "    <tr>\n",
              "      <th>6</th>\n",
              "      <td>italy</td>\n",
              "      <td>11242</td>\n",
              "    </tr>\n",
              "    <tr>\n",
              "      <th>8</th>\n",
              "      <td>france</td>\n",
              "      <td>3442</td>\n",
              "    </tr>\n",
              "    <tr>\n",
              "      <th>9</th>\n",
              "      <td>portugal</td>\n",
              "      <td>3306</td>\n",
              "    </tr>\n",
              "    <tr>\n",
              "      <th>10</th>\n",
              "      <td>new zealand</td>\n",
              "      <td>3071</td>\n",
              "    </tr>\n",
              "    <tr>\n",
              "      <th>11</th>\n",
              "      <td>netherlands</td>\n",
              "      <td>3017</td>\n",
              "    </tr>\n",
              "    <tr>\n",
              "      <th>12</th>\n",
              "      <td>switzerland</td>\n",
              "      <td>1740</td>\n",
              "    </tr>\n",
              "    <tr>\n",
              "      <th>13</th>\n",
              "      <td>brazil</td>\n",
              "      <td>1671</td>\n",
              "    </tr>\n",
              "    <tr>\n",
              "      <th>14</th>\n",
              "      <td>china</td>\n",
              "      <td>1462</td>\n",
              "    </tr>\n",
              "    <tr>\n",
              "      <th>15</th>\n",
              "      <td>sweden</td>\n",
              "      <td>1402</td>\n",
              "    </tr>\n",
              "  </tbody>\n",
              "</table>\n",
              "</div>\n",
              "      <button class=\"colab-df-convert\" onclick=\"convertToInteractive('df-7c308ddb-85f2-47cc-a6fe-599096ee7ef5')\"\n",
              "              title=\"Convert this dataframe to an interactive table.\"\n",
              "              style=\"display:none;\">\n",
              "        \n",
              "  <svg xmlns=\"http://www.w3.org/2000/svg\" height=\"24px\"viewBox=\"0 0 24 24\"\n",
              "       width=\"24px\">\n",
              "    <path d=\"M0 0h24v24H0V0z\" fill=\"none\"/>\n",
              "    <path d=\"M18.56 5.44l.94 2.06.94-2.06 2.06-.94-2.06-.94-.94-2.06-.94 2.06-2.06.94zm-11 1L8.5 8.5l.94-2.06 2.06-.94-2.06-.94L8.5 2.5l-.94 2.06-2.06.94zm10 10l.94 2.06.94-2.06 2.06-.94-2.06-.94-.94-2.06-.94 2.06-2.06.94z\"/><path d=\"M17.41 7.96l-1.37-1.37c-.4-.4-.92-.59-1.43-.59-.52 0-1.04.2-1.43.59L10.3 9.45l-7.72 7.72c-.78.78-.78 2.05 0 2.83L4 21.41c.39.39.9.59 1.41.59.51 0 1.02-.2 1.41-.59l7.78-7.78 2.81-2.81c.8-.78.8-2.07 0-2.86zM5.41 20L4 18.59l7.72-7.72 1.47 1.35L5.41 20z\"/>\n",
              "  </svg>\n",
              "      </button>\n",
              "      \n",
              "  <style>\n",
              "    .colab-df-container {\n",
              "      display:flex;\n",
              "      flex-wrap:wrap;\n",
              "      gap: 12px;\n",
              "    }\n",
              "\n",
              "    .colab-df-convert {\n",
              "      background-color: #E8F0FE;\n",
              "      border: none;\n",
              "      border-radius: 50%;\n",
              "      cursor: pointer;\n",
              "      display: none;\n",
              "      fill: #1967D2;\n",
              "      height: 32px;\n",
              "      padding: 0 0 0 0;\n",
              "      width: 32px;\n",
              "    }\n",
              "\n",
              "    .colab-df-convert:hover {\n",
              "      background-color: #E2EBFA;\n",
              "      box-shadow: 0px 1px 2px rgba(60, 64, 67, 0.3), 0px 1px 3px 1px rgba(60, 64, 67, 0.15);\n",
              "      fill: #174EA6;\n",
              "    }\n",
              "\n",
              "    [theme=dark] .colab-df-convert {\n",
              "      background-color: #3B4455;\n",
              "      fill: #D2E3FC;\n",
              "    }\n",
              "\n",
              "    [theme=dark] .colab-df-convert:hover {\n",
              "      background-color: #434B5C;\n",
              "      box-shadow: 0px 1px 3px 1px rgba(0, 0, 0, 0.15);\n",
              "      filter: drop-shadow(0px 1px 2px rgba(0, 0, 0, 0.3));\n",
              "      fill: #FFFFFF;\n",
              "    }\n",
              "  </style>\n",
              "\n",
              "      <script>\n",
              "        const buttonEl =\n",
              "          document.querySelector('#df-7c308ddb-85f2-47cc-a6fe-599096ee7ef5 button.colab-df-convert');\n",
              "        buttonEl.style.display =\n",
              "          google.colab.kernel.accessAllowed ? 'block' : 'none';\n",
              "\n",
              "        async function convertToInteractive(key) {\n",
              "          const element = document.querySelector('#df-7c308ddb-85f2-47cc-a6fe-599096ee7ef5');\n",
              "          const dataTable =\n",
              "            await google.colab.kernel.invokeFunction('convertToInteractive',\n",
              "                                                     [key], {});\n",
              "          if (!dataTable) return;\n",
              "\n",
              "          const docLinkHtml = 'Like what you see? Visit the ' +\n",
              "            '<a target=\"_blank\" href=https://colab.research.google.com/notebooks/data_table.ipynb>data table notebook</a>'\n",
              "            + ' to learn more about interactive tables.';\n",
              "          element.innerHTML = '';\n",
              "          dataTable['output_type'] = 'display_data';\n",
              "          await google.colab.output.renderOutput(dataTable, element);\n",
              "          const docLink = document.createElement('div');\n",
              "          docLink.innerHTML = docLinkHtml;\n",
              "          element.appendChild(docLink);\n",
              "        }\n",
              "      </script>\n",
              "    </div>\n",
              "  </div>\n",
              "  "
            ]
          },
          "metadata": {},
          "execution_count": 33
        }
      ]
    },
    {
      "cell_type": "code",
      "source": [
        "plt.figure(figsize=(12,7))\n",
        "sns.barplot(data=top_location, x=\"Country\", y=\"count\")\n",
        "plt.title(\"Top Country with highest numbers of users\",fontsize=20);\n",
        "plt.xticks(rotation=90,fontsize=15)\n",
        "plt.xlabel(\"Country\",fontsize=20)\n",
        "plt.ylabel(\"Number Of users\",fontsize=20);"
      ],
      "metadata": {
        "colab": {
          "base_uri": "https://localhost:8080/",
          "height": 586
        },
        "id": "ntZIJX5BMm8r",
        "outputId": "bd0d3f12-f3a3-46c0-87c2-0820e743d4f2"
      },
      "execution_count": null,
      "outputs": [
        {
          "output_type": "display_data",
          "data": {
            "text/plain": [
              "<Figure size 864x504 with 1 Axes>"
            ],
            "image/png": "[encoded data removed]"
          },
          "metadata": {
            "needs_background": "light"
          }
        }
      ]
    },
    {
      "cell_type": "markdown",
      "source": [
        "### Anlyzing the age column"
      ],
      "metadata": {
        "id": "_N7iTzRsS6eb"
      }
    },
    {
      "cell_type": "code",
      "source": [
        "user_df['Age'].describe()"
      ],
      "metadata": {
        "colab": {
          "base_uri": "https://localhost:8080/"
        },
        "id": "7stYrKb5RTYj",
        "outputId": "ed7e78c8-70a9-48fb-d11b-f839bfe91571"
      },
      "execution_count": null,
      "outputs": [
        {
          "output_type": "execute_result",
          "data": {
            "text/plain": [
              "count    168096.000000\n",
              "mean         34.751434\n",
              "std          14.428097\n",
              "min           0.000000\n",
              "25%          24.000000\n",
              "50%          32.000000\n",
              "75%          44.000000\n",
              "max         244.000000\n",
              "Name: Age, dtype: float64"
            ]
          },
          "metadata": {},
          "execution_count": 35
        }
      ]
    },
    {
      "cell_type": "code",
      "source": [
        "user_df[user_df['Age']==244]"
      ],
      "metadata": {
        "colab": {
          "base_uri": "https://localhost:8080/",
          "height": 81
        },
        "id": "0sGirVX7SaNN",
        "outputId": "11b17ffa-15d8-4dff-cc10-5c5adddab20d"
      },
      "execution_count": null,
      "outputs": [
        {
          "output_type": "execute_result",
          "data": {
            "text/plain": [
              "       User-ID                                Location    Age   Country\n",
              "20856    20857  stuttgart, baden-wuerttemberg, germany  244.0   germany"
            ],
            "text/html": [
              "\n",
              "  <div id=\"df-4511a746-c81d-4f9d-92cf-bb700819d534\">\n",
              "    <div class=\"colab-df-container\">\n",
              "      <div>\n",
              "<style scoped>\n",
              "    .dataframe tbody tr th:only-of-type {\n",
              "        vertical-align: middle;\n",
              "    }\n",
              "\n",
              "    .dataframe tbody tr th {\n",
              "        vertical-align: top;\n",
              "    }\n",
              "\n",
              "    .dataframe thead th {\n",
              "        text-align: right;\n",
              "    }\n",
              "</style>\n",
              "<table border=\"1\" class=\"dataframe\">\n",
              "  <thead>\n",
              "    <tr style=\"text-align: right;\">\n",
              "      <th></th>\n",
              "      <th>User-ID</th>\n",
              "      <th>Location</th>\n",
              "      <th>Age</th>\n",
              "      <th>Country</th>\n",
              "    </tr>\n",
              "  </thead>\n",
              "  <tbody>\n",
              "    <tr>\n",
              "      <th>20856</th>\n",
              "      <td>20857</td>\n",
              "      <td>stuttgart, baden-wuerttemberg, germany</td>\n",
              "      <td>244.0</td>\n",
              "      <td>germany</td>\n",
              "    </tr>\n",
              "  </tbody>\n",
              "</table>\n",
              "</div>\n",
              "      <button class=\"colab-df-convert\" onclick=\"convertToInteractive('df-4511a746-c81d-4f9d-92cf-bb700819d534')\"\n",
              "              title=\"Convert this dataframe to an interactive table.\"\n",
              "              style=\"display:none;\">\n",
              "        \n",
              "  <svg xmlns=\"http://www.w3.org/2000/svg\" height=\"24px\"viewBox=\"0 0 24 24\"\n",
              "       width=\"24px\">\n",
              "    <path d=\"M0 0h24v24H0V0z\" fill=\"none\"/>\n",
              "    <path d=\"M18.56 5.44l.94 2.06.94-2.06 2.06-.94-2.06-.94-.94-2.06-.94 2.06-2.06.94zm-11 1L8.5 8.5l.94-2.06 2.06-.94-2.06-.94L8.5 2.5l-.94 2.06-2.06.94zm10 10l.94 2.06.94-2.06 2.06-.94-2.06-.94-.94-2.06-.94 2.06-2.06.94z\"/><path d=\"M17.41 7.96l-1.37-1.37c-.4-.4-.92-.59-1.43-.59-.52 0-1.04.2-1.43.59L10.3 9.45l-7.72 7.72c-.78.78-.78 2.05 0 2.83L4 21.41c.39.39.9.59 1.41.59.51 0 1.02-.2 1.41-.59l7.78-7.78 2.81-2.81c.8-.78.8-2.07 0-2.86zM5.41 20L4 18.59l7.72-7.72 1.47 1.35L5.41 20z\"/>\n",
              "  </svg>\n",
              "      </button>\n",
              "      \n",
              "  <style>\n",
              "    .colab-df-container {\n",
              "      display:flex;\n",
              "      flex-wrap:wrap;\n",
              "      gap: 12px;\n",
              "    }\n",
              "\n",
              "    .colab-df-convert {\n",
              "      background-color: #E8F0FE;\n",
              "      border: none;\n",
              "      border-radius: 50%;\n",
              "      cursor: pointer;\n",
              "      display: none;\n",
              "      fill: #1967D2;\n",
              "      height: 32px;\n",
              "      padding: 0 0 0 0;\n",
              "      width: 32px;\n",
              "    }\n",
              "\n",
              "    .colab-df-convert:hover {\n",
              "      background-color: #E2EBFA;\n",
              "      box-shadow: 0px 1px 2px rgba(60, 64, 67, 0.3), 0px 1px 3px 1px rgba(60, 64, 67, 0.15);\n",
              "      fill: #174EA6;\n",
              "    }\n",
              "\n",
              "    [theme=dark] .colab-df-convert {\n",
              "      background-color: #3B4455;\n",
              "      fill: #D2E3FC;\n",
              "    }\n",
              "\n",
              "    [theme=dark] .colab-df-convert:hover {\n",
              "      background-color: #434B5C;\n",
              "      box-shadow: 0px 1px 3px 1px rgba(0, 0, 0, 0.15);\n",
              "      filter: drop-shadow(0px 1px 2px rgba(0, 0, 0, 0.3));\n",
              "      fill: #FFFFFF;\n",
              "    }\n",
              "  </style>\n",
              "\n",
              "      <script>\n",
              "        const buttonEl =\n",
              "          document.querySelector('#df-4511a746-c81d-4f9d-92cf-bb700819d534 button.colab-df-convert');\n",
              "        buttonEl.style.display =\n",
              "          google.colab.kernel.accessAllowed ? 'block' : 'none';\n",
              "\n",
              "        async function convertToInteractive(key) {\n",
              "          const element = document.querySelector('#df-4511a746-c81d-4f9d-92cf-bb700819d534');\n",
              "          const dataTable =\n",
              "            await google.colab.kernel.invokeFunction('convertToInteractive',\n",
              "                                                     [key], {});\n",
              "          if (!dataTable) return;\n",
              "\n",
              "          const docLinkHtml = 'Like what you see? Visit the ' +\n",
              "            '<a target=\"_blank\" href=https://colab.research.google.com/notebooks/data_table.ipynb>data table notebook</a>'\n",
              "            + ' to learn more about interactive tables.';\n",
              "          element.innerHTML = '';\n",
              "          dataTable['output_type'] = 'display_data';\n",
              "          await google.colab.output.renderOutput(dataTable, element);\n",
              "          const docLink = document.createElement('div');\n",
              "          docLink.innerHTML = docLinkHtml;\n",
              "          element.appendChild(docLink);\n",
              "        }\n",
              "      </script>\n",
              "    </div>\n",
              "  </div>\n",
              "  "
            ]
          },
          "metadata": {},
          "execution_count": 36
        }
      ]
    },
    {
      "cell_type": "code",
      "source": [
        "sns.boxplot(user_df['Age'])"
      ],
      "metadata": {
        "colab": {
          "base_uri": "https://localhost:8080/",
          "height": 296
        },
        "id": "ZvolqK-JSLL_",
        "outputId": "8abef659-a22d-4636-9b0f-316ce7cb4062"
      },
      "execution_count": null,
      "outputs": [
        {
          "output_type": "execute_result",
          "data": {
            "text/plain": [
              "<matplotlib.axes._subplots.AxesSubplot at 0x7f22f1e848d0>"
            ]
          },
          "metadata": {},
          "execution_count": 37
        },
        {
          "output_type": "display_data",
          "data": {
            "text/plain": [
              "<Figure size 432x288 with 1 Axes>"
            ],
            "image/png": "[encoded data removed]"
          },
          "metadata": {
            "needs_background": "light"
          }
        }
      ]
    },
    {
      "cell_type": "code",
      "source": [
        "sns.distplot(user_df['Age'])"
      ],
      "metadata": {
        "colab": {
          "base_uri": "https://localhost:8080/",
          "height": 296
        },
        "id": "DHGfTAKBU2NP",
        "outputId": "b421c074-dab9-4318-d30b-b88613efb50d"
      },
      "execution_count": null,
      "outputs": [
        {
          "output_type": "execute_result",
          "data": {
            "text/plain": [
              "<matplotlib.axes._subplots.AxesSubplot at 0x7f22f1f33810>"
            ]
          },
          "metadata": {},
          "execution_count": 38
        },
        {
          "output_type": "display_data",
          "data": {
            "text/plain": [
              "<Figure size 432x288 with 1 Axes>"
            ],
            "image/png": "[encoded data removed]"
          },
          "metadata": {
            "needs_background": "light"
          }
        }
      ]
    },
    {
      "cell_type": "markdown",
      "source": [
        "### Value count of ratings"
      ],
      "metadata": {
        "id": "mswAKLSGUCNt"
      }
    },
    {
      "cell_type": "code",
      "source": [
        "rating_df['Book-Rating'].value_counts().reset_index().rename(columns={'index':'Rating','Book-Rating':'count'})"
      ],
      "metadata": {
        "colab": {
          "base_uri": "https://localhost:8080/",
          "height": 394
        },
        "id": "46XdYSYJUBiN",
        "outputId": "25c9771c-a039-4b9e-fa2a-a27ec3f72de0"
      },
      "execution_count": null,
      "outputs": [
        {
          "output_type": "execute_result",
          "data": {
            "text/plain": [
              "    Rating   count\n",
              "0        0  716109\n",
              "1        8  103736\n",
              "2       10   78610\n",
              "3        7   76457\n",
              "4        9   67541\n",
              "5        5   50974\n",
              "6        6   36924\n",
              "7        4    8904\n",
              "8        3    5996\n",
              "9        2    2759\n",
              "10       1    1770"
            ],
            "text/html": [
              "\n",
              "  <div id=\"df-ed99d4e3-7c02-4ab4-8a44-479fd19d4d6e\">\n",
              "    <div class=\"colab-df-container\">\n",
              "      <div>\n",
              "<style scoped>\n",
              "    .dataframe tbody tr th:only-of-type {\n",
              "        vertical-align: middle;\n",
              "    }\n",
              "\n",
              "    .dataframe tbody tr th {\n",
              "        vertical-align: top;\n",
              "    }\n",
              "\n",
              "    .dataframe thead th {\n",
              "        text-align: right;\n",
              "    }\n",
              "</style>\n",
              "<table border=\"1\" class=\"dataframe\">\n",
              "  <thead>\n",
              "    <tr style=\"text-align: right;\">\n",
              "      <th></th>\n",
              "      <th>Rating</th>\n",
              "      <th>count</th>\n",
              "    </tr>\n",
              "  </thead>\n",
              "  <tbody>\n",
              "    <tr>\n",
              "      <th>0</th>\n",
              "      <td>0</td>\n",
              "      <td>716109</td>\n",
              "    </tr>\n",
              "    <tr>\n",
              "      <th>1</th>\n",
              "      <td>8</td>\n",
              "      <td>103736</td>\n",
              "    </tr>\n",
              "    <tr>\n",
              "      <th>2</th>\n",
              "      <td>10</td>\n",
              "      <td>78610</td>\n",
              "    </tr>\n",
              "    <tr>\n",
              "      <th>3</th>\n",
              "      <td>7</td>\n",
              "      <td>76457</td>\n",
              "    </tr>\n",
              "    <tr>\n",
              "      <th>4</th>\n",
              "      <td>9</td>\n",
              "      <td>67541</td>\n",
              "    </tr>\n",
              "    <tr>\n",
              "      <th>5</th>\n",
              "      <td>5</td>\n",
              "      <td>50974</td>\n",
              "    </tr>\n",
              "    <tr>\n",
              "      <th>6</th>\n",
              "      <td>6</td>\n",
              "      <td>36924</td>\n",
              "    </tr>\n",
              "    <tr>\n",
              "      <th>7</th>\n",
              "      <td>4</td>\n",
              "      <td>8904</td>\n",
              "    </tr>\n",
              "    <tr>\n",
              "      <th>8</th>\n",
              "      <td>3</td>\n",
              "      <td>5996</td>\n",
              "    </tr>\n",
              "    <tr>\n",
              "      <th>9</th>\n",
              "      <td>2</td>\n",
              "      <td>2759</td>\n",
              "    </tr>\n",
              "    <tr>\n",
              "      <th>10</th>\n",
              "      <td>1</td>\n",
              "      <td>1770</td>\n",
              "    </tr>\n",
              "  </tbody>\n",
              "</table>\n",
              "</div>\n",
              "      <button class=\"colab-df-convert\" onclick=\"convertToInteractive('df-ed99d4e3-7c02-4ab4-8a44-479fd19d4d6e')\"\n",
              "              title=\"Convert this dataframe to an interactive table.\"\n",
              "              style=\"display:none;\">\n",
              "        \n",
              "  <svg xmlns=\"http://www.w3.org/2000/svg\" height=\"24px\"viewBox=\"0 0 24 24\"\n",
              "       width=\"24px\">\n",
              "    <path d=\"M0 0h24v24H0V0z\" fill=\"none\"/>\n",
              "    <path d=\"M18.56 5.44l.94 2.06.94-2.06 2.06-.94-2.06-.94-.94-2.06-.94 2.06-2.06.94zm-11 1L8.5 8.5l.94-2.06 2.06-.94-2.06-.94L8.5 2.5l-.94 2.06-2.06.94zm10 10l.94 2.06.94-2.06 2.06-.94-2.06-.94-.94-2.06-.94 2.06-2.06.94z\"/><path d=\"M17.41 7.96l-1.37-1.37c-.4-.4-.92-.59-1.43-.59-.52 0-1.04.2-1.43.59L10.3 9.45l-7.72 7.72c-.78.78-.78 2.05 0 2.83L4 21.41c.39.39.9.59 1.41.59.51 0 1.02-.2 1.41-.59l7.78-7.78 2.81-2.81c.8-.78.8-2.07 0-2.86zM5.41 20L4 18.59l7.72-7.72 1.47 1.35L5.41 20z\"/>\n",
              "  </svg>\n",
              "      </button>\n",
              "      \n",
              "  <style>\n",
              "    .colab-df-container {\n",
              "      display:flex;\n",
              "      flex-wrap:wrap;\n",
              "      gap: 12px;\n",
              "    }\n",
              "\n",
              "    .colab-df-convert {\n",
              "      background-color: #E8F0FE;\n",
              "      border: none;\n",
              "      border-radius: 50%;\n",
              "      cursor: pointer;\n",
              "      display: none;\n",
              "      fill: #1967D2;\n",
              "      height: 32px;\n",
              "      padding: 0 0 0 0;\n",
              "      width: 32px;\n",
              "    }\n",
              "\n",
              "    .colab-df-convert:hover {\n",
              "      background-color: #E2EBFA;\n",
              "      box-shadow: 0px 1px 2px rgba(60, 64, 67, 0.3), 0px 1px 3px 1px rgba(60, 64, 67, 0.15);\n",
              "      fill: #174EA6;\n",
              "    }\n",
              "\n",
              "    [theme=dark] .colab-df-convert {\n",
              "      background-color: #3B4455;\n",
              "      fill: #D2E3FC;\n",
              "    }\n",
              "\n",
              "    [theme=dark] .colab-df-convert:hover {\n",
              "      background-color: #434B5C;\n",
              "      box-shadow: 0px 1px 3px 1px rgba(0, 0, 0, 0.15);\n",
              "      filter: drop-shadow(0px 1px 2px rgba(0, 0, 0, 0.3));\n",
              "      fill: #FFFFFF;\n",
              "    }\n",
              "  </style>\n",
              "\n",
              "      <script>\n",
              "        const buttonEl =\n",
              "          document.querySelector('#df-ed99d4e3-7c02-4ab4-8a44-479fd19d4d6e button.colab-df-convert');\n",
              "        buttonEl.style.display =\n",
              "          google.colab.kernel.accessAllowed ? 'block' : 'none';\n",
              "\n",
              "        async function convertToInteractive(key) {\n",
              "          const element = document.querySelector('#df-ed99d4e3-7c02-4ab4-8a44-479fd19d4d6e');\n",
              "          const dataTable =\n",
              "            await google.colab.kernel.invokeFunction('convertToInteractive',\n",
              "                                                     [key], {});\n",
              "          if (!dataTable) return;\n",
              "\n",
              "          const docLinkHtml = 'Like what you see? Visit the ' +\n",
              "            '<a target=\"_blank\" href=https://colab.research.google.com/notebooks/data_table.ipynb>data table notebook</a>'\n",
              "            + ' to learn more about interactive tables.';\n",
              "          element.innerHTML = '';\n",
              "          dataTable['output_type'] = 'display_data';\n",
              "          await google.colab.output.renderOutput(dataTable, element);\n",
              "          const docLink = document.createElement('div');\n",
              "          docLink.innerHTML = docLinkHtml;\n",
              "          element.appendChild(docLink);\n",
              "        }\n",
              "      </script>\n",
              "    </div>\n",
              "  </div>\n",
              "  "
            ]
          },
          "metadata": {},
          "execution_count": 39
        }
      ]
    },
    {
      "cell_type": "code",
      "source": [
        "sns.displot(rating_df['Book-Rating'])"
      ],
      "metadata": {
        "colab": {
          "base_uri": "https://localhost:8080/",
          "height": 386
        },
        "id": "xQLtBtxIVJmd",
        "outputId": "63c8ade3-a48d-4c5a-deaa-3f40e9327d1f"
      },
      "execution_count": null,
      "outputs": [
        {
          "output_type": "execute_result",
          "data": {
            "text/plain": [
              "<seaborn.axisgrid.FacetGrid at 0x7f22f1e894d0>"
            ]
          },
          "metadata": {},
          "execution_count": 40
        },
        {
          "output_type": "display_data",
          "data": {
            "text/plain": [
              "<Figure size 360x360 with 1 Axes>"
            ],
            "image/png": "[encoded data removed]"
          },
          "metadata": {
            "needs_background": "light"
          }
        }
      ]
    },
    {
      "cell_type": "markdown",
      "source": [
        "### rating distribution without considering 0"
      ],
      "metadata": {
        "id": "wLA5QSj92gxF"
      }
    },
    {
      "cell_type": "code",
      "source": [
        "rating_without_0=rating_df[rating_df['Book-Rating']!=0]"
      ],
      "metadata": {
        "id": "4IcwuwM12f4H"
      },
      "execution_count": null,
      "outputs": []
    },
    {
      "cell_type": "code",
      "source": [
        "rating_count=rating_without_0.groupby('Book-Rating').agg({'ISBN':'count'}).sort_values(by=\"ISBN\",ascending=False).head(16).reset_index()\n",
        "rating_count.rename(columns = {'Book-Rating':'Book-Rating','ISBN':\"count\"},inplace=True)"
      ],
      "metadata": {
        "id": "lodMs0_M4Pw4"
      },
      "execution_count": null,
      "outputs": []
    },
    {
      "cell_type": "code",
      "source": [
        "rating_count"
      ],
      "metadata": {
        "colab": {
          "base_uri": "https://localhost:8080/",
          "height": 363
        },
        "id": "3we-M3SA5d6l",
        "outputId": "fd904b33-15a2-461b-ed54-59f4fbe198b1"
      },
      "execution_count": null,
      "outputs": [
        {
          "output_type": "execute_result",
          "data": {
            "text/plain": [
              "   Book-Rating   count\n",
              "0            8  103736\n",
              "1           10   78610\n",
              "2            7   76457\n",
              "3            9   67541\n",
              "4            5   50974\n",
              "5            6   36924\n",
              "6            4    8904\n",
              "7            3    5996\n",
              "8            2    2759\n",
              "9            1    1770"
            ],
            "text/html": [
              "\n",
              "  <div id=\"df-3eda210b-5bb7-4922-b823-89bbe8dd892f\">\n",
              "    <div class=\"colab-df-container\">\n",
              "      <div>\n",
              "<style scoped>\n",
              "    .dataframe tbody tr th:only-of-type {\n",
              "        vertical-align: middle;\n",
              "    }\n",
              "\n",
              "    .dataframe tbody tr th {\n",
              "        vertical-align: top;\n",
              "    }\n",
              "\n",
              "    .dataframe thead th {\n",
              "        text-align: right;\n",
              "    }\n",
              "</style>\n",
              "<table border=\"1\" class=\"dataframe\">\n",
              "  <thead>\n",
              "    <tr style=\"text-align: right;\">\n",
              "      <th></th>\n",
              "      <th>Book-Rating</th>\n",
              "      <th>count</th>\n",
              "    </tr>\n",
              "  </thead>\n",
              "  <tbody>\n",
              "    <tr>\n",
              "      <th>0</th>\n",
              "      <td>8</td>\n",
              "      <td>103736</td>\n",
              "    </tr>\n",
              "    <tr>\n",
              "      <th>1</th>\n",
              "      <td>10</td>\n",
              "      <td>78610</td>\n",
              "    </tr>\n",
              "    <tr>\n",
              "      <th>2</th>\n",
              "      <td>7</td>\n",
              "      <td>76457</td>\n",
              "    </tr>\n",
              "    <tr>\n",
              "      <th>3</th>\n",
              "      <td>9</td>\n",
              "      <td>67541</td>\n",
              "    </tr>\n",
              "    <tr>\n",
              "      <th>4</th>\n",
              "      <td>5</td>\n",
              "      <td>50974</td>\n",
              "    </tr>\n",
              "    <tr>\n",
              "      <th>5</th>\n",
              "      <td>6</td>\n",
              "      <td>36924</td>\n",
              "    </tr>\n",
              "    <tr>\n",
              "      <th>6</th>\n",
              "      <td>4</td>\n",
              "      <td>8904</td>\n",
              "    </tr>\n",
              "    <tr>\n",
              "      <th>7</th>\n",
              "      <td>3</td>\n",
              "      <td>5996</td>\n",
              "    </tr>\n",
              "    <tr>\n",
              "      <th>8</th>\n",
              "      <td>2</td>\n",
              "      <td>2759</td>\n",
              "    </tr>\n",
              "    <tr>\n",
              "      <th>9</th>\n",
              "      <td>1</td>\n",
              "      <td>1770</td>\n",
              "    </tr>\n",
              "  </tbody>\n",
              "</table>\n",
              "</div>\n",
              "      <button class=\"colab-df-convert\" onclick=\"convertToInteractive('df-3eda210b-5bb7-4922-b823-89bbe8dd892f')\"\n",
              "              title=\"Convert this dataframe to an interactive table.\"\n",
              "              style=\"display:none;\">\n",
              "        \n",
              "  <svg xmlns=\"http://www.w3.org/2000/svg\" height=\"24px\"viewBox=\"0 0 24 24\"\n",
              "       width=\"24px\">\n",
              "    <path d=\"M0 0h24v24H0V0z\" fill=\"none\"/>\n",
              "    <path d=\"M18.56 5.44l.94 2.06.94-2.06 2.06-.94-2.06-.94-.94-2.06-.94 2.06-2.06.94zm-11 1L8.5 8.5l.94-2.06 2.06-.94-2.06-.94L8.5 2.5l-.94 2.06-2.06.94zm10 10l.94 2.06.94-2.06 2.06-.94-2.06-.94-.94-2.06-.94 2.06-2.06.94z\"/><path d=\"M17.41 7.96l-1.37-1.37c-.4-.4-.92-.59-1.43-.59-.52 0-1.04.2-1.43.59L10.3 9.45l-7.72 7.72c-.78.78-.78 2.05 0 2.83L4 21.41c.39.39.9.59 1.41.59.51 0 1.02-.2 1.41-.59l7.78-7.78 2.81-2.81c.8-.78.8-2.07 0-2.86zM5.41 20L4 18.59l7.72-7.72 1.47 1.35L5.41 20z\"/>\n",
              "  </svg>\n",
              "      </button>\n",
              "      \n",
              "  <style>\n",
              "    .colab-df-container {\n",
              "      display:flex;\n",
              "      flex-wrap:wrap;\n",
              "      gap: 12px;\n",
              "    }\n",
              "\n",
              "    .colab-df-convert {\n",
              "      background-color: #E8F0FE;\n",
              "      border: none;\n",
              "      border-radius: 50%;\n",
              "      cursor: pointer;\n",
              "      display: none;\n",
              "      fill: #1967D2;\n",
              "      height: 32px;\n",
              "      padding: 0 0 0 0;\n",
              "      width: 32px;\n",
              "    }\n",
              "\n",
              "    .colab-df-convert:hover {\n",
              "      background-color: #E2EBFA;\n",
              "      box-shadow: 0px 1px 2px rgba(60, 64, 67, 0.3), 0px 1px 3px 1px rgba(60, 64, 67, 0.15);\n",
              "      fill: #174EA6;\n",
              "    }\n",
              "\n",
              "    [theme=dark] .colab-df-convert {\n",
              "      background-color: #3B4455;\n",
              "      fill: #D2E3FC;\n",
              "    }\n",
              "\n",
              "    [theme=dark] .colab-df-convert:hover {\n",
              "      background-color: #434B5C;\n",
              "      box-shadow: 0px 1px 3px 1px rgba(0, 0, 0, 0.15);\n",
              "      filter: drop-shadow(0px 1px 2px rgba(0, 0, 0, 0.3));\n",
              "      fill: #FFFFFF;\n",
              "    }\n",
              "  </style>\n",
              "\n",
              "      <script>\n",
              "        const buttonEl =\n",
              "          document.querySelector('#df-3eda210b-5bb7-4922-b823-89bbe8dd892f button.colab-df-convert');\n",
              "        buttonEl.style.display =\n",
              "          google.colab.kernel.accessAllowed ? 'block' : 'none';\n",
              "\n",
              "        async function convertToInteractive(key) {\n",
              "          const element = document.querySelector('#df-3eda210b-5bb7-4922-b823-89bbe8dd892f');\n",
              "          const dataTable =\n",
              "            await google.colab.kernel.invokeFunction('convertToInteractive',\n",
              "                                                     [key], {});\n",
              "          if (!dataTable) return;\n",
              "\n",
              "          const docLinkHtml = 'Like what you see? Visit the ' +\n",
              "            '<a target=\"_blank\" href=https://colab.research.google.com/notebooks/data_table.ipynb>data table notebook</a>'\n",
              "            + ' to learn more about interactive tables.';\n",
              "          element.innerHTML = '';\n",
              "          dataTable['output_type'] = 'display_data';\n",
              "          await google.colab.output.renderOutput(dataTable, element);\n",
              "          const docLink = document.createElement('div');\n",
              "          docLink.innerHTML = docLinkHtml;\n",
              "          element.appendChild(docLink);\n",
              "        }\n",
              "      </script>\n",
              "    </div>\n",
              "  </div>\n",
              "  "
            ]
          },
          "metadata": {},
          "execution_count": 43
        }
      ]
    },
    {
      "cell_type": "code",
      "source": [
        "plt.figure(figsize=(12,7))\n",
        "sns.barplot(data=rating_count, x=\"Book-Rating\", y=\"count\")\n",
        "plt.title(\"Rating distribution in terms of count\",fontsize=20);\n",
        "plt.xticks(rotation=90,fontsize=15)\n",
        "plt.xlabel(\"Ratings\",fontsize=20)\n",
        "plt.ylabel(\"Number of ratings\",fontsize=20);"
      ],
      "metadata": {
        "colab": {
          "base_uri": "https://localhost:8080/",
          "height": 481
        },
        "id": "SoN4OpdT3-Ap",
        "outputId": "8383ba1e-5060-4932-b336-efc170a71d03"
      },
      "execution_count": null,
      "outputs": [
        {
          "output_type": "display_data",
          "data": {
            "text/plain": [
              "<Figure size 864x504 with 1 Axes>"
            ],
            "image/png": "[encoded data removed]"
          },
          "metadata": {
            "needs_background": "light"
          }
        }
      ]
    },
    {
      "cell_type": "markdown",
      "source": [
        "### Top User-ID with highest numbers of rating"
      ],
      "metadata": {
        "id": "5kttKn2ohURe"
      }
    },
    {
      "cell_type": "code",
      "source": [
        "#common book for both rating and book dataset\n",
        "ratings_new = rating_df[rating_df.ISBN.isin(Book_df.ISBN)]"
      ],
      "metadata": {
        "id": "S7wUWypoDuNP"
      },
      "execution_count": null,
      "outputs": []
    },
    {
      "cell_type": "code",
      "source": [
        "#common user for both rating and user dataset\n",
        "ratings_new = ratings_new[ratings_new['User-ID'].isin(user_df['User-ID'])]"
      ],
      "metadata": {
        "id": "S5YWqr6tFf0-"
      },
      "execution_count": null,
      "outputs": []
    },
    {
      "cell_type": "code",
      "source": [
        "#checking shape\n",
        "rating_df.shape,ratings_new.shape"
      ],
      "metadata": {
        "colab": {
          "base_uri": "https://localhost:8080/"
        },
        "id": "tNb4RRakEBaH",
        "outputId": "ce9b76f9-0a0c-4855-d47d-07605f9211e0"
      },
      "execution_count": null,
      "outputs": [
        {
          "output_type": "execute_result",
          "data": {
            "text/plain": [
              "((1149780, 3), (1031136, 3))"
            ]
          },
          "metadata": {},
          "execution_count": 47
        }
      ]
    },
    {
      "cell_type": "code",
      "source": [
        "\n",
        "top_user_rating=ratings_new.groupby('User-ID').agg({'Book-Rating':'count'}).sort_values(by=\"Book-Rating\",ascending=False).reset_index()\n",
        "top_user_rating.rename(columns = {'User-ID':'User-ID','Book-Rating':\"count\"},inplace=True)\n",
        "top_user_rating['User-ID']=top_user_rating['User-ID'].apply(lambda x:'UserId '+str(x)) "
      ],
      "metadata": {
        "id": "qSm93-Pjgl-e"
      },
      "execution_count": null,
      "outputs": []
    },
    {
      "cell_type": "code",
      "source": [
        "top_user_rating=top_user_rating.head(15)\n",
        "top_user_rating"
      ],
      "metadata": {
        "colab": {
          "base_uri": "https://localhost:8080/",
          "height": 520
        },
        "id": "XMGn5JW6yNtz",
        "outputId": "ea27c347-b7fa-4ac4-bf97-b75a69008485"
      },
      "execution_count": null,
      "outputs": [
        {
          "output_type": "execute_result",
          "data": {
            "text/plain": [
              "          User-ID  count\n",
              "0    UserId 11676  11144\n",
              "1   UserId 198711   6456\n",
              "2   UserId 153662   5814\n",
              "3    UserId 98391   5779\n",
              "4    UserId 35859   5646\n",
              "5   UserId 212898   4289\n",
              "6   UserId 278418   3996\n",
              "7    UserId 76352   3329\n",
              "8   UserId 110973   2971\n",
              "9   UserId 235105   2943\n",
              "10   UserId 16795   2920\n",
              "11  UserId 230522   2857\n",
              "12  UserId 234623   2594\n",
              "13  UserId 204864   2461\n",
              "14   UserId 36836   2458"
            ],
            "text/html": [
              "\n",
              "  <div id=\"df-c7b21026-df06-4e91-9a8e-7e1d80b3b40f\">\n",
              "    <div class=\"colab-df-container\">\n",
              "      <div>\n",
              "<style scoped>\n",
              "    .dataframe tbody tr th:only-of-type {\n",
              "        vertical-align: middle;\n",
              "    }\n",
              "\n",
              "    .dataframe tbody tr th {\n",
              "        vertical-align: top;\n",
              "    }\n",
              "\n",
              "    .dataframe thead th {\n",
              "        text-align: right;\n",
              "    }\n",
              "</style>\n",
              "<table border=\"1\" class=\"dataframe\">\n",
              "  <thead>\n",
              "    <tr style=\"text-align: right;\">\n",
              "      <th></th>\n",
              "      <th>User-ID</th>\n",
              "      <th>count</th>\n",
              "    </tr>\n",
              "  </thead>\n",
              "  <tbody>\n",
              "    <tr>\n",
              "      <th>0</th>\n",
              "      <td>UserId 11676</td>\n",
              "      <td>11144</td>\n",
              "    </tr>\n",
              "    <tr>\n",
              "      <th>1</th>\n",
              "      <td>UserId 198711</td>\n",
              "      <td>6456</td>\n",
              "    </tr>\n",
              "    <tr>\n",
              "      <th>2</th>\n",
              "      <td>UserId 153662</td>\n",
              "      <td>5814</td>\n",
              "    </tr>\n",
              "    <tr>\n",
              "      <th>3</th>\n",
              "      <td>UserId 98391</td>\n",
              "      <td>5779</td>\n",
              "    </tr>\n",
              "    <tr>\n",
              "      <th>4</th>\n",
              "      <td>UserId 35859</td>\n",
              "      <td>5646</td>\n",
              "    </tr>\n",
              "    <tr>\n",
              "      <th>5</th>\n",
              "      <td>UserId 212898</td>\n",
              "      <td>4289</td>\n",
              "    </tr>\n",
              "    <tr>\n",
              "      <th>6</th>\n",
              "      <td>UserId 278418</td>\n",
              "      <td>3996</td>\n",
              "    </tr>\n",
              "    <tr>\n",
              "      <th>7</th>\n",
              "      <td>UserId 76352</td>\n",
              "      <td>3329</td>\n",
              "    </tr>\n",
              "    <tr>\n",
              "      <th>8</th>\n",
              "      <td>UserId 110973</td>\n",
              "      <td>2971</td>\n",
              "    </tr>\n",
              "    <tr>\n",
              "      <th>9</th>\n",
              "      <td>UserId 235105</td>\n",
              "      <td>2943</td>\n",
              "    </tr>\n",
              "    <tr>\n",
              "      <th>10</th>\n",
              "      <td>UserId 16795</td>\n",
              "      <td>2920</td>\n",
              "    </tr>\n",
              "    <tr>\n",
              "      <th>11</th>\n",
              "      <td>UserId 230522</td>\n",
              "      <td>2857</td>\n",
              "    </tr>\n",
              "    <tr>\n",
              "      <th>12</th>\n",
              "      <td>UserId 234623</td>\n",
              "      <td>2594</td>\n",
              "    </tr>\n",
              "    <tr>\n",
              "      <th>13</th>\n",
              "      <td>UserId 204864</td>\n",
              "      <td>2461</td>\n",
              "    </tr>\n",
              "    <tr>\n",
              "      <th>14</th>\n",
              "      <td>UserId 36836</td>\n",
              "      <td>2458</td>\n",
              "    </tr>\n",
              "  </tbody>\n",
              "</table>\n",
              "</div>\n",
              "      <button class=\"colab-df-convert\" onclick=\"convertToInteractive('df-c7b21026-df06-4e91-9a8e-7e1d80b3b40f')\"\n",
              "              title=\"Convert this dataframe to an interactive table.\"\n",
              "              style=\"display:none;\">\n",
              "        \n",
              "  <svg xmlns=\"http://www.w3.org/2000/svg\" height=\"24px\"viewBox=\"0 0 24 24\"\n",
              "       width=\"24px\">\n",
              "    <path d=\"M0 0h24v24H0V0z\" fill=\"none\"/>\n",
              "    <path d=\"M18.56 5.44l.94 2.06.94-2.06 2.06-.94-2.06-.94-.94-2.06-.94 2.06-2.06.94zm-11 1L8.5 8.5l.94-2.06 2.06-.94-2.06-.94L8.5 2.5l-.94 2.06-2.06.94zm10 10l.94 2.06.94-2.06 2.06-.94-2.06-.94-.94-2.06-.94 2.06-2.06.94z\"/><path d=\"M17.41 7.96l-1.37-1.37c-.4-.4-.92-.59-1.43-.59-.52 0-1.04.2-1.43.59L10.3 9.45l-7.72 7.72c-.78.78-.78 2.05 0 2.83L4 21.41c.39.39.9.59 1.41.59.51 0 1.02-.2 1.41-.59l7.78-7.78 2.81-2.81c.8-.78.8-2.07 0-2.86zM5.41 20L4 18.59l7.72-7.72 1.47 1.35L5.41 20z\"/>\n",
              "  </svg>\n",
              "      </button>\n",
              "      \n",
              "  <style>\n",
              "    .colab-df-container {\n",
              "      display:flex;\n",
              "      flex-wrap:wrap;\n",
              "      gap: 12px;\n",
              "    }\n",
              "\n",
              "    .colab-df-convert {\n",
              "      background-color: #E8F0FE;\n",
              "      border: none;\n",
              "      border-radius: 50%;\n",
              "      cursor: pointer;\n",
              "      display: none;\n",
              "      fill: #1967D2;\n",
              "      height: 32px;\n",
              "      padding: 0 0 0 0;\n",
              "      width: 32px;\n",
              "    }\n",
              "\n",
              "    .colab-df-convert:hover {\n",
              "      background-color: #E2EBFA;\n",
              "      box-shadow: 0px 1px 2px rgba(60, 64, 67, 0.3), 0px 1px 3px 1px rgba(60, 64, 67, 0.15);\n",
              "      fill: #174EA6;\n",
              "    }\n",
              "\n",
              "    [theme=dark] .colab-df-convert {\n",
              "      background-color: #3B4455;\n",
              "      fill: #D2E3FC;\n",
              "    }\n",
              "\n",
              "    [theme=dark] .colab-df-convert:hover {\n",
              "      background-color: #434B5C;\n",
              "      box-shadow: 0px 1px 3px 1px rgba(0, 0, 0, 0.15);\n",
              "      filter: drop-shadow(0px 1px 2px rgba(0, 0, 0, 0.3));\n",
              "      fill: #FFFFFF;\n",
              "    }\n",
              "  </style>\n",
              "\n",
              "      <script>\n",
              "        const buttonEl =\n",
              "          document.querySelector('#df-c7b21026-df06-4e91-9a8e-7e1d80b3b40f button.colab-df-convert');\n",
              "        buttonEl.style.display =\n",
              "          google.colab.kernel.accessAllowed ? 'block' : 'none';\n",
              "\n",
              "        async function convertToInteractive(key) {\n",
              "          const element = document.querySelector('#df-c7b21026-df06-4e91-9a8e-7e1d80b3b40f');\n",
              "          const dataTable =\n",
              "            await google.colab.kernel.invokeFunction('convertToInteractive',\n",
              "                                                     [key], {});\n",
              "          if (!dataTable) return;\n",
              "\n",
              "          const docLinkHtml = 'Like what you see? Visit the ' +\n",
              "            '<a target=\"_blank\" href=https://colab.research.google.com/notebooks/data_table.ipynb>data table notebook</a>'\n",
              "            + ' to learn more about interactive tables.';\n",
              "          element.innerHTML = '';\n",
              "          dataTable['output_type'] = 'display_data';\n",
              "          await google.colab.output.renderOutput(dataTable, element);\n",
              "          const docLink = document.createElement('div');\n",
              "          docLink.innerHTML = docLinkHtml;\n",
              "          element.appendChild(docLink);\n",
              "        }\n",
              "      </script>\n",
              "    </div>\n",
              "  </div>\n",
              "  "
            ]
          },
          "metadata": {},
          "execution_count": 49
        }
      ]
    },
    {
      "cell_type": "code",
      "source": [
        "plt.figure(figsize=(12,7))\n",
        "sns.barplot(data=top_user_rating, x=\"User-ID\", y=\"count\")\n",
        "plt.title(\"Top userId with highest number of rating\",fontsize=20);\n",
        "plt.xticks(rotation=90,fontsize=15)\n",
        "plt.xlabel(\"User-ID\",fontsize=20)\n",
        "plt.ylabel(\"Number of ratings\",fontsize=20);"
      ],
      "metadata": {
        "colab": {
          "base_uri": "https://localhost:8080/",
          "height": 573
        },
        "id": "rLigO3GQ6xeA",
        "outputId": "b4b03b75-67be-4242-bd3a-497bb8406cad"
      },
      "execution_count": null,
      "outputs": [
        {
          "output_type": "display_data",
          "data": {
            "text/plain": [
              "<Figure size 864x504 with 1 Axes>"
            ],
            "image/png": "[encoded data removed]"
          },
          "metadata": {
            "needs_background": "light"
          }
        }
      ]
    },
    {
      "cell_type": "markdown",
      "source": [
        "### Data pre-processing and feature engineering"
      ],
      "metadata": {
        "id": "Y0mIjGpKBe2t"
      }
    },
    {
      "cell_type": "code",
      "source": [
        "#Rating ranges from 1 to 10 with no 0\n",
        "rating_without_0=ratings_new[ratings_new['Book-Rating']!=0]"
      ],
      "metadata": {
        "id": "KShRFIDoS6ay"
      },
      "execution_count": null,
      "outputs": []
    },
    {
      "cell_type": "code",
      "source": [
        "#merge dataset\n",
        "Final_df_=user_df.copy()\n",
        "Final_df_=pd.merge(Final_df_,rating_without_0,on='User-ID')\n",
        "Final_df_=pd.merge(Final_df_,Book_df,on='ISBN')"
      ],
      "metadata": {
        "id": "yaH10NhiS6eP"
      },
      "execution_count": null,
      "outputs": []
    },
    {
      "cell_type": "code",
      "source": [
        "Final_df=Final_df_[['User-ID','Age','ISBN','Book-Rating','Book-Title','Book-Author','Year-Of-Publication','Publisher','Image-URL-S']]"
      ],
      "metadata": {
        "id": "zeuMFhsOLH0n"
      },
      "execution_count": null,
      "outputs": []
    },
    {
      "cell_type": "code",
      "source": [
        "#checking shape\n",
        "Final_df.shape"
      ],
      "metadata": {
        "id": "YMHJLH7jS6ii",
        "colab": {
          "base_uri": "https://localhost:8080/"
        },
        "outputId": "7b86f7b4-d202-4b76-bca3-008af71e5952"
      },
      "execution_count": null,
      "outputs": [
        {
          "output_type": "execute_result",
          "data": {
            "text/plain": [
              "(383842, 9)"
            ]
          },
          "metadata": {},
          "execution_count": 55
        }
      ]
    },
    {
      "cell_type": "code",
      "source": [
        "Final_df.head()"
      ],
      "metadata": {
        "id": "4phXkRRRS6mK",
        "colab": {
          "base_uri": "https://localhost:8080/",
          "height": 250
        },
        "outputId": "90d0317b-bc2f-495d-e2a9-6a132a3519ea"
      },
      "execution_count": null,
      "outputs": [
        {
          "output_type": "execute_result",
          "data": {
            "text/plain": [
              "   User-ID   Age        ISBN  Book-Rating    Book-Title           Book-Author  \\\n",
              "0        8   NaN  0002005018            5  Clara Callan  Richard Bruce Wright   \n",
              "1    11676   NaN  0002005018            8  Clara Callan  Richard Bruce Wright   \n",
              "2    67544  30.0  0002005018            8  Clara Callan  Richard Bruce Wright   \n",
              "3   116866   NaN  0002005018            9  Clara Callan  Richard Bruce Wright   \n",
              "4   123629   NaN  0002005018            9  Clara Callan  Richard Bruce Wright   \n",
              "\n",
              "   Year-Of-Publication              Publisher  \\\n",
              "0               2001.0  HarperFlamingo Canada   \n",
              "1               2001.0  HarperFlamingo Canada   \n",
              "2               2001.0  HarperFlamingo Canada   \n",
              "3               2001.0  HarperFlamingo Canada   \n",
              "4               2001.0  HarperFlamingo Canada   \n",
              "\n",
              "                                         Image-URL-S  \n",
              "0  http://images.amazon.com/images/P/0002005018.0...  \n",
              "1  http://images.amazon.com/images/P/0002005018.0...  \n",
              "2  http://images.amazon.com/images/P/0002005018.0...  \n",
              "3  http://images.amazon.com/images/P/0002005018.0...  \n",
              "4  http://images.amazon.com/images/P/0002005018.0...  "
            ],
            "text/html": [
              "\n",
              "  <div id=\"df-95427fa4-0930-4dbc-b4d6-05e76702cc88\">\n",
              "    <div class=\"colab-df-container\">\n",
              "      <div>\n",
              "<style scoped>\n",
              "    .dataframe tbody tr th:only-of-type {\n",
              "        vertical-align: middle;\n",
              "    }\n",
              "\n",
              "    .dataframe tbody tr th {\n",
              "        vertical-align: top;\n",
              "    }\n",
              "\n",
              "    .dataframe thead th {\n",
              "        text-align: right;\n",
              "    }\n",
              "</style>\n",
              "<table border=\"1\" class=\"dataframe\">\n",
              "  <thead>\n",
              "    <tr style=\"text-align: right;\">\n",
              "      <th></th>\n",
              "      <th>User-ID</th>\n",
              "      <th>Age</th>\n",
              "      <th>ISBN</th>\n",
              "      <th>Book-Rating</th>\n",
              "      <th>Book-Title</th>\n",
              "      <th>Book-Author</th>\n",
              "      <th>Year-Of-Publication</th>\n",
              "      <th>Publisher</th>\n",
              "      <th>Image-URL-S</th>\n",
              "    </tr>\n",
              "  </thead>\n",
              "  <tbody>\n",
              "    <tr>\n",
              "      <th>0</th>\n",
              "      <td>8</td>\n",
              "      <td>NaN</td>\n",
              "      <td>0002005018</td>\n",
              "      <td>5</td>\n",
              "      <td>Clara Callan</td>\n",
              "      <td>Richard Bruce Wright</td>\n",
              "      <td>2001.0</td>\n",
              "      <td>HarperFlamingo Canada</td>\n",
              "      <td>http://images.amazon.com/images/P/0002005018.0...</td>\n",
              "    </tr>\n",
              "    <tr>\n",
              "      <th>1</th>\n",
              "      <td>11676</td>\n",
              "      <td>NaN</td>\n",
              "      <td>0002005018</td>\n",
              "      <td>8</td>\n",
              "      <td>Clara Callan</td>\n",
              "      <td>Richard Bruce Wright</td>\n",
              "      <td>2001.0</td>\n",
              "      <td>HarperFlamingo Canada</td>\n",
              "      <td>http://images.amazon.com/images/P/0002005018.0...</td>\n",
              "    </tr>\n",
              "    <tr>\n",
              "      <th>2</th>\n",
              "      <td>67544</td>\n",
              "      <td>30.0</td>\n",
              "      <td>0002005018</td>\n",
              "      <td>8</td>\n",
              "      <td>Clara Callan</td>\n",
              "      <td>Richard Bruce Wright</td>\n",
              "      <td>2001.0</td>\n",
              "      <td>HarperFlamingo Canada</td>\n",
              "      <td>http://images.amazon.com/images/P/0002005018.0...</td>\n",
              "    </tr>\n",
              "    <tr>\n",
              "      <th>3</th>\n",
              "      <td>116866</td>\n",
              "      <td>NaN</td>\n",
              "      <td>0002005018</td>\n",
              "      <td>9</td>\n",
              "      <td>Clara Callan</td>\n",
              "      <td>Richard Bruce Wright</td>\n",
              "      <td>2001.0</td>\n",
              "      <td>HarperFlamingo Canada</td>\n",
              "      <td>http://images.amazon.com/images/P/0002005018.0...</td>\n",
              "    </tr>\n",
              "    <tr>\n",
              "      <th>4</th>\n",
              "      <td>123629</td>\n",
              "      <td>NaN</td>\n",
              "      <td>0002005018</td>\n",
              "      <td>9</td>\n",
              "      <td>Clara Callan</td>\n",
              "      <td>Richard Bruce Wright</td>\n",
              "      <td>2001.0</td>\n",
              "      <td>HarperFlamingo Canada</td>\n",
              "      <td>http://images.amazon.com/images/P/0002005018.0...</td>\n",
              "    </tr>\n",
              "  </tbody>\n",
              "</table>\n",
              "</div>\n",
              "      <button class=\"colab-df-convert\" onclick=\"convertToInteractive('df-95427fa4-0930-4dbc-b4d6-05e76702cc88')\"\n",
              "              title=\"Convert this dataframe to an interactive table.\"\n",
              "              style=\"display:none;\">\n",
              "        \n",
              "  <svg xmlns=\"http://www.w3.org/2000/svg\" height=\"24px\"viewBox=\"0 0 24 24\"\n",
              "       width=\"24px\">\n",
              "    <path d=\"M0 0h24v24H0V0z\" fill=\"none\"/>\n",
              "    <path d=\"M18.56 5.44l.94 2.06.94-2.06 2.06-.94-2.06-.94-.94-2.06-.94 2.06-2.06.94zm-11 1L8.5 8.5l.94-2.06 2.06-.94-2.06-.94L8.5 2.5l-.94 2.06-2.06.94zm10 10l.94 2.06.94-2.06 2.06-.94-2.06-.94-.94-2.06-.94 2.06-2.06.94z\"/><path d=\"M17.41 7.96l-1.37-1.37c-.4-.4-.92-.59-1.43-.59-.52 0-1.04.2-1.43.59L10.3 9.45l-7.72 7.72c-.78.78-.78 2.05 0 2.83L4 21.41c.39.39.9.59 1.41.59.51 0 1.02-.2 1.41-.59l7.78-7.78 2.81-2.81c.8-.78.8-2.07 0-2.86zM5.41 20L4 18.59l7.72-7.72 1.47 1.35L5.41 20z\"/>\n",
              "  </svg>\n",
              "      </button>\n",
              "      \n",
              "  <style>\n",
              "    .colab-df-container {\n",
              "      display:flex;\n",
              "      flex-wrap:wrap;\n",
              "      gap: 12px;\n",
              "    }\n",
              "\n",
              "    .colab-df-convert {\n",
              "      background-color: #E8F0FE;\n",
              "      border: none;\n",
              "      border-radius: 50%;\n",
              "      cursor: pointer;\n",
              "      display: none;\n",
              "      fill: #1967D2;\n",
              "      height: 32px;\n",
              "      padding: 0 0 0 0;\n",
              "      width: 32px;\n",
              "    }\n",
              "\n",
              "    .colab-df-convert:hover {\n",
              "      background-color: #E2EBFA;\n",
              "      box-shadow: 0px 1px 2px rgba(60, 64, 67, 0.3), 0px 1px 3px 1px rgba(60, 64, 67, 0.15);\n",
              "      fill: #174EA6;\n",
              "    }\n",
              "\n",
              "    [theme=dark] .colab-df-convert {\n",
              "      background-color: #3B4455;\n",
              "      fill: #D2E3FC;\n",
              "    }\n",
              "\n",
              "    [theme=dark] .colab-df-convert:hover {\n",
              "      background-color: #434B5C;\n",
              "      box-shadow: 0px 1px 3px 1px rgba(0, 0, 0, 0.15);\n",
              "      filter: drop-shadow(0px 1px 2px rgba(0, 0, 0, 0.3));\n",
              "      fill: #FFFFFF;\n",
              "    }\n",
              "  </style>\n",
              "\n",
              "      <script>\n",
              "        const buttonEl =\n",
              "          document.querySelector('#df-95427fa4-0930-4dbc-b4d6-05e76702cc88 button.colab-df-convert');\n",
              "        buttonEl.style.display =\n",
              "          google.colab.kernel.accessAllowed ? 'block' : 'none';\n",
              "\n",
              "        async function convertToInteractive(key) {\n",
              "          const element = document.querySelector('#df-95427fa4-0930-4dbc-b4d6-05e76702cc88');\n",
              "          const dataTable =\n",
              "            await google.colab.kernel.invokeFunction('convertToInteractive',\n",
              "                                                     [key], {});\n",
              "          if (!dataTable) return;\n",
              "\n",
              "          const docLinkHtml = 'Like what you see? Visit the ' +\n",
              "            '<a target=\"_blank\" href=https://colab.research.google.com/notebooks/data_table.ipynb>data table notebook</a>'\n",
              "            + ' to learn more about interactive tables.';\n",
              "          element.innerHTML = '';\n",
              "          dataTable['output_type'] = 'display_data';\n",
              "          await google.colab.output.renderOutput(dataTable, element);\n",
              "          const docLink = document.createElement('div');\n",
              "          docLink.innerHTML = docLinkHtml;\n",
              "          element.appendChild(docLink);\n",
              "        }\n",
              "      </script>\n",
              "    </div>\n",
              "  </div>\n",
              "  "
            ]
          },
          "metadata": {},
          "execution_count": 56
        }
      ]
    },
    {
      "cell_type": "code",
      "source": [
        "Final_df.isnull().sum()"
      ],
      "metadata": {
        "id": "ZxXaOMa3S6pK",
        "colab": {
          "base_uri": "https://localhost:8080/"
        },
        "outputId": "b105690b-519d-4315-da06-6b823eb94f9f"
      },
      "execution_count": null,
      "outputs": [
        {
          "output_type": "execute_result",
          "data": {
            "text/plain": [
              "User-ID                     0\n",
              "Age                    114221\n",
              "ISBN                        0\n",
              "Book-Rating                 0\n",
              "Book-Title                  0\n",
              "Book-Author                 1\n",
              "Year-Of-Publication         0\n",
              "Publisher                   2\n",
              "Image-URL-S                 0\n",
              "dtype: int64"
            ]
          },
          "metadata": {},
          "execution_count": 57
        }
      ]
    },
    {
      "cell_type": "markdown",
      "source": [
        "### Handeling null values"
      ],
      "metadata": {
        "id": "GTzAHYWXToZ7"
      }
    },
    {
      "cell_type": "code",
      "source": [
        "#age column\n",
        "sns.distplot(Final_df['Age'])\n"
      ],
      "metadata": {
        "colab": {
          "base_uri": "https://localhost:8080/",
          "height": 296
        },
        "id": "zU6doSviTnjU",
        "outputId": "9461489c-3178-441e-df24-15448b535735"
      },
      "execution_count": null,
      "outputs": [
        {
          "output_type": "execute_result",
          "data": {
            "text/plain": [
              "<matplotlib.axes._subplots.AxesSubplot at 0x7f02186675d0>"
            ]
          },
          "metadata": {},
          "execution_count": 58
        },
        {
          "output_type": "display_data",
          "data": {
            "text/plain": [
              "<Figure size 432x288 with 1 Axes>"
            ],
            "image/png": "[encoded data removed]"
          },
          "metadata": {
            "needs_background": "light"
          }
        }
      ]
    },
    {
      "cell_type": "code",
      "source": [
        "Final_df.loc[(Final_df.Age > 100) | (Final_df.Age < 5), 'Age'] = np.nan"
      ],
      "metadata": {
        "id": "YN1tJDEAS6r6"
      },
      "execution_count": null,
      "outputs": []
    },
    {
      "cell_type": "code",
      "source": [
        "Final_df['Age'].isnull().sum()"
      ],
      "metadata": {
        "id": "aYHHmI6cS6uX",
        "colab": {
          "base_uri": "https://localhost:8080/"
        },
        "outputId": "7059db8a-c1de-4810-8926-1d7862e5a7f4"
      },
      "execution_count": null,
      "outputs": [
        {
          "output_type": "execute_result",
          "data": {
            "text/plain": [
              "115824"
            ]
          },
          "metadata": {},
          "execution_count": 60
        }
      ]
    },
    {
      "cell_type": "code",
      "source": [
        "median_age=Final_df['Age'].median()"
      ],
      "metadata": {
        "id": "P45tZFV_annl"
      },
      "execution_count": null,
      "outputs": []
    },
    {
      "cell_type": "code",
      "source": [
        "Final_df['Age'] = Final_df['Age'].fillna(median_age)"
      ],
      "metadata": {
        "id": "IEeTT5YnaRAd"
      },
      "execution_count": null,
      "outputs": []
    },
    {
      "cell_type": "code",
      "source": [
        "#Filling Nan value of Publisher with unknown\n",
        "Final_df.Publisher.fillna('unknown',inplace=True)"
      ],
      "metadata": {
        "id": "KugGnebMhBMv"
      },
      "execution_count": null,
      "outputs": []
    },
    {
      "cell_type": "code",
      "source": [
        "#Filling Nan value of Book-Author with others\n",
        "Final_df['Book-Author'].fillna('unknown',inplace=True)"
      ],
      "metadata": {
        "id": "PXVPjzB_hXA4"
      },
      "execution_count": null,
      "outputs": []
    },
    {
      "cell_type": "code",
      "source": [
        "Final_df.isnull().sum()"
      ],
      "metadata": {
        "colab": {
          "base_uri": "https://localhost:8080/"
        },
        "id": "ep_0H_bqhnb8",
        "outputId": "57725220-0d7f-42ea-9674-9cb694f8129b"
      },
      "execution_count": null,
      "outputs": [
        {
          "output_type": "execute_result",
          "data": {
            "text/plain": [
              "User-ID                0\n",
              "Age                    0\n",
              "ISBN                   0\n",
              "Book-Rating            0\n",
              "Book-Title             0\n",
              "Book-Author            0\n",
              "Year-Of-Publication    0\n",
              "Publisher              0\n",
              "Image-URL-S            0\n",
              "dtype: int64"
            ]
          },
          "metadata": {},
          "execution_count": 65
        }
      ]
    },
    {
      "cell_type": "code",
      "source": [
        "Final_df.duplicated().sum()"
      ],
      "metadata": {
        "colab": {
          "base_uri": "https://localhost:8080/"
        },
        "id": "hew-5GPd0MVE",
        "outputId": "8411b58a-c009-425d-a72d-0d3a1547c36f"
      },
      "execution_count": null,
      "outputs": [
        {
          "output_type": "execute_result",
          "data": {
            "text/plain": [
              "0"
            ]
          },
          "metadata": {},
          "execution_count": 66
        }
      ]
    },
    {
      "cell_type": "markdown",
      "source": [
        "## Popularity Based Recommender System"
      ],
      "metadata": {
        "id": "cO0IaDTQhyul"
      }
    },
    {
      "cell_type": "code",
      "source": [
        "Final_df[['User-ID','Book-Title','Book-Rating']]"
      ],
      "metadata": {
        "colab": {
          "base_uri": "https://localhost:8080/",
          "height": 424
        },
        "id": "zlpEI_z_pOGa",
        "outputId": "2341fa9e-cd6b-4856-aa21-cae77c085296"
      },
      "execution_count": null,
      "outputs": [
        {
          "output_type": "execute_result",
          "data": {
            "text/plain": [
              "        User-ID                                         Book-Title  \\\n",
              "0             8                                       Clara Callan   \n",
              "1         11676                                       Clara Callan   \n",
              "2         67544                                       Clara Callan   \n",
              "3        116866                                       Clara Callan   \n",
              "4        123629                                       Clara Callan   \n",
              "...         ...                                                ...   \n",
              "383837   278851  All Elevations Unknown: An Adventure in the He...   \n",
              "383838   278851                            WebClasses From Scratch   \n",
              "383839   278851  Why stop?: A guide to Texas historical roadsid...   \n",
              "383840   278851  The Are You Being Served? Stories: 'Camping In...   \n",
              "383841   278851  Dallas Street Map Guide and Directory, 2000 Ed...   \n",
              "\n",
              "        Book-Rating  \n",
              "0                 5  \n",
              "1                 8  \n",
              "2                 8  \n",
              "3                 9  \n",
              "4                 9  \n",
              "...             ...  \n",
              "383837            5  \n",
              "383838            5  \n",
              "383839            7  \n",
              "383840            7  \n",
              "383841           10  \n",
              "\n",
              "[383842 rows x 3 columns]"
            ],
            "text/html": [
              "\n",
              "  <div id=\"df-564b02a8-7a86-4626-a85c-ce3c2b524118\">\n",
              "    <div class=\"colab-df-container\">\n",
              "      <div>\n",
              "<style scoped>\n",
              "    .dataframe tbody tr th:only-of-type {\n",
              "        vertical-align: middle;\n",
              "    }\n",
              "\n",
              "    .dataframe tbody tr th {\n",
              "        vertical-align: top;\n",
              "    }\n",
              "\n",
              "    .dataframe thead th {\n",
              "        text-align: right;\n",
              "    }\n",
              "</style>\n",
              "<table border=\"1\" class=\"dataframe\">\n",
              "  <thead>\n",
              "    <tr style=\"text-align: right;\">\n",
              "      <th></th>\n",
              "      <th>User-ID</th>\n",
              "      <th>Book-Title</th>\n",
              "      <th>Book-Rating</th>\n",
              "    </tr>\n",
              "  </thead>\n",
              "  <tbody>\n",
              "    <tr>\n",
              "      <th>0</th>\n",
              "      <td>8</td>\n",
              "      <td>Clara Callan</td>\n",
              "      <td>5</td>\n",
              "    </tr>\n",
              "    <tr>\n",
              "      <th>1</th>\n",
              "      <td>11676</td>\n",
              "      <td>Clara Callan</td>\n",
              "      <td>8</td>\n",
              "    </tr>\n",
              "    <tr>\n",
              "      <th>2</th>\n",
              "      <td>67544</td>\n",
              "      <td>Clara Callan</td>\n",
              "      <td>8</td>\n",
              "    </tr>\n",
              "    <tr>\n",
              "      <th>3</th>\n",
              "      <td>116866</td>\n",
              "      <td>Clara Callan</td>\n",
              "      <td>9</td>\n",
              "    </tr>\n",
              "    <tr>\n",
              "      <th>4</th>\n",
              "      <td>123629</td>\n",
              "      <td>Clara Callan</td>\n",
              "      <td>9</td>\n",
              "    </tr>\n",
              "    <tr>\n",
              "      <th>...</th>\n",
              "      <td>...</td>\n",
              "      <td>...</td>\n",
              "      <td>...</td>\n",
              "    </tr>\n",
              "    <tr>\n",
              "      <th>383837</th>\n",
              "      <td>278851</td>\n",
              "      <td>All Elevations Unknown: An Adventure in the He...</td>\n",
              "      <td>5</td>\n",
              "    </tr>\n",
              "    <tr>\n",
              "      <th>383838</th>\n",
              "      <td>278851</td>\n",
              "      <td>WebClasses From Scratch</td>\n",
              "      <td>5</td>\n",
              "    </tr>\n",
              "    <tr>\n",
              "      <th>383839</th>\n",
              "      <td>278851</td>\n",
              "      <td>Why stop?: A guide to Texas historical roadsid...</td>\n",
              "      <td>7</td>\n",
              "    </tr>\n",
              "    <tr>\n",
              "      <th>383840</th>\n",
              "      <td>278851</td>\n",
              "      <td>The Are You Being Served? Stories: 'Camping In...</td>\n",
              "      <td>7</td>\n",
              "    </tr>\n",
              "    <tr>\n",
              "      <th>383841</th>\n",
              "      <td>278851</td>\n",
              "      <td>Dallas Street Map Guide and Directory, 2000 Ed...</td>\n",
              "      <td>10</td>\n",
              "    </tr>\n",
              "  </tbody>\n",
              "</table>\n",
              "<p>383842 rows × 3 columns</p>\n",
              "</div>\n",
              "      <button class=\"colab-df-convert\" onclick=\"convertToInteractive('df-564b02a8-7a86-4626-a85c-ce3c2b524118')\"\n",
              "              title=\"Convert this dataframe to an interactive table.\"\n",
              "              style=\"display:none;\">\n",
              "        \n",
              "  <svg xmlns=\"http://www.w3.org/2000/svg\" height=\"24px\"viewBox=\"0 0 24 24\"\n",
              "       width=\"24px\">\n",
              "    <path d=\"M0 0h24v24H0V0z\" fill=\"none\"/>\n",
              "    <path d=\"M18.56 5.44l.94 2.06.94-2.06 2.06-.94-2.06-.94-.94-2.06-.94 2.06-2.06.94zm-11 1L8.5 8.5l.94-2.06 2.06-.94-2.06-.94L8.5 2.5l-.94 2.06-2.06.94zm10 10l.94 2.06.94-2.06 2.06-.94-2.06-.94-.94-2.06-.94 2.06-2.06.94z\"/><path d=\"M17.41 7.96l-1.37-1.37c-.4-.4-.92-.59-1.43-.59-.52 0-1.04.2-1.43.59L10.3 9.45l-7.72 7.72c-.78.78-.78 2.05 0 2.83L4 21.41c.39.39.9.59 1.41.59.51 0 1.02-.2 1.41-.59l7.78-7.78 2.81-2.81c.8-.78.8-2.07 0-2.86zM5.41 20L4 18.59l7.72-7.72 1.47 1.35L5.41 20z\"/>\n",
              "  </svg>\n",
              "      </button>\n",
              "      \n",
              "  <style>\n",
              "    .colab-df-container {\n",
              "      display:flex;\n",
              "      flex-wrap:wrap;\n",
              "      gap: 12px;\n",
              "    }\n",
              "\n",
              "    .colab-df-convert {\n",
              "      background-color: #E8F0FE;\n",
              "      border: none;\n",
              "      border-radius: 50%;\n",
              "      cursor: pointer;\n",
              "      display: none;\n",
              "      fill: #1967D2;\n",
              "      height: 32px;\n",
              "      padding: 0 0 0 0;\n",
              "      width: 32px;\n",
              "    }\n",
              "\n",
              "    .colab-df-convert:hover {\n",
              "      background-color: #E2EBFA;\n",
              "      box-shadow: 0px 1px 2px rgba(60, 64, 67, 0.3), 0px 1px 3px 1px rgba(60, 64, 67, 0.15);\n",
              "      fill: #174EA6;\n",
              "    }\n",
              "\n",
              "    [theme=dark] .colab-df-convert {\n",
              "      background-color: #3B4455;\n",
              "      fill: #D2E3FC;\n",
              "    }\n",
              "\n",
              "    [theme=dark] .colab-df-convert:hover {\n",
              "      background-color: #434B5C;\n",
              "      box-shadow: 0px 1px 3px 1px rgba(0, 0, 0, 0.15);\n",
              "      filter: drop-shadow(0px 1px 2px rgba(0, 0, 0, 0.3));\n",
              "      fill: #FFFFFF;\n",
              "    }\n",
              "  </style>\n",
              "\n",
              "      <script>\n",
              "        const buttonEl =\n",
              "          document.querySelector('#df-564b02a8-7a86-4626-a85c-ce3c2b524118 button.colab-df-convert');\n",
              "        buttonEl.style.display =\n",
              "          google.colab.kernel.accessAllowed ? 'block' : 'none';\n",
              "\n",
              "        async function convertToInteractive(key) {\n",
              "          const element = document.querySelector('#df-564b02a8-7a86-4626-a85c-ce3c2b524118');\n",
              "          const dataTable =\n",
              "            await google.colab.kernel.invokeFunction('convertToInteractive',\n",
              "                                                     [key], {});\n",
              "          if (!dataTable) return;\n",
              "\n",
              "          const docLinkHtml = 'Like what you see? Visit the ' +\n",
              "            '<a target=\"_blank\" href=https://colab.research.google.com/notebooks/data_table.ipynb>data table notebook</a>'\n",
              "            + ' to learn more about interactive tables.';\n",
              "          element.innerHTML = '';\n",
              "          dataTable['output_type'] = 'display_data';\n",
              "          await google.colab.output.renderOutput(dataTable, element);\n",
              "          const docLink = document.createElement('div');\n",
              "          docLink.innerHTML = docLinkHtml;\n",
              "          element.appendChild(docLink);\n",
              "        }\n",
              "      </script>\n",
              "    </div>\n",
              "  </div>\n",
              "  "
            ]
          },
          "metadata": {},
          "execution_count": 100
        }
      ]
    },
    {
      "cell_type": "code",
      "source": [
        "fig = plt.figure(figsize=(15, 7))\n",
        "recmetrics.long_tail_plot(df=Final_df[['User-ID','Book-Title','Book-Rating']], \n",
        "             item_id_column=\"Book-Title\", \n",
        "             interaction_type=\"Book-Rating\", \n",
        "             percentage=0.5,\n",
        "             x_labels=False)"
      ],
      "metadata": {
        "colab": {
          "base_uri": "https://localhost:8080/",
          "height": 441
        },
        "id": "_ycRkdi9oXm-",
        "outputId": "eeab2f2c-914f-477f-a065-81677ae21c40"
      },
      "execution_count": null,
      "outputs": [
        {
          "output_type": "display_data",
          "data": {
            "text/plain": [
              "<Figure size 1080x504 with 1 Axes>"
            ],
            "image/png": "[encoded data removed]"
          },
          "metadata": {
            "needs_background": "light"
          }
        }
      ]
    },
    {
      "cell_type": "code",
      "source": [
        "#number of rating for each book\n",
        "num_rating=Final_df.groupby('Book-Title').agg({'Book-Rating':'count'}).reset_index()\n",
        "num_rating.rename(columns = {'Book-Title':'Book-Title','Book-Rating':\"Rating_count\"},inplace=True)\n",
        "num_rating"
      ],
      "metadata": {
        "colab": {
          "base_uri": "https://localhost:8080/",
          "height": 424
        },
        "id": "U8QtSMOPhyBs",
        "outputId": "268918fe-abdc-4c26-9784-4793ba799dd6"
      },
      "execution_count": null,
      "outputs": [
        {
          "output_type": "execute_result",
          "data": {
            "text/plain": [
              "                                               Book-Title  Rating_count\n",
              "0        A Light in the Storm: The Civil War Diary of ...             1\n",
              "1        Ask Lily (Young Women of Faith: Lily Series, ...             1\n",
              "2                                            Dark Justice             1\n",
              "3        Earth Prayers From around the World: 365 Pray...             7\n",
              "4        Final Fantasy Anthology: Official Strategy Gu...             2\n",
              "...                                                   ...           ...\n",
              "135562  Ã?Â?bernachten mit Stil. Die schÃ?Â¶nsten Coun...             1\n",
              "135563                     Ã?Â?rger mit Produkt X. Roman.             3\n",
              "135564                                Ã?Â?sterlich leben.             1\n",
              "135565                              Ã?Â?stlich der Berge.             1\n",
              "135566                                  Ã?Â?thique en toc             1\n",
              "\n",
              "[135567 rows x 2 columns]"
            ],
            "text/html": [
              "\n",
              "  <div id=\"df-12821d92-4caf-4150-a13c-a8b8c4c4d462\">\n",
              "    <div class=\"colab-df-container\">\n",
              "      <div>\n",
              "<style scoped>\n",
              "    .dataframe tbody tr th:only-of-type {\n",
              "        vertical-align: middle;\n",
              "    }\n",
              "\n",
              "    .dataframe tbody tr th {\n",
              "        vertical-align: top;\n",
              "    }\n",
              "\n",
              "    .dataframe thead th {\n",
              "        text-align: right;\n",
              "    }\n",
              "</style>\n",
              "<table border=\"1\" class=\"dataframe\">\n",
              "  <thead>\n",
              "    <tr style=\"text-align: right;\">\n",
              "      <th></th>\n",
              "      <th>Book-Title</th>\n",
              "      <th>Rating_count</th>\n",
              "    </tr>\n",
              "  </thead>\n",
              "  <tbody>\n",
              "    <tr>\n",
              "      <th>0</th>\n",
              "      <td>A Light in the Storm: The Civil War Diary of ...</td>\n",
              "      <td>1</td>\n",
              "    </tr>\n",
              "    <tr>\n",
              "      <th>1</th>\n",
              "      <td>Ask Lily (Young Women of Faith: Lily Series, ...</td>\n",
              "      <td>1</td>\n",
              "    </tr>\n",
              "    <tr>\n",
              "      <th>2</th>\n",
              "      <td>Dark Justice</td>\n",
              "      <td>1</td>\n",
              "    </tr>\n",
              "    <tr>\n",
              "      <th>3</th>\n",
              "      <td>Earth Prayers From around the World: 365 Pray...</td>\n",
              "      <td>7</td>\n",
              "    </tr>\n",
              "    <tr>\n",
              "      <th>4</th>\n",
              "      <td>Final Fantasy Anthology: Official Strategy Gu...</td>\n",
              "      <td>2</td>\n",
              "    </tr>\n",
              "    <tr>\n",
              "      <th>...</th>\n",
              "      <td>...</td>\n",
              "      <td>...</td>\n",
              "    </tr>\n",
              "    <tr>\n",
              "      <th>135562</th>\n",
              "      <td>Ã?Â?bernachten mit Stil. Die schÃ?Â¶nsten Coun...</td>\n",
              "      <td>1</td>\n",
              "    </tr>\n",
              "    <tr>\n",
              "      <th>135563</th>\n",
              "      <td>Ã?Â?rger mit Produkt X. Roman.</td>\n",
              "      <td>3</td>\n",
              "    </tr>\n",
              "    <tr>\n",
              "      <th>135564</th>\n",
              "      <td>Ã?Â?sterlich leben.</td>\n",
              "      <td>1</td>\n",
              "    </tr>\n",
              "    <tr>\n",
              "      <th>135565</th>\n",
              "      <td>Ã?Â?stlich der Berge.</td>\n",
              "      <td>1</td>\n",
              "    </tr>\n",
              "    <tr>\n",
              "      <th>135566</th>\n",
              "      <td>Ã?Â?thique en toc</td>\n",
              "      <td>1</td>\n",
              "    </tr>\n",
              "  </tbody>\n",
              "</table>\n",
              "<p>135567 rows × 2 columns</p>\n",
              "</div>\n",
              "      <button class=\"colab-df-convert\" onclick=\"convertToInteractive('df-12821d92-4caf-4150-a13c-a8b8c4c4d462')\"\n",
              "              title=\"Convert this dataframe to an interactive table.\"\n",
              "              style=\"display:none;\">\n",
              "        \n",
              "  <svg xmlns=\"http://www.w3.org/2000/svg\" height=\"24px\"viewBox=\"0 0 24 24\"\n",
              "       width=\"24px\">\n",
              "    <path d=\"M0 0h24v24H0V0z\" fill=\"none\"/>\n",
              "    <path d=\"M18.56 5.44l.94 2.06.94-2.06 2.06-.94-2.06-.94-.94-2.06-.94 2.06-2.06.94zm-11 1L8.5 8.5l.94-2.06 2.06-.94-2.06-.94L8.5 2.5l-.94 2.06-2.06.94zm10 10l.94 2.06.94-2.06 2.06-.94-2.06-.94-.94-2.06-.94 2.06-2.06.94z\"/><path d=\"M17.41 7.96l-1.37-1.37c-.4-.4-.92-.59-1.43-.59-.52 0-1.04.2-1.43.59L10.3 9.45l-7.72 7.72c-.78.78-.78 2.05 0 2.83L4 21.41c.39.39.9.59 1.41.59.51 0 1.02-.2 1.41-.59l7.78-7.78 2.81-2.81c.8-.78.8-2.07 0-2.86zM5.41 20L4 18.59l7.72-7.72 1.47 1.35L5.41 20z\"/>\n",
              "  </svg>\n",
              "      </button>\n",
              "      \n",
              "  <style>\n",
              "    .colab-df-container {\n",
              "      display:flex;\n",
              "      flex-wrap:wrap;\n",
              "      gap: 12px;\n",
              "    }\n",
              "\n",
              "    .colab-df-convert {\n",
              "      background-color: #E8F0FE;\n",
              "      border: none;\n",
              "      border-radius: 50%;\n",
              "      cursor: pointer;\n",
              "      display: none;\n",
              "      fill: #1967D2;\n",
              "      height: 32px;\n",
              "      padding: 0 0 0 0;\n",
              "      width: 32px;\n",
              "    }\n",
              "\n",
              "    .colab-df-convert:hover {\n",
              "      background-color: #E2EBFA;\n",
              "      box-shadow: 0px 1px 2px rgba(60, 64, 67, 0.3), 0px 1px 3px 1px rgba(60, 64, 67, 0.15);\n",
              "      fill: #174EA6;\n",
              "    }\n",
              "\n",
              "    [theme=dark] .colab-df-convert {\n",
              "      background-color: #3B4455;\n",
              "      fill: #D2E3FC;\n",
              "    }\n",
              "\n",
              "    [theme=dark] .colab-df-convert:hover {\n",
              "      background-color: #434B5C;\n",
              "      box-shadow: 0px 1px 3px 1px rgba(0, 0, 0, 0.15);\n",
              "      filter: drop-shadow(0px 1px 2px rgba(0, 0, 0, 0.3));\n",
              "      fill: #FFFFFF;\n",
              "    }\n",
              "  </style>\n",
              "\n",
              "      <script>\n",
              "        const buttonEl =\n",
              "          document.querySelector('#df-12821d92-4caf-4150-a13c-a8b8c4c4d462 button.colab-df-convert');\n",
              "        buttonEl.style.display =\n",
              "          google.colab.kernel.accessAllowed ? 'block' : 'none';\n",
              "\n",
              "        async function convertToInteractive(key) {\n",
              "          const element = document.querySelector('#df-12821d92-4caf-4150-a13c-a8b8c4c4d462');\n",
              "          const dataTable =\n",
              "            await google.colab.kernel.invokeFunction('convertToInteractive',\n",
              "                                                     [key], {});\n",
              "          if (!dataTable) return;\n",
              "\n",
              "          const docLinkHtml = 'Like what you see? Visit the ' +\n",
              "            '<a target=\"_blank\" href=https://colab.research.google.com/notebooks/data_table.ipynb>data table notebook</a>'\n",
              "            + ' to learn more about interactive tables.';\n",
              "          element.innerHTML = '';\n",
              "          dataTable['output_type'] = 'display_data';\n",
              "          await google.colab.output.renderOutput(dataTable, element);\n",
              "          const docLink = document.createElement('div');\n",
              "          docLink.innerHTML = docLinkHtml;\n",
              "          element.appendChild(docLink);\n",
              "        }\n",
              "      </script>\n",
              "    </div>\n",
              "  </div>\n",
              "  "
            ]
          },
          "metadata": {},
          "execution_count": 67
        }
      ]
    },
    {
      "cell_type": "code",
      "source": [
        "#averave rating for each book\n",
        "avg_rating=Final_df.groupby('Book-Title').agg({'Book-Rating':'mean'}).reset_index()\n",
        "avg_rating.rename(columns = {'Book-Title':'Book-Title','Book-Rating':\"Avg_rating\"},inplace=True)\n",
        "avg_rating"
      ],
      "metadata": {
        "colab": {
          "base_uri": "https://localhost:8080/",
          "height": 424
        },
        "id": "gsmY9IeQlD_P",
        "outputId": "43c037e6-a98b-4dea-a443-16d30ab0045c"
      },
      "execution_count": null,
      "outputs": [
        {
          "output_type": "execute_result",
          "data": {
            "text/plain": [
              "                                               Book-Title  Avg_rating\n",
              "0        A Light in the Storm: The Civil War Diary of ...    9.000000\n",
              "1        Ask Lily (Young Women of Faith: Lily Series, ...    8.000000\n",
              "2                                            Dark Justice   10.000000\n",
              "3        Earth Prayers From around the World: 365 Pray...    7.142857\n",
              "4        Final Fantasy Anthology: Official Strategy Gu...   10.000000\n",
              "...                                                   ...         ...\n",
              "135562  Ã?Â?bernachten mit Stil. Die schÃ?Â¶nsten Coun...    8.000000\n",
              "135563                     Ã?Â?rger mit Produkt X. Roman.    7.000000\n",
              "135564                                Ã?Â?sterlich leben.    7.000000\n",
              "135565                              Ã?Â?stlich der Berge.    8.000000\n",
              "135566                                  Ã?Â?thique en toc    8.000000\n",
              "\n",
              "[135567 rows x 2 columns]"
            ],
            "text/html": [
              "\n",
              "  <div id=\"df-b9968c03-0c1e-4a82-88fa-b23aa89023c0\">\n",
              "    <div class=\"colab-df-container\">\n",
              "      <div>\n",
              "<style scoped>\n",
              "    .dataframe tbody tr th:only-of-type {\n",
              "        vertical-align: middle;\n",
              "    }\n",
              "\n",
              "    .dataframe tbody tr th {\n",
              "        vertical-align: top;\n",
              "    }\n",
              "\n",
              "    .dataframe thead th {\n",
              "        text-align: right;\n",
              "    }\n",
              "</style>\n",
              "<table border=\"1\" class=\"dataframe\">\n",
              "  <thead>\n",
              "    <tr style=\"text-align: right;\">\n",
              "      <th></th>\n",
              "      <th>Book-Title</th>\n",
              "      <th>Avg_rating</th>\n",
              "    </tr>\n",
              "  </thead>\n",
              "  <tbody>\n",
              "    <tr>\n",
              "      <th>0</th>\n",
              "      <td>A Light in the Storm: The Civil War Diary of ...</td>\n",
              "      <td>9.000000</td>\n",
              "    </tr>\n",
              "    <tr>\n",
              "      <th>1</th>\n",
              "      <td>Ask Lily (Young Women of Faith: Lily Series, ...</td>\n",
              "      <td>8.000000</td>\n",
              "    </tr>\n",
              "    <tr>\n",
              "      <th>2</th>\n",
              "      <td>Dark Justice</td>\n",
              "      <td>10.000000</td>\n",
              "    </tr>\n",
              "    <tr>\n",
              "      <th>3</th>\n",
              "      <td>Earth Prayers From around the World: 365 Pray...</td>\n",
              "      <td>7.142857</td>\n",
              "    </tr>\n",
              "    <tr>\n",
              "      <th>4</th>\n",
              "      <td>Final Fantasy Anthology: Official Strategy Gu...</td>\n",
              "      <td>10.000000</td>\n",
              "    </tr>\n",
              "    <tr>\n",
              "      <th>...</th>\n",
              "      <td>...</td>\n",
              "      <td>...</td>\n",
              "    </tr>\n",
              "    <tr>\n",
              "      <th>135562</th>\n",
              "      <td>Ã?Â?bernachten mit Stil. Die schÃ?Â¶nsten Coun...</td>\n",
              "      <td>8.000000</td>\n",
              "    </tr>\n",
              "    <tr>\n",
              "      <th>135563</th>\n",
              "      <td>Ã?Â?rger mit Produkt X. Roman.</td>\n",
              "      <td>7.000000</td>\n",
              "    </tr>\n",
              "    <tr>\n",
              "      <th>135564</th>\n",
              "      <td>Ã?Â?sterlich leben.</td>\n",
              "      <td>7.000000</td>\n",
              "    </tr>\n",
              "    <tr>\n",
              "      <th>135565</th>\n",
              "      <td>Ã?Â?stlich der Berge.</td>\n",
              "      <td>8.000000</td>\n",
              "    </tr>\n",
              "    <tr>\n",
              "      <th>135566</th>\n",
              "      <td>Ã?Â?thique en toc</td>\n",
              "      <td>8.000000</td>\n",
              "    </tr>\n",
              "  </tbody>\n",
              "</table>\n",
              "<p>135567 rows × 2 columns</p>\n",
              "</div>\n",
              "      <button class=\"colab-df-convert\" onclick=\"convertToInteractive('df-b9968c03-0c1e-4a82-88fa-b23aa89023c0')\"\n",
              "              title=\"Convert this dataframe to an interactive table.\"\n",
              "              style=\"display:none;\">\n",
              "        \n",
              "  <svg xmlns=\"http://www.w3.org/2000/svg\" height=\"24px\"viewBox=\"0 0 24 24\"\n",
              "       width=\"24px\">\n",
              "    <path d=\"M0 0h24v24H0V0z\" fill=\"none\"/>\n",
              "    <path d=\"M18.56 5.44l.94 2.06.94-2.06 2.06-.94-2.06-.94-.94-2.06-.94 2.06-2.06.94zm-11 1L8.5 8.5l.94-2.06 2.06-.94-2.06-.94L8.5 2.5l-.94 2.06-2.06.94zm10 10l.94 2.06.94-2.06 2.06-.94-2.06-.94-.94-2.06-.94 2.06-2.06.94z\"/><path d=\"M17.41 7.96l-1.37-1.37c-.4-.4-.92-.59-1.43-.59-.52 0-1.04.2-1.43.59L10.3 9.45l-7.72 7.72c-.78.78-.78 2.05 0 2.83L4 21.41c.39.39.9.59 1.41.59.51 0 1.02-.2 1.41-.59l7.78-7.78 2.81-2.81c.8-.78.8-2.07 0-2.86zM5.41 20L4 18.59l7.72-7.72 1.47 1.35L5.41 20z\"/>\n",
              "  </svg>\n",
              "      </button>\n",
              "      \n",
              "  <style>\n",
              "    .colab-df-container {\n",
              "      display:flex;\n",
              "      flex-wrap:wrap;\n",
              "      gap: 12px;\n",
              "    }\n",
              "\n",
              "    .colab-df-convert {\n",
              "      background-color: #E8F0FE;\n",
              "      border: none;\n",
              "      border-radius: 50%;\n",
              "      cursor: pointer;\n",
              "      display: none;\n",
              "      fill: #1967D2;\n",
              "      height: 32px;\n",
              "      padding: 0 0 0 0;\n",
              "      width: 32px;\n",
              "    }\n",
              "\n",
              "    .colab-df-convert:hover {\n",
              "      background-color: #E2EBFA;\n",
              "      box-shadow: 0px 1px 2px rgba(60, 64, 67, 0.3), 0px 1px 3px 1px rgba(60, 64, 67, 0.15);\n",
              "      fill: #174EA6;\n",
              "    }\n",
              "\n",
              "    [theme=dark] .colab-df-convert {\n",
              "      background-color: #3B4455;\n",
              "      fill: #D2E3FC;\n",
              "    }\n",
              "\n",
              "    [theme=dark] .colab-df-convert:hover {\n",
              "      background-color: #434B5C;\n",
              "      box-shadow: 0px 1px 3px 1px rgba(0, 0, 0, 0.15);\n",
              "      filter: drop-shadow(0px 1px 2px rgba(0, 0, 0, 0.3));\n",
              "      fill: #FFFFFF;\n",
              "    }\n",
              "  </style>\n",
              "\n",
              "      <script>\n",
              "        const buttonEl =\n",
              "          document.querySelector('#df-b9968c03-0c1e-4a82-88fa-b23aa89023c0 button.colab-df-convert');\n",
              "        buttonEl.style.display =\n",
              "          google.colab.kernel.accessAllowed ? 'block' : 'none';\n",
              "\n",
              "        async function convertToInteractive(key) {\n",
              "          const element = document.querySelector('#df-b9968c03-0c1e-4a82-88fa-b23aa89023c0');\n",
              "          const dataTable =\n",
              "            await google.colab.kernel.invokeFunction('convertToInteractive',\n",
              "                                                     [key], {});\n",
              "          if (!dataTable) return;\n",
              "\n",
              "          const docLinkHtml = 'Like what you see? Visit the ' +\n",
              "            '<a target=\"_blank\" href=https://colab.research.google.com/notebooks/data_table.ipynb>data table notebook</a>'\n",
              "            + ' to learn more about interactive tables.';\n",
              "          element.innerHTML = '';\n",
              "          dataTable['output_type'] = 'display_data';\n",
              "          await google.colab.output.renderOutput(dataTable, element);\n",
              "          const docLink = document.createElement('div');\n",
              "          docLink.innerHTML = docLinkHtml;\n",
              "          element.appendChild(docLink);\n",
              "        }\n",
              "      </script>\n",
              "    </div>\n",
              "  </div>\n",
              "  "
            ]
          },
          "metadata": {},
          "execution_count": 68
        }
      ]
    },
    {
      "cell_type": "code",
      "source": [
        "#Merging num_rating and avg_rating dataframes on Book-Title column\n",
        "popular_book_df = num_rating.merge(avg_rating,on='Book-Title')\n",
        "popular_book_df"
      ],
      "metadata": {
        "colab": {
          "base_uri": "https://localhost:8080/",
          "height": 424
        },
        "id": "8hqng-6cmkmm",
        "outputId": "cde5c81a-a5f6-429b-95a6-576a9f3fa92d"
      },
      "execution_count": null,
      "outputs": [
        {
          "output_type": "execute_result",
          "data": {
            "text/plain": [
              "                                               Book-Title  Rating_count  \\\n",
              "0        A Light in the Storm: The Civil War Diary of ...             1   \n",
              "1        Ask Lily (Young Women of Faith: Lily Series, ...             1   \n",
              "2                                            Dark Justice             1   \n",
              "3        Earth Prayers From around the World: 365 Pray...             7   \n",
              "4        Final Fantasy Anthology: Official Strategy Gu...             2   \n",
              "...                                                   ...           ...   \n",
              "135562  Ã?Â?bernachten mit Stil. Die schÃ?Â¶nsten Coun...             1   \n",
              "135563                     Ã?Â?rger mit Produkt X. Roman.             3   \n",
              "135564                                Ã?Â?sterlich leben.             1   \n",
              "135565                              Ã?Â?stlich der Berge.             1   \n",
              "135566                                  Ã?Â?thique en toc             1   \n",
              "\n",
              "        Avg_rating  \n",
              "0         9.000000  \n",
              "1         8.000000  \n",
              "2        10.000000  \n",
              "3         7.142857  \n",
              "4        10.000000  \n",
              "...            ...  \n",
              "135562    8.000000  \n",
              "135563    7.000000  \n",
              "135564    7.000000  \n",
              "135565    8.000000  \n",
              "135566    8.000000  \n",
              "\n",
              "[135567 rows x 3 columns]"
            ],
            "text/html": [
              "\n",
              "  <div id=\"df-365510f2-d6fb-45a1-a950-157cd23e52f3\">\n",
              "    <div class=\"colab-df-container\">\n",
              "      <div>\n",
              "<style scoped>\n",
              "    .dataframe tbody tr th:only-of-type {\n",
              "        vertical-align: middle;\n",
              "    }\n",
              "\n",
              "    .dataframe tbody tr th {\n",
              "        vertical-align: top;\n",
              "    }\n",
              "\n",
              "    .dataframe thead th {\n",
              "        text-align: right;\n",
              "    }\n",
              "</style>\n",
              "<table border=\"1\" class=\"dataframe\">\n",
              "  <thead>\n",
              "    <tr style=\"text-align: right;\">\n",
              "      <th></th>\n",
              "      <th>Book-Title</th>\n",
              "      <th>Rating_count</th>\n",
              "      <th>Avg_rating</th>\n",
              "    </tr>\n",
              "  </thead>\n",
              "  <tbody>\n",
              "    <tr>\n",
              "      <th>0</th>\n",
              "      <td>A Light in the Storm: The Civil War Diary of ...</td>\n",
              "      <td>1</td>\n",
              "      <td>9.000000</td>\n",
              "    </tr>\n",
              "    <tr>\n",
              "      <th>1</th>\n",
              "      <td>Ask Lily (Young Women of Faith: Lily Series, ...</td>\n",
              "      <td>1</td>\n",
              "      <td>8.000000</td>\n",
              "    </tr>\n",
              "    <tr>\n",
              "      <th>2</th>\n",
              "      <td>Dark Justice</td>\n",
              "      <td>1</td>\n",
              "      <td>10.000000</td>\n",
              "    </tr>\n",
              "    <tr>\n",
              "      <th>3</th>\n",
              "      <td>Earth Prayers From around the World: 365 Pray...</td>\n",
              "      <td>7</td>\n",
              "      <td>7.142857</td>\n",
              "    </tr>\n",
              "    <tr>\n",
              "      <th>4</th>\n",
              "      <td>Final Fantasy Anthology: Official Strategy Gu...</td>\n",
              "      <td>2</td>\n",
              "      <td>10.000000</td>\n",
              "    </tr>\n",
              "    <tr>\n",
              "      <th>...</th>\n",
              "      <td>...</td>\n",
              "      <td>...</td>\n",
              "      <td>...</td>\n",
              "    </tr>\n",
              "    <tr>\n",
              "      <th>135562</th>\n",
              "      <td>Ã?Â?bernachten mit Stil. Die schÃ?Â¶nsten Coun...</td>\n",
              "      <td>1</td>\n",
              "      <td>8.000000</td>\n",
              "    </tr>\n",
              "    <tr>\n",
              "      <th>135563</th>\n",
              "      <td>Ã?Â?rger mit Produkt X. Roman.</td>\n",
              "      <td>3</td>\n",
              "      <td>7.000000</td>\n",
              "    </tr>\n",
              "    <tr>\n",
              "      <th>135564</th>\n",
              "      <td>Ã?Â?sterlich leben.</td>\n",
              "      <td>1</td>\n",
              "      <td>7.000000</td>\n",
              "    </tr>\n",
              "    <tr>\n",
              "      <th>135565</th>\n",
              "      <td>Ã?Â?stlich der Berge.</td>\n",
              "      <td>1</td>\n",
              "      <td>8.000000</td>\n",
              "    </tr>\n",
              "    <tr>\n",
              "      <th>135566</th>\n",
              "      <td>Ã?Â?thique en toc</td>\n",
              "      <td>1</td>\n",
              "      <td>8.000000</td>\n",
              "    </tr>\n",
              "  </tbody>\n",
              "</table>\n",
              "<p>135567 rows × 3 columns</p>\n",
              "</div>\n",
              "      <button class=\"colab-df-convert\" onclick=\"convertToInteractive('df-365510f2-d6fb-45a1-a950-157cd23e52f3')\"\n",
              "              title=\"Convert this dataframe to an interactive table.\"\n",
              "              style=\"display:none;\">\n",
              "        \n",
              "  <svg xmlns=\"http://www.w3.org/2000/svg\" height=\"24px\"viewBox=\"0 0 24 24\"\n",
              "       width=\"24px\">\n",
              "    <path d=\"M0 0h24v24H0V0z\" fill=\"none\"/>\n",
              "    <path d=\"M18.56 5.44l.94 2.06.94-2.06 2.06-.94-2.06-.94-.94-2.06-.94 2.06-2.06.94zm-11 1L8.5 8.5l.94-2.06 2.06-.94-2.06-.94L8.5 2.5l-.94 2.06-2.06.94zm10 10l.94 2.06.94-2.06 2.06-.94-2.06-.94-.94-2.06-.94 2.06-2.06.94z\"/><path d=\"M17.41 7.96l-1.37-1.37c-.4-.4-.92-.59-1.43-.59-.52 0-1.04.2-1.43.59L10.3 9.45l-7.72 7.72c-.78.78-.78 2.05 0 2.83L4 21.41c.39.39.9.59 1.41.59.51 0 1.02-.2 1.41-.59l7.78-7.78 2.81-2.81c.8-.78.8-2.07 0-2.86zM5.41 20L4 18.59l7.72-7.72 1.47 1.35L5.41 20z\"/>\n",
              "  </svg>\n",
              "      </button>\n",
              "      \n",
              "  <style>\n",
              "    .colab-df-container {\n",
              "      display:flex;\n",
              "      flex-wrap:wrap;\n",
              "      gap: 12px;\n",
              "    }\n",
              "\n",
              "    .colab-df-convert {\n",
              "      background-color: #E8F0FE;\n",
              "      border: none;\n",
              "      border-radius: 50%;\n",
              "      cursor: pointer;\n",
              "      display: none;\n",
              "      fill: #1967D2;\n",
              "      height: 32px;\n",
              "      padding: 0 0 0 0;\n",
              "      width: 32px;\n",
              "    }\n",
              "\n",
              "    .colab-df-convert:hover {\n",
              "      background-color: #E2EBFA;\n",
              "      box-shadow: 0px 1px 2px rgba(60, 64, 67, 0.3), 0px 1px 3px 1px rgba(60, 64, 67, 0.15);\n",
              "      fill: #174EA6;\n",
              "    }\n",
              "\n",
              "    [theme=dark] .colab-df-convert {\n",
              "      background-color: #3B4455;\n",
              "      fill: #D2E3FC;\n",
              "    }\n",
              "\n",
              "    [theme=dark] .colab-df-convert:hover {\n",
              "      background-color: #434B5C;\n",
              "      box-shadow: 0px 1px 3px 1px rgba(0, 0, 0, 0.15);\n",
              "      filter: drop-shadow(0px 1px 2px rgba(0, 0, 0, 0.3));\n",
              "      fill: #FFFFFF;\n",
              "    }\n",
              "  </style>\n",
              "\n",
              "      <script>\n",
              "        const buttonEl =\n",
              "          document.querySelector('#df-365510f2-d6fb-45a1-a950-157cd23e52f3 button.colab-df-convert');\n",
              "        buttonEl.style.display =\n",
              "          google.colab.kernel.accessAllowed ? 'block' : 'none';\n",
              "\n",
              "        async function convertToInteractive(key) {\n",
              "          const element = document.querySelector('#df-365510f2-d6fb-45a1-a950-157cd23e52f3');\n",
              "          const dataTable =\n",
              "            await google.colab.kernel.invokeFunction('convertToInteractive',\n",
              "                                                     [key], {});\n",
              "          if (!dataTable) return;\n",
              "\n",
              "          const docLinkHtml = 'Like what you see? Visit the ' +\n",
              "            '<a target=\"_blank\" href=https://colab.research.google.com/notebooks/data_table.ipynb>data table notebook</a>'\n",
              "            + ' to learn more about interactive tables.';\n",
              "          element.innerHTML = '';\n",
              "          dataTable['output_type'] = 'display_data';\n",
              "          await google.colab.output.renderOutput(dataTable, element);\n",
              "          const docLink = document.createElement('div');\n",
              "          docLink.innerHTML = docLinkHtml;\n",
              "          element.appendChild(docLink);\n",
              "        }\n",
              "      </script>\n",
              "    </div>\n",
              "  </div>\n",
              "  "
            ]
          },
          "metadata": {},
          "execution_count": 69
        }
      ]
    },
    {
      "cell_type": "code",
      "source": [
        "#book with more than 200 review\n",
        "popular_book_df = popular_book_df[popular_book_df['Rating_count']>=200]\n",
        "popular_book_df"
      ],
      "metadata": {
        "colab": {
          "base_uri": "https://localhost:8080/",
          "height": 1000
        },
        "id": "05LHPpIYoDV3",
        "outputId": "f990ebc7-4683-4ce3-95eb-d714024db642"
      },
      "execution_count": null,
      "outputs": [
        {
          "output_type": "execute_result",
          "data": {
            "text/plain": [
              "                                               Book-Title  Rating_count  \\\n",
              "471                                   1st to Die: A Novel           236   \n",
              "3064                                      A Painted House           366   \n",
              "4046                                       A Time to Kill           214   \n",
              "8134                                  Angels &amp; Demons           310   \n",
              "15761                               Bridget Jones's Diary           377   \n",
              "29942     Divine Secrets of the Ya-Ya Sisterhood: A Novel           323   \n",
              "31316                                        Dreamcatcher           214   \n",
              "36288                                      Fahrenheit 451           204   \n",
              "42293                           Girl with a Pearl Earring           278   \n",
              "43138                                         Good in Bed           247   \n",
              "45374    Harry Potter and the Chamber of Secrets (Book 2)           326   \n",
              "45381        Harry Potter and the Goblet of Fire (Book 4)           247   \n",
              "45385   Harry Potter and the Order of the Phoenix (Boo...           211   \n",
              "45393   Harry Potter and the Prisoner of Azkaban (Book 3)           277   \n",
              "45403   Harry Potter and the Sorcerer's Stone (Harry P...           315   \n",
              "48354                               House of Sand and Fog           242   \n",
              "52382                          Interview with the Vampire           232   \n",
              "54874                                       Jurassic Park           212   \n",
              "60688                                          Life of Pi           336   \n",
              "66318                              Me Talk Pretty One Day           218   \n",
              "89011   She's Come Undone (Oprah's Book Club (Paperback))           207   \n",
              "89012               She's Come Undone (Oprah's Book Club)           217   \n",
              "90906                              Snow Falling on Cedars           275   \n",
              "94535                                      Summer Sisters           257   \n",
              "95029                        Suzanne's Diary for Nicholas           228   \n",
              "100130                                       The Brethren           213   \n",
              "100877                             The Catcher in the Rye           265   \n",
              "100988                                        The Chamber           207   \n",
              "102703                                  The Da Vinci Code           494   \n",
              "104949  The Fellowship of the Ring (The Lord of the Ri...           205   \n",
              "105133                                           The Firm           224   \n",
              "105252                 The Five People You Meet in Heaven           244   \n",
              "106035            The Girls' Guide to Hunting and Fishing           259   \n",
              "108493                                  The Joy Luck Club           208   \n",
              "110229                          The Lovely Bones: A Novel           707   \n",
              "111950                         The Nanny Diaries: A Novel           393   \n",
              "112557                                       The Notebook           293   \n",
              "113260                                        The Partner           205   \n",
              "113728                         The Pilot's Wife : A Novel           272   \n",
              "113907                      The Poisonwood Bible: A Novel           218   \n",
              "114960                The Red Tent (Bestselling Backlist)           383   \n",
              "116196                            The Secret Life of Bees           406   \n",
              "117734                                  The Street Lawyer           206   \n",
              "117832                                        The Summons           309   \n",
              "118292                                      The Testament           261   \n",
              "123444                                           Timeline           263   \n",
              "123681                              To Kill a Mockingbird           267   \n",
              "125564  Tuesdays with Morrie: An Old Man, a Young Man,...           250   \n",
              "131339  Where the Heart Is (Oprah's Book Club (Paperba...           295   \n",
              "132241                                        Wild Animus           581   \n",
              "\n",
              "        Avg_rating  \n",
              "471       7.711864  \n",
              "3064      7.398907  \n",
              "4046      8.009346  \n",
              "8134      8.016129  \n",
              "15761     7.625995  \n",
              "29942     7.876161  \n",
              "31316     7.219626  \n",
              "36288     8.549020  \n",
              "42293     7.982014  \n",
              "43138     8.044534  \n",
              "45374     8.840491  \n",
              "45381     9.125506  \n",
              "45385     9.047393  \n",
              "45393     9.043321  \n",
              "45403     8.936508  \n",
              "48354     7.363636  \n",
              "52382     7.775862  \n",
              "54874     7.891509  \n",
              "60688     8.080357  \n",
              "66318     7.866972  \n",
              "89011     7.531401  \n",
              "89012     7.700461  \n",
              "90906     7.829091  \n",
              "94535     7.494163  \n",
              "95029     7.657895  \n",
              "100130    7.441315  \n",
              "100877    7.701887  \n",
              "100988    7.415459  \n",
              "102703    8.439271  \n",
              "104949    8.882927  \n",
              "105133    7.825893  \n",
              "105252    8.020492  \n",
              "106035    6.945946  \n",
              "108493    8.153846  \n",
              "110229    8.185290  \n",
              "111950    7.437659  \n",
              "112557    7.897611  \n",
              "113260    7.673171  \n",
              "113728    7.503676  \n",
              "113907    8.178899  \n",
              "114960    8.182768  \n",
              "116196    8.477833  \n",
              "117734    7.543689  \n",
              "117832    7.275081  \n",
              "118292    7.517241  \n",
              "123444    7.870722  \n",
              "123681    8.977528  \n",
              "125564    8.588000  \n",
              "131339    8.142373  \n",
              "132241    4.390706  "
            ],
            "text/html": [
              "\n",
              "  <div id=\"df-8cd1fdb7-079b-472a-942f-c756554503a3\">\n",
              "    <div class=\"colab-df-container\">\n",
              "      <div>\n",
              "<style scoped>\n",
              "    .dataframe tbody tr th:only-of-type {\n",
              "        vertical-align: middle;\n",
              "    }\n",
              "\n",
              "    .dataframe tbody tr th {\n",
              "        vertical-align: top;\n",
              "    }\n",
              "\n",
              "    .dataframe thead th {\n",
              "        text-align: right;\n",
              "    }\n",
              "</style>\n",
              "<table border=\"1\" class=\"dataframe\">\n",
              "  <thead>\n",
              "    <tr style=\"text-align: right;\">\n",
              "      <th></th>\n",
              "      <th>Book-Title</th>\n",
              "      <th>Rating_count</th>\n",
              "      <th>Avg_rating</th>\n",
              "    </tr>\n",
              "  </thead>\n",
              "  <tbody>\n",
              "    <tr>\n",
              "      <th>471</th>\n",
              "      <td>1st to Die: A Novel</td>\n",
              "      <td>236</td>\n",
              "      <td>7.711864</td>\n",
              "    </tr>\n",
              "    <tr>\n",
              "      <th>3064</th>\n",
              "      <td>A Painted House</td>\n",
              "      <td>366</td>\n",
              "      <td>7.398907</td>\n",
              "    </tr>\n",
              "    <tr>\n",
              "      <th>4046</th>\n",
              "      <td>A Time to Kill</td>\n",
              "      <td>214</td>\n",
              "      <td>8.009346</td>\n",
              "    </tr>\n",
              "    <tr>\n",
              "      <th>8134</th>\n",
              "      <td>Angels &amp;amp; Demons</td>\n",
              "      <td>310</td>\n",
              "      <td>8.016129</td>\n",
              "    </tr>\n",
              "    <tr>\n",
              "      <th>15761</th>\n",
              "      <td>Bridget Jones's Diary</td>\n",
              "      <td>377</td>\n",
              "      <td>7.625995</td>\n",
              "    </tr>\n",
              "    <tr>\n",
              "      <th>29942</th>\n",
              "      <td>Divine Secrets of the Ya-Ya Sisterhood: A Novel</td>\n",
              "      <td>323</td>\n",
              "      <td>7.876161</td>\n",
              "    </tr>\n",
              "    <tr>\n",
              "      <th>31316</th>\n",
              "      <td>Dreamcatcher</td>\n",
              "      <td>214</td>\n",
              "      <td>7.219626</td>\n",
              "    </tr>\n",
              "    <tr>\n",
              "      <th>36288</th>\n",
              "      <td>Fahrenheit 451</td>\n",
              "      <td>204</td>\n",
              "      <td>8.549020</td>\n",
              "    </tr>\n",
              "    <tr>\n",
              "      <th>42293</th>\n",
              "      <td>Girl with a Pearl Earring</td>\n",
              "      <td>278</td>\n",
              "      <td>7.982014</td>\n",
              "    </tr>\n",
              "    <tr>\n",
              "      <th>43138</th>\n",
              "      <td>Good in Bed</td>\n",
              "      <td>247</td>\n",
              "      <td>8.044534</td>\n",
              "    </tr>\n",
              "    <tr>\n",
              "      <th>45374</th>\n",
              "      <td>Harry Potter and the Chamber of Secrets (Book 2)</td>\n",
              "      <td>326</td>\n",
              "      <td>8.840491</td>\n",
              "    </tr>\n",
              "    <tr>\n",
              "      <th>45381</th>\n",
              "      <td>Harry Potter and the Goblet of Fire (Book 4)</td>\n",
              "      <td>247</td>\n",
              "      <td>9.125506</td>\n",
              "    </tr>\n",
              "    <tr>\n",
              "      <th>45385</th>\n",
              "      <td>Harry Potter and the Order of the Phoenix (Boo...</td>\n",
              "      <td>211</td>\n",
              "      <td>9.047393</td>\n",
              "    </tr>\n",
              "    <tr>\n",
              "      <th>45393</th>\n",
              "      <td>Harry Potter and the Prisoner of Azkaban (Book 3)</td>\n",
              "      <td>277</td>\n",
              "      <td>9.043321</td>\n",
              "    </tr>\n",
              "    <tr>\n",
              "      <th>45403</th>\n",
              "      <td>Harry Potter and the Sorcerer's Stone (Harry P...</td>\n",
              "      <td>315</td>\n",
              "      <td>8.936508</td>\n",
              "    </tr>\n",
              "    <tr>\n",
              "      <th>48354</th>\n",
              "      <td>House of Sand and Fog</td>\n",
              "      <td>242</td>\n",
              "      <td>7.363636</td>\n",
              "    </tr>\n",
              "    <tr>\n",
              "      <th>52382</th>\n",
              "      <td>Interview with the Vampire</td>\n",
              "      <td>232</td>\n",
              "      <td>7.775862</td>\n",
              "    </tr>\n",
              "    <tr>\n",
              "      <th>54874</th>\n",
              "      <td>Jurassic Park</td>\n",
              "      <td>212</td>\n",
              "      <td>7.891509</td>\n",
              "    </tr>\n",
              "    <tr>\n",
              "      <th>60688</th>\n",
              "      <td>Life of Pi</td>\n",
              "      <td>336</td>\n",
              "      <td>8.080357</td>\n",
              "    </tr>\n",
              "    <tr>\n",
              "      <th>66318</th>\n",
              "      <td>Me Talk Pretty One Day</td>\n",
              "      <td>218</td>\n",
              "      <td>7.866972</td>\n",
              "    </tr>\n",
              "    <tr>\n",
              "      <th>89011</th>\n",
              "      <td>She's Come Undone (Oprah's Book Club (Paperback))</td>\n",
              "      <td>207</td>\n",
              "      <td>7.531401</td>\n",
              "    </tr>\n",
              "    <tr>\n",
              "      <th>89012</th>\n",
              "      <td>She's Come Undone (Oprah's Book Club)</td>\n",
              "      <td>217</td>\n",
              "      <td>7.700461</td>\n",
              "    </tr>\n",
              "    <tr>\n",
              "      <th>90906</th>\n",
              "      <td>Snow Falling on Cedars</td>\n",
              "      <td>275</td>\n",
              "      <td>7.829091</td>\n",
              "    </tr>\n",
              "    <tr>\n",
              "      <th>94535</th>\n",
              "      <td>Summer Sisters</td>\n",
              "      <td>257</td>\n",
              "      <td>7.494163</td>\n",
              "    </tr>\n",
              "    <tr>\n",
              "      <th>95029</th>\n",
              "      <td>Suzanne's Diary for Nicholas</td>\n",
              "      <td>228</td>\n",
              "      <td>7.657895</td>\n",
              "    </tr>\n",
              "    <tr>\n",
              "      <th>100130</th>\n",
              "      <td>The Brethren</td>\n",
              "      <td>213</td>\n",
              "      <td>7.441315</td>\n",
              "    </tr>\n",
              "    <tr>\n",
              "      <th>100877</th>\n",
              "      <td>The Catcher in the Rye</td>\n",
              "      <td>265</td>\n",
              "      <td>7.701887</td>\n",
              "    </tr>\n",
              "    <tr>\n",
              "      <th>100988</th>\n",
              "      <td>The Chamber</td>\n",
              "      <td>207</td>\n",
              "      <td>7.415459</td>\n",
              "    </tr>\n",
              "    <tr>\n",
              "      <th>102703</th>\n",
              "      <td>The Da Vinci Code</td>\n",
              "      <td>494</td>\n",
              "      <td>8.439271</td>\n",
              "    </tr>\n",
              "    <tr>\n",
              "      <th>104949</th>\n",
              "      <td>The Fellowship of the Ring (The Lord of the Ri...</td>\n",
              "      <td>205</td>\n",
              "      <td>8.882927</td>\n",
              "    </tr>\n",
              "    <tr>\n",
              "      <th>105133</th>\n",
              "      <td>The Firm</td>\n",
              "      <td>224</td>\n",
              "      <td>7.825893</td>\n",
              "    </tr>\n",
              "    <tr>\n",
              "      <th>105252</th>\n",
              "      <td>The Five People You Meet in Heaven</td>\n",
              "      <td>244</td>\n",
              "      <td>8.020492</td>\n",
              "    </tr>\n",
              "    <tr>\n",
              "      <th>106035</th>\n",
              "      <td>The Girls' Guide to Hunting and Fishing</td>\n",
              "      <td>259</td>\n",
              "      <td>6.945946</td>\n",
              "    </tr>\n",
              "    <tr>\n",
              "      <th>108493</th>\n",
              "      <td>The Joy Luck Club</td>\n",
              "      <td>208</td>\n",
              "      <td>8.153846</td>\n",
              "    </tr>\n",
              "    <tr>\n",
              "      <th>110229</th>\n",
              "      <td>The Lovely Bones: A Novel</td>\n",
              "      <td>707</td>\n",
              "      <td>8.185290</td>\n",
              "    </tr>\n",
              "    <tr>\n",
              "      <th>111950</th>\n",
              "      <td>The Nanny Diaries: A Novel</td>\n",
              "      <td>393</td>\n",
              "      <td>7.437659</td>\n",
              "    </tr>\n",
              "    <tr>\n",
              "      <th>112557</th>\n",
              "      <td>The Notebook</td>\n",
              "      <td>293</td>\n",
              "      <td>7.897611</td>\n",
              "    </tr>\n",
              "    <tr>\n",
              "      <th>113260</th>\n",
              "      <td>The Partner</td>\n",
              "      <td>205</td>\n",
              "      <td>7.673171</td>\n",
              "    </tr>\n",
              "    <tr>\n",
              "      <th>113728</th>\n",
              "      <td>The Pilot's Wife : A Novel</td>\n",
              "      <td>272</td>\n",
              "      <td>7.503676</td>\n",
              "    </tr>\n",
              "    <tr>\n",
              "      <th>113907</th>\n",
              "      <td>The Poisonwood Bible: A Novel</td>\n",
              "      <td>218</td>\n",
              "      <td>8.178899</td>\n",
              "    </tr>\n",
              "    <tr>\n",
              "      <th>114960</th>\n",
              "      <td>The Red Tent (Bestselling Backlist)</td>\n",
              "      <td>383</td>\n",
              "      <td>8.182768</td>\n",
              "    </tr>\n",
              "    <tr>\n",
              "      <th>116196</th>\n",
              "      <td>The Secret Life of Bees</td>\n",
              "      <td>406</td>\n",
              "      <td>8.477833</td>\n",
              "    </tr>\n",
              "    <tr>\n",
              "      <th>117734</th>\n",
              "      <td>The Street Lawyer</td>\n",
              "      <td>206</td>\n",
              "      <td>7.543689</td>\n",
              "    </tr>\n",
              "    <tr>\n",
              "      <th>117832</th>\n",
              "      <td>The Summons</td>\n",
              "      <td>309</td>\n",
              "      <td>7.275081</td>\n",
              "    </tr>\n",
              "    <tr>\n",
              "      <th>118292</th>\n",
              "      <td>The Testament</td>\n",
              "      <td>261</td>\n",
              "      <td>7.517241</td>\n",
              "    </tr>\n",
              "    <tr>\n",
              "      <th>123444</th>\n",
              "      <td>Timeline</td>\n",
              "      <td>263</td>\n",
              "      <td>7.870722</td>\n",
              "    </tr>\n",
              "    <tr>\n",
              "      <th>123681</th>\n",
              "      <td>To Kill a Mockingbird</td>\n",
              "      <td>267</td>\n",
              "      <td>8.977528</td>\n",
              "    </tr>\n",
              "    <tr>\n",
              "      <th>125564</th>\n",
              "      <td>Tuesdays with Morrie: An Old Man, a Young Man,...</td>\n",
              "      <td>250</td>\n",
              "      <td>8.588000</td>\n",
              "    </tr>\n",
              "    <tr>\n",
              "      <th>131339</th>\n",
              "      <td>Where the Heart Is (Oprah's Book Club (Paperba...</td>\n",
              "      <td>295</td>\n",
              "      <td>8.142373</td>\n",
              "    </tr>\n",
              "    <tr>\n",
              "      <th>132241</th>\n",
              "      <td>Wild Animus</td>\n",
              "      <td>581</td>\n",
              "      <td>4.390706</td>\n",
              "    </tr>\n",
              "  </tbody>\n",
              "</table>\n",
              "</div>\n",
              "      <button class=\"colab-df-convert\" onclick=\"convertToInteractive('df-8cd1fdb7-079b-472a-942f-c756554503a3')\"\n",
              "              title=\"Convert this dataframe to an interactive table.\"\n",
              "              style=\"display:none;\">\n",
              "        \n",
              "  <svg xmlns=\"http://www.w3.org/2000/svg\" height=\"24px\"viewBox=\"0 0 24 24\"\n",
              "       width=\"24px\">\n",
              "    <path d=\"M0 0h24v24H0V0z\" fill=\"none\"/>\n",
              "    <path d=\"M18.56 5.44l.94 2.06.94-2.06 2.06-.94-2.06-.94-.94-2.06-.94 2.06-2.06.94zm-11 1L8.5 8.5l.94-2.06 2.06-.94-2.06-.94L8.5 2.5l-.94 2.06-2.06.94zm10 10l.94 2.06.94-2.06 2.06-.94-2.06-.94-.94-2.06-.94 2.06-2.06.94z\"/><path d=\"M17.41 7.96l-1.37-1.37c-.4-.4-.92-.59-1.43-.59-.52 0-1.04.2-1.43.59L10.3 9.45l-7.72 7.72c-.78.78-.78 2.05 0 2.83L4 21.41c.39.39.9.59 1.41.59.51 0 1.02-.2 1.41-.59l7.78-7.78 2.81-2.81c.8-.78.8-2.07 0-2.86zM5.41 20L4 18.59l7.72-7.72 1.47 1.35L5.41 20z\"/>\n",
              "  </svg>\n",
              "      </button>\n",
              "      \n",
              "  <style>\n",
              "    .colab-df-container {\n",
              "      display:flex;\n",
              "      flex-wrap:wrap;\n",
              "      gap: 12px;\n",
              "    }\n",
              "\n",
              "    .colab-df-convert {\n",
              "      background-color: #E8F0FE;\n",
              "      border: none;\n",
              "      border-radius: 50%;\n",
              "      cursor: pointer;\n",
              "      display: none;\n",
              "      fill: #1967D2;\n",
              "      height: 32px;\n",
              "      padding: 0 0 0 0;\n",
              "      width: 32px;\n",
              "    }\n",
              "\n",
              "    .colab-df-convert:hover {\n",
              "      background-color: #E2EBFA;\n",
              "      box-shadow: 0px 1px 2px rgba(60, 64, 67, 0.3), 0px 1px 3px 1px rgba(60, 64, 67, 0.15);\n",
              "      fill: #174EA6;\n",
              "    }\n",
              "\n",
              "    [theme=dark] .colab-df-convert {\n",
              "      background-color: #3B4455;\n",
              "      fill: #D2E3FC;\n",
              "    }\n",
              "\n",
              "    [theme=dark] .colab-df-convert:hover {\n",
              "      background-color: #434B5C;\n",
              "      box-shadow: 0px 1px 3px 1px rgba(0, 0, 0, 0.15);\n",
              "      filter: drop-shadow(0px 1px 2px rgba(0, 0, 0, 0.3));\n",
              "      fill: #FFFFFF;\n",
              "    }\n",
              "  </style>\n",
              "\n",
              "      <script>\n",
              "        const buttonEl =\n",
              "          document.querySelector('#df-8cd1fdb7-079b-472a-942f-c756554503a3 button.colab-df-convert');\n",
              "        buttonEl.style.display =\n",
              "          google.colab.kernel.accessAllowed ? 'block' : 'none';\n",
              "\n",
              "        async function convertToInteractive(key) {\n",
              "          const element = document.querySelector('#df-8cd1fdb7-079b-472a-942f-c756554503a3');\n",
              "          const dataTable =\n",
              "            await google.colab.kernel.invokeFunction('convertToInteractive',\n",
              "                                                     [key], {});\n",
              "          if (!dataTable) return;\n",
              "\n",
              "          const docLinkHtml = 'Like what you see? Visit the ' +\n",
              "            '<a target=\"_blank\" href=https://colab.research.google.com/notebooks/data_table.ipynb>data table notebook</a>'\n",
              "            + ' to learn more about interactive tables.';\n",
              "          element.innerHTML = '';\n",
              "          dataTable['output_type'] = 'display_data';\n",
              "          await google.colab.output.renderOutput(dataTable, element);\n",
              "          const docLink = document.createElement('div');\n",
              "          docLink.innerHTML = docLinkHtml;\n",
              "          element.appendChild(docLink);\n",
              "        }\n",
              "      </script>\n",
              "    </div>\n",
              "  </div>\n",
              "  "
            ]
          },
          "metadata": {},
          "execution_count": 70
        }
      ]
    },
    {
      "cell_type": "code",
      "source": [
        "#popularity_score=0.7*Avg_rating+0.3*Rating_count\n",
        "def popularity_score(df):\n",
        "  df['popularity_score']=0.6*df['Avg_rating']+0.4*df['Rating_count']\n",
        "  return df"
      ],
      "metadata": {
        "id": "EzX5AIJspoYU"
      },
      "execution_count": null,
      "outputs": []
    },
    {
      "cell_type": "code",
      "source": [
        "popular_book=popularity_score(popular_book_df)\n",
        "popular_book"
      ],
      "metadata": {
        "colab": {
          "base_uri": "https://localhost:8080/",
          "height": 1000
        },
        "id": "VstkGq_kqiG8",
        "outputId": "882913b0-e55b-4f00-8fc6-222aace484f4"
      },
      "execution_count": null,
      "outputs": [
        {
          "output_type": "execute_result",
          "data": {
            "text/plain": [
              "                                               Book-Title  Rating_count  \\\n",
              "471                                   1st to Die: A Novel           236   \n",
              "3064                                      A Painted House           366   \n",
              "4046                                       A Time to Kill           214   \n",
              "8134                                  Angels &amp; Demons           310   \n",
              "15761                               Bridget Jones's Diary           377   \n",
              "29942     Divine Secrets of the Ya-Ya Sisterhood: A Novel           323   \n",
              "31316                                        Dreamcatcher           214   \n",
              "36288                                      Fahrenheit 451           204   \n",
              "42293                           Girl with a Pearl Earring           278   \n",
              "43138                                         Good in Bed           247   \n",
              "45374    Harry Potter and the Chamber of Secrets (Book 2)           326   \n",
              "45381        Harry Potter and the Goblet of Fire (Book 4)           247   \n",
              "45385   Harry Potter and the Order of the Phoenix (Boo...           211   \n",
              "45393   Harry Potter and the Prisoner of Azkaban (Book 3)           277   \n",
              "45403   Harry Potter and the Sorcerer's Stone (Harry P...           315   \n",
              "48354                               House of Sand and Fog           242   \n",
              "52382                          Interview with the Vampire           232   \n",
              "54874                                       Jurassic Park           212   \n",
              "60688                                          Life of Pi           336   \n",
              "66318                              Me Talk Pretty One Day           218   \n",
              "89011   She's Come Undone (Oprah's Book Club (Paperback))           207   \n",
              "89012               She's Come Undone (Oprah's Book Club)           217   \n",
              "90906                              Snow Falling on Cedars           275   \n",
              "94535                                      Summer Sisters           257   \n",
              "95029                        Suzanne's Diary for Nicholas           228   \n",
              "100130                                       The Brethren           213   \n",
              "100877                             The Catcher in the Rye           265   \n",
              "100988                                        The Chamber           207   \n",
              "102703                                  The Da Vinci Code           494   \n",
              "104949  The Fellowship of the Ring (The Lord of the Ri...           205   \n",
              "105133                                           The Firm           224   \n",
              "105252                 The Five People You Meet in Heaven           244   \n",
              "106035            The Girls' Guide to Hunting and Fishing           259   \n",
              "108493                                  The Joy Luck Club           208   \n",
              "110229                          The Lovely Bones: A Novel           707   \n",
              "111950                         The Nanny Diaries: A Novel           393   \n",
              "112557                                       The Notebook           293   \n",
              "113260                                        The Partner           205   \n",
              "113728                         The Pilot's Wife : A Novel           272   \n",
              "113907                      The Poisonwood Bible: A Novel           218   \n",
              "114960                The Red Tent (Bestselling Backlist)           383   \n",
              "116196                            The Secret Life of Bees           406   \n",
              "117734                                  The Street Lawyer           206   \n",
              "117832                                        The Summons           309   \n",
              "118292                                      The Testament           261   \n",
              "123444                                           Timeline           263   \n",
              "123681                              To Kill a Mockingbird           267   \n",
              "125564  Tuesdays with Morrie: An Old Man, a Young Man,...           250   \n",
              "131339  Where the Heart Is (Oprah's Book Club (Paperba...           295   \n",
              "132241                                        Wild Animus           581   \n",
              "\n",
              "        Avg_rating  popularity_score  \n",
              "471       7.711864         99.027119  \n",
              "3064      7.398907        150.839344  \n",
              "4046      8.009346         90.405607  \n",
              "8134      8.016129        128.809677  \n",
              "15761     7.625995        155.375597  \n",
              "29942     7.876161        133.925697  \n",
              "31316     7.219626         89.931776  \n",
              "36288     8.549020         86.729412  \n",
              "42293     7.982014        115.989209  \n",
              "43138     8.044534        103.626721  \n",
              "45374     8.840491        135.704294  \n",
              "45381     9.125506        104.275304  \n",
              "45385     9.047393         89.828436  \n",
              "45393     9.043321        116.225993  \n",
              "45403     8.936508        131.361905  \n",
              "48354     7.363636        101.218182  \n",
              "52382     7.775862         97.465517  \n",
              "54874     7.891509         89.534906  \n",
              "60688     8.080357        139.248214  \n",
              "66318     7.866972         91.920183  \n",
              "89011     7.531401         87.318841  \n",
              "89012     7.700461         91.420276  \n",
              "90906     7.829091        114.697455  \n",
              "94535     7.494163        107.296498  \n",
              "95029     7.657895         95.794737  \n",
              "100130    7.441315         89.664789  \n",
              "100877    7.701887        110.621132  \n",
              "100988    7.415459         87.249275  \n",
              "102703    8.439271        202.663563  \n",
              "104949    8.882927         87.329756  \n",
              "105133    7.825893         94.295536  \n",
              "105252    8.020492        102.412295  \n",
              "106035    6.945946        107.767568  \n",
              "108493    8.153846         88.092308  \n",
              "110229    8.185290        287.711174  \n",
              "111950    7.437659        161.662595  \n",
              "112557    7.897611        121.938567  \n",
              "113260    7.673171         86.603902  \n",
              "113728    7.503676        113.302206  \n",
              "113907    8.178899         92.107339  \n",
              "114960    8.182768        158.109661  \n",
              "116196    8.477833        167.486700  \n",
              "117734    7.543689         86.926214  \n",
              "117832    7.275081        127.965049  \n",
              "118292    7.517241        108.910345  \n",
              "123444    7.870722        109.922433  \n",
              "123681    8.977528        112.186517  \n",
              "125564    8.588000        105.152800  \n",
              "131339    8.142373        122.885424  \n",
              "132241    4.390706        235.034423  "
            ],
            "text/html": [
              "\n",
              "  <div id=\"df-4df56bb4-d852-418f-b938-2e4036c33042\">\n",
              "    <div class=\"colab-df-container\">\n",
              "      <div>\n",
              "<style scoped>\n",
              "    .dataframe tbody tr th:only-of-type {\n",
              "        vertical-align: middle;\n",
              "    }\n",
              "\n",
              "    .dataframe tbody tr th {\n",
              "        vertical-align: top;\n",
              "    }\n",
              "\n",
              "    .dataframe thead th {\n",
              "        text-align: right;\n",
              "    }\n",
              "</style>\n",
              "<table border=\"1\" class=\"dataframe\">\n",
              "  <thead>\n",
              "    <tr style=\"text-align: right;\">\n",
              "      <th></th>\n",
              "      <th>Book-Title</th>\n",
              "      <th>Rating_count</th>\n",
              "      <th>Avg_rating</th>\n",
              "      <th>popularity_score</th>\n",
              "    </tr>\n",
              "  </thead>\n",
              "  <tbody>\n",
              "    <tr>\n",
              "      <th>471</th>\n",
              "      <td>1st to Die: A Novel</td>\n",
              "      <td>236</td>\n",
              "      <td>7.711864</td>\n",
              "      <td>99.027119</td>\n",
              "    </tr>\n",
              "    <tr>\n",
              "      <th>3064</th>\n",
              "      <td>A Painted House</td>\n",
              "      <td>366</td>\n",
              "      <td>7.398907</td>\n",
              "      <td>150.839344</td>\n",
              "    </tr>\n",
              "    <tr>\n",
              "      <th>4046</th>\n",
              "      <td>A Time to Kill</td>\n",
              "      <td>214</td>\n",
              "      <td>8.009346</td>\n",
              "      <td>90.405607</td>\n",
              "    </tr>\n",
              "    <tr>\n",
              "      <th>8134</th>\n",
              "      <td>Angels &amp;amp; Demons</td>\n",
              "      <td>310</td>\n",
              "      <td>8.016129</td>\n",
              "      <td>128.809677</td>\n",
              "    </tr>\n",
              "    <tr>\n",
              "      <th>15761</th>\n",
              "      <td>Bridget Jones's Diary</td>\n",
              "      <td>377</td>\n",
              "      <td>7.625995</td>\n",
              "      <td>155.375597</td>\n",
              "    </tr>\n",
              "    <tr>\n",
              "      <th>29942</th>\n",
              "      <td>Divine Secrets of the Ya-Ya Sisterhood: A Novel</td>\n",
              "      <td>323</td>\n",
              "      <td>7.876161</td>\n",
              "      <td>133.925697</td>\n",
              "    </tr>\n",
              "    <tr>\n",
              "      <th>31316</th>\n",
              "      <td>Dreamcatcher</td>\n",
              "      <td>214</td>\n",
              "      <td>7.219626</td>\n",
              "      <td>89.931776</td>\n",
              "    </tr>\n",
              "    <tr>\n",
              "      <th>36288</th>\n",
              "      <td>Fahrenheit 451</td>\n",
              "      <td>204</td>\n",
              "      <td>8.549020</td>\n",
              "      <td>86.729412</td>\n",
              "    </tr>\n",
              "    <tr>\n",
              "      <th>42293</th>\n",
              "      <td>Girl with a Pearl Earring</td>\n",
              "      <td>278</td>\n",
              "      <td>7.982014</td>\n",
              "      <td>115.989209</td>\n",
              "    </tr>\n",
              "    <tr>\n",
              "      <th>43138</th>\n",
              "      <td>Good in Bed</td>\n",
              "      <td>247</td>\n",
              "      <td>8.044534</td>\n",
              "      <td>103.626721</td>\n",
              "    </tr>\n",
              "    <tr>\n",
              "      <th>45374</th>\n",
              "      <td>Harry Potter and the Chamber of Secrets (Book 2)</td>\n",
              "      <td>326</td>\n",
              "      <td>8.840491</td>\n",
              "      <td>135.704294</td>\n",
              "    </tr>\n",
              "    <tr>\n",
              "      <th>45381</th>\n",
              "      <td>Harry Potter and the Goblet of Fire (Book 4)</td>\n",
              "      <td>247</td>\n",
              "      <td>9.125506</td>\n",
              "      <td>104.275304</td>\n",
              "    </tr>\n",
              "    <tr>\n",
              "      <th>45385</th>\n",
              "      <td>Harry Potter and the Order of the Phoenix (Boo...</td>\n",
              "      <td>211</td>\n",
              "      <td>9.047393</td>\n",
              "      <td>89.828436</td>\n",
              "    </tr>\n",
              "    <tr>\n",
              "      <th>45393</th>\n",
              "      <td>Harry Potter and the Prisoner of Azkaban (Book 3)</td>\n",
              "      <td>277</td>\n",
              "      <td>9.043321</td>\n",
              "      <td>116.225993</td>\n",
              "    </tr>\n",
              "    <tr>\n",
              "      <th>45403</th>\n",
              "      <td>Harry Potter and the Sorcerer's Stone (Harry P...</td>\n",
              "      <td>315</td>\n",
              "      <td>8.936508</td>\n",
              "      <td>131.361905</td>\n",
              "    </tr>\n",
              "    <tr>\n",
              "      <th>48354</th>\n",
              "      <td>House of Sand and Fog</td>\n",
              "      <td>242</td>\n",
              "      <td>7.363636</td>\n",
              "      <td>101.218182</td>\n",
              "    </tr>\n",
              "    <tr>\n",
              "      <th>52382</th>\n",
              "      <td>Interview with the Vampire</td>\n",
              "      <td>232</td>\n",
              "      <td>7.775862</td>\n",
              "      <td>97.465517</td>\n",
              "    </tr>\n",
              "    <tr>\n",
              "      <th>54874</th>\n",
              "      <td>Jurassic Park</td>\n",
              "      <td>212</td>\n",
              "      <td>7.891509</td>\n",
              "      <td>89.534906</td>\n",
              "    </tr>\n",
              "    <tr>\n",
              "      <th>60688</th>\n",
              "      <td>Life of Pi</td>\n",
              "      <td>336</td>\n",
              "      <td>8.080357</td>\n",
              "      <td>139.248214</td>\n",
              "    </tr>\n",
              "    <tr>\n",
              "      <th>66318</th>\n",
              "      <td>Me Talk Pretty One Day</td>\n",
              "      <td>218</td>\n",
              "      <td>7.866972</td>\n",
              "      <td>91.920183</td>\n",
              "    </tr>\n",
              "    <tr>\n",
              "      <th>89011</th>\n",
              "      <td>She's Come Undone (Oprah's Book Club (Paperback))</td>\n",
              "      <td>207</td>\n",
              "      <td>7.531401</td>\n",
              "      <td>87.318841</td>\n",
              "    </tr>\n",
              "    <tr>\n",
              "      <th>89012</th>\n",
              "      <td>She's Come Undone (Oprah's Book Club)</td>\n",
              "      <td>217</td>\n",
              "      <td>7.700461</td>\n",
              "      <td>91.420276</td>\n",
              "    </tr>\n",
              "    <tr>\n",
              "      <th>90906</th>\n",
              "      <td>Snow Falling on Cedars</td>\n",
              "      <td>275</td>\n",
              "      <td>7.829091</td>\n",
              "      <td>114.697455</td>\n",
              "    </tr>\n",
              "    <tr>\n",
              "      <th>94535</th>\n",
              "      <td>Summer Sisters</td>\n",
              "      <td>257</td>\n",
              "      <td>7.494163</td>\n",
              "      <td>107.296498</td>\n",
              "    </tr>\n",
              "    <tr>\n",
              "      <th>95029</th>\n",
              "      <td>Suzanne's Diary for Nicholas</td>\n",
              "      <td>228</td>\n",
              "      <td>7.657895</td>\n",
              "      <td>95.794737</td>\n",
              "    </tr>\n",
              "    <tr>\n",
              "      <th>100130</th>\n",
              "      <td>The Brethren</td>\n",
              "      <td>213</td>\n",
              "      <td>7.441315</td>\n",
              "      <td>89.664789</td>\n",
              "    </tr>\n",
              "    <tr>\n",
              "      <th>100877</th>\n",
              "      <td>The Catcher in the Rye</td>\n",
              "      <td>265</td>\n",
              "      <td>7.701887</td>\n",
              "      <td>110.621132</td>\n",
              "    </tr>\n",
              "    <tr>\n",
              "      <th>100988</th>\n",
              "      <td>The Chamber</td>\n",
              "      <td>207</td>\n",
              "      <td>7.415459</td>\n",
              "      <td>87.249275</td>\n",
              "    </tr>\n",
              "    <tr>\n",
              "      <th>102703</th>\n",
              "      <td>The Da Vinci Code</td>\n",
              "      <td>494</td>\n",
              "      <td>8.439271</td>\n",
              "      <td>202.663563</td>\n",
              "    </tr>\n",
              "    <tr>\n",
              "      <th>104949</th>\n",
              "      <td>The Fellowship of the Ring (The Lord of the Ri...</td>\n",
              "      <td>205</td>\n",
              "      <td>8.882927</td>\n",
              "      <td>87.329756</td>\n",
              "    </tr>\n",
              "    <tr>\n",
              "      <th>105133</th>\n",
              "      <td>The Firm</td>\n",
              "      <td>224</td>\n",
              "      <td>7.825893</td>\n",
              "      <td>94.295536</td>\n",
              "    </tr>\n",
              "    <tr>\n",
              "      <th>105252</th>\n",
              "      <td>The Five People You Meet in Heaven</td>\n",
              "      <td>244</td>\n",
              "      <td>8.020492</td>\n",
              "      <td>102.412295</td>\n",
              "    </tr>\n",
              "    <tr>\n",
              "      <th>106035</th>\n",
              "      <td>The Girls' Guide to Hunting and Fishing</td>\n",
              "      <td>259</td>\n",
              "      <td>6.945946</td>\n",
              "      <td>107.767568</td>\n",
              "    </tr>\n",
              "    <tr>\n",
              "      <th>108493</th>\n",
              "      <td>The Joy Luck Club</td>\n",
              "      <td>208</td>\n",
              "      <td>8.153846</td>\n",
              "      <td>88.092308</td>\n",
              "    </tr>\n",
              "    <tr>\n",
              "      <th>110229</th>\n",
              "      <td>The Lovely Bones: A Novel</td>\n",
              "      <td>707</td>\n",
              "      <td>8.185290</td>\n",
              "      <td>287.711174</td>\n",
              "    </tr>\n",
              "    <tr>\n",
              "      <th>111950</th>\n",
              "      <td>The Nanny Diaries: A Novel</td>\n",
              "      <td>393</td>\n",
              "      <td>7.437659</td>\n",
              "      <td>161.662595</td>\n",
              "    </tr>\n",
              "    <tr>\n",
              "      <th>112557</th>\n",
              "      <td>The Notebook</td>\n",
              "      <td>293</td>\n",
              "      <td>7.897611</td>\n",
              "      <td>121.938567</td>\n",
              "    </tr>\n",
              "    <tr>\n",
              "      <th>113260</th>\n",
              "      <td>The Partner</td>\n",
              "      <td>205</td>\n",
              "      <td>7.673171</td>\n",
              "      <td>86.603902</td>\n",
              "    </tr>\n",
              "    <tr>\n",
              "      <th>113728</th>\n",
              "      <td>The Pilot's Wife : A Novel</td>\n",
              "      <td>272</td>\n",
              "      <td>7.503676</td>\n",
              "      <td>113.302206</td>\n",
              "    </tr>\n",
              "    <tr>\n",
              "      <th>113907</th>\n",
              "      <td>The Poisonwood Bible: A Novel</td>\n",
              "      <td>218</td>\n",
              "      <td>8.178899</td>\n",
              "      <td>92.107339</td>\n",
              "    </tr>\n",
              "    <tr>\n",
              "      <th>114960</th>\n",
              "      <td>The Red Tent (Bestselling Backlist)</td>\n",
              "      <td>383</td>\n",
              "      <td>8.182768</td>\n",
              "      <td>158.109661</td>\n",
              "    </tr>\n",
              "    <tr>\n",
              "      <th>116196</th>\n",
              "      <td>The Secret Life of Bees</td>\n",
              "      <td>406</td>\n",
              "      <td>8.477833</td>\n",
              "      <td>167.486700</td>\n",
              "    </tr>\n",
              "    <tr>\n",
              "      <th>117734</th>\n",
              "      <td>The Street Lawyer</td>\n",
              "      <td>206</td>\n",
              "      <td>7.543689</td>\n",
              "      <td>86.926214</td>\n",
              "    </tr>\n",
              "    <tr>\n",
              "      <th>117832</th>\n",
              "      <td>The Summons</td>\n",
              "      <td>309</td>\n",
              "      <td>7.275081</td>\n",
              "      <td>127.965049</td>\n",
              "    </tr>\n",
              "    <tr>\n",
              "      <th>118292</th>\n",
              "      <td>The Testament</td>\n",
              "      <td>261</td>\n",
              "      <td>7.517241</td>\n",
              "      <td>108.910345</td>\n",
              "    </tr>\n",
              "    <tr>\n",
              "      <th>123444</th>\n",
              "      <td>Timeline</td>\n",
              "      <td>263</td>\n",
              "      <td>7.870722</td>\n",
              "      <td>109.922433</td>\n",
              "    </tr>\n",
              "    <tr>\n",
              "      <th>123681</th>\n",
              "      <td>To Kill a Mockingbird</td>\n",
              "      <td>267</td>\n",
              "      <td>8.977528</td>\n",
              "      <td>112.186517</td>\n",
              "    </tr>\n",
              "    <tr>\n",
              "      <th>125564</th>\n",
              "      <td>Tuesdays with Morrie: An Old Man, a Young Man,...</td>\n",
              "      <td>250</td>\n",
              "      <td>8.588000</td>\n",
              "      <td>105.152800</td>\n",
              "    </tr>\n",
              "    <tr>\n",
              "      <th>131339</th>\n",
              "      <td>Where the Heart Is (Oprah's Book Club (Paperba...</td>\n",
              "      <td>295</td>\n",
              "      <td>8.142373</td>\n",
              "      <td>122.885424</td>\n",
              "    </tr>\n",
              "    <tr>\n",
              "      <th>132241</th>\n",
              "      <td>Wild Animus</td>\n",
              "      <td>581</td>\n",
              "      <td>4.390706</td>\n",
              "      <td>235.034423</td>\n",
              "    </tr>\n",
              "  </tbody>\n",
              "</table>\n",
              "</div>\n",
              "      <button class=\"colab-df-convert\" onclick=\"convertToInteractive('df-4df56bb4-d852-418f-b938-2e4036c33042')\"\n",
              "              title=\"Convert this dataframe to an interactive table.\"\n",
              "              style=\"display:none;\">\n",
              "        \n",
              "  <svg xmlns=\"http://www.w3.org/2000/svg\" height=\"24px\"viewBox=\"0 0 24 24\"\n",
              "       width=\"24px\">\n",
              "    <path d=\"M0 0h24v24H0V0z\" fill=\"none\"/>\n",
              "    <path d=\"M18.56 5.44l.94 2.06.94-2.06 2.06-.94-2.06-.94-.94-2.06-.94 2.06-2.06.94zm-11 1L8.5 8.5l.94-2.06 2.06-.94-2.06-.94L8.5 2.5l-.94 2.06-2.06.94zm10 10l.94 2.06.94-2.06 2.06-.94-2.06-.94-.94-2.06-.94 2.06-2.06.94z\"/><path d=\"M17.41 7.96l-1.37-1.37c-.4-.4-.92-.59-1.43-.59-.52 0-1.04.2-1.43.59L10.3 9.45l-7.72 7.72c-.78.78-.78 2.05 0 2.83L4 21.41c.39.39.9.59 1.41.59.51 0 1.02-.2 1.41-.59l7.78-7.78 2.81-2.81c.8-.78.8-2.07 0-2.86zM5.41 20L4 18.59l7.72-7.72 1.47 1.35L5.41 20z\"/>\n",
              "  </svg>\n",
              "      </button>\n",
              "      \n",
              "  <style>\n",
              "    .colab-df-container {\n",
              "      display:flex;\n",
              "      flex-wrap:wrap;\n",
              "      gap: 12px;\n",
              "    }\n",
              "\n",
              "    .colab-df-convert {\n",
              "      background-color: #E8F0FE;\n",
              "      border: none;\n",
              "      border-radius: 50%;\n",
              "      cursor: pointer;\n",
              "      display: none;\n",
              "      fill: #1967D2;\n",
              "      height: 32px;\n",
              "      padding: 0 0 0 0;\n",
              "      width: 32px;\n",
              "    }\n",
              "\n",
              "    .colab-df-convert:hover {\n",
              "      background-color: #E2EBFA;\n",
              "      box-shadow: 0px 1px 2px rgba(60, 64, 67, 0.3), 0px 1px 3px 1px rgba(60, 64, 67, 0.15);\n",
              "      fill: #174EA6;\n",
              "    }\n",
              "\n",
              "    [theme=dark] .colab-df-convert {\n",
              "      background-color: #3B4455;\n",
              "      fill: #D2E3FC;\n",
              "    }\n",
              "\n",
              "    [theme=dark] .colab-df-convert:hover {\n",
              "      background-color: #434B5C;\n",
              "      box-shadow: 0px 1px 3px 1px rgba(0, 0, 0, 0.15);\n",
              "      filter: drop-shadow(0px 1px 2px rgba(0, 0, 0, 0.3));\n",
              "      fill: #FFFFFF;\n",
              "    }\n",
              "  </style>\n",
              "\n",
              "      <script>\n",
              "        const buttonEl =\n",
              "          document.querySelector('#df-4df56bb4-d852-418f-b938-2e4036c33042 button.colab-df-convert');\n",
              "        buttonEl.style.display =\n",
              "          google.colab.kernel.accessAllowed ? 'block' : 'none';\n",
              "\n",
              "        async function convertToInteractive(key) {\n",
              "          const element = document.querySelector('#df-4df56bb4-d852-418f-b938-2e4036c33042');\n",
              "          const dataTable =\n",
              "            await google.colab.kernel.invokeFunction('convertToInteractive',\n",
              "                                                     [key], {});\n",
              "          if (!dataTable) return;\n",
              "\n",
              "          const docLinkHtml = 'Like what you see? Visit the ' +\n",
              "            '<a target=\"_blank\" href=https://colab.research.google.com/notebooks/data_table.ipynb>data table notebook</a>'\n",
              "            + ' to learn more about interactive tables.';\n",
              "          element.innerHTML = '';\n",
              "          dataTable['output_type'] = 'display_data';\n",
              "          await google.colab.output.renderOutput(dataTable, element);\n",
              "          const docLink = document.createElement('div');\n",
              "          docLink.innerHTML = docLinkHtml;\n",
              "          element.appendChild(docLink);\n",
              "        }\n",
              "      </script>\n",
              "    </div>\n",
              "  </div>\n",
              "  "
            ]
          },
          "metadata": {},
          "execution_count": 72
        }
      ]
    },
    {
      "cell_type": "code",
      "source": [
        "#top 20 recommended book in terms of popularity\n",
        "Most_popular_book=popular_book.sort_values(by='popularity_score',ascending=False).head(20).reset_index()\n",
        "Most_popular_book"
      ],
      "metadata": {
        "colab": {
          "base_uri": "https://localhost:8080/",
          "height": 677
        },
        "id": "Bo7KB6UNrPWQ",
        "outputId": "edae5890-a7f8-40d7-ce6f-6dd94a55d548"
      },
      "execution_count": null,
      "outputs": [
        {
          "output_type": "execute_result",
          "data": {
            "text/plain": [
              "     index                                         Book-Title  Rating_count  \\\n",
              "0   110229                          The Lovely Bones: A Novel           707   \n",
              "1   132241                                        Wild Animus           581   \n",
              "2   102703                                  The Da Vinci Code           494   \n",
              "3   116196                            The Secret Life of Bees           406   \n",
              "4   111950                         The Nanny Diaries: A Novel           393   \n",
              "5   114960                The Red Tent (Bestselling Backlist)           383   \n",
              "6    15761                              Bridget Jones's Diary           377   \n",
              "7     3064                                    A Painted House           366   \n",
              "8    60688                                         Life of Pi           336   \n",
              "9    45374   Harry Potter and the Chamber of Secrets (Book 2)           326   \n",
              "10   29942    Divine Secrets of the Ya-Ya Sisterhood: A Novel           323   \n",
              "11   45403  Harry Potter and the Sorcerer's Stone (Harry P...           315   \n",
              "12    8134                                Angels &amp; Demons           310   \n",
              "13  117832                                        The Summons           309   \n",
              "14  131339  Where the Heart Is (Oprah's Book Club (Paperba...           295   \n",
              "15  112557                                       The Notebook           293   \n",
              "16   45393  Harry Potter and the Prisoner of Azkaban (Book 3)           277   \n",
              "17   42293                          Girl with a Pearl Earring           278   \n",
              "18   90906                             Snow Falling on Cedars           275   \n",
              "19  113728                         The Pilot's Wife : A Novel           272   \n",
              "\n",
              "    Avg_rating  popularity_score  \n",
              "0     8.185290        287.711174  \n",
              "1     4.390706        235.034423  \n",
              "2     8.439271        202.663563  \n",
              "3     8.477833        167.486700  \n",
              "4     7.437659        161.662595  \n",
              "5     8.182768        158.109661  \n",
              "6     7.625995        155.375597  \n",
              "7     7.398907        150.839344  \n",
              "8     8.080357        139.248214  \n",
              "9     8.840491        135.704294  \n",
              "10    7.876161        133.925697  \n",
              "11    8.936508        131.361905  \n",
              "12    8.016129        128.809677  \n",
              "13    7.275081        127.965049  \n",
              "14    8.142373        122.885424  \n",
              "15    7.897611        121.938567  \n",
              "16    9.043321        116.225993  \n",
              "17    7.982014        115.989209  \n",
              "18    7.829091        114.697455  \n",
              "19    7.503676        113.302206  "
            ],
            "text/html": [
              "\n",
              "  <div id=\"df-3e7f6e0e-3254-4fa4-bde0-5fdf44607c80\">\n",
              "    <div class=\"colab-df-container\">\n",
              "      <div>\n",
              "<style scoped>\n",
              "    .dataframe tbody tr th:only-of-type {\n",
              "        vertical-align: middle;\n",
              "    }\n",
              "\n",
              "    .dataframe tbody tr th {\n",
              "        vertical-align: top;\n",
              "    }\n",
              "\n",
              "    .dataframe thead th {\n",
              "        text-align: right;\n",
              "    }\n",
              "</style>\n",
              "<table border=\"1\" class=\"dataframe\">\n",
              "  <thead>\n",
              "    <tr style=\"text-align: right;\">\n",
              "      <th></th>\n",
              "      <th>index</th>\n",
              "      <th>Book-Title</th>\n",
              "      <th>Rating_count</th>\n",
              "      <th>Avg_rating</th>\n",
              "      <th>popularity_score</th>\n",
              "    </tr>\n",
              "  </thead>\n",
              "  <tbody>\n",
              "    <tr>\n",
              "      <th>0</th>\n",
              "      <td>110229</td>\n",
              "      <td>The Lovely Bones: A Novel</td>\n",
              "      <td>707</td>\n",
              "      <td>8.185290</td>\n",
              "      <td>287.711174</td>\n",
              "    </tr>\n",
              "    <tr>\n",
              "      <th>1</th>\n",
              "      <td>132241</td>\n",
              "      <td>Wild Animus</td>\n",
              "      <td>581</td>\n",
              "      <td>4.390706</td>\n",
              "      <td>235.034423</td>\n",
              "    </tr>\n",
              "    <tr>\n",
              "      <th>2</th>\n",
              "      <td>102703</td>\n",
              "      <td>The Da Vinci Code</td>\n",
              "      <td>494</td>\n",
              "      <td>8.439271</td>\n",
              "      <td>202.663563</td>\n",
              "    </tr>\n",
              "    <tr>\n",
              "      <th>3</th>\n",
              "      <td>116196</td>\n",
              "      <td>The Secret Life of Bees</td>\n",
              "      <td>406</td>\n",
              "      <td>8.477833</td>\n",
              "      <td>167.486700</td>\n",
              "    </tr>\n",
              "    <tr>\n",
              "      <th>4</th>\n",
              "      <td>111950</td>\n",
              "      <td>The Nanny Diaries: A Novel</td>\n",
              "      <td>393</td>\n",
              "      <td>7.437659</td>\n",
              "      <td>161.662595</td>\n",
              "    </tr>\n",
              "    <tr>\n",
              "      <th>5</th>\n",
              "      <td>114960</td>\n",
              "      <td>The Red Tent (Bestselling Backlist)</td>\n",
              "      <td>383</td>\n",
              "      <td>8.182768</td>\n",
              "      <td>158.109661</td>\n",
              "    </tr>\n",
              "    <tr>\n",
              "      <th>6</th>\n",
              "      <td>15761</td>\n",
              "      <td>Bridget Jones's Diary</td>\n",
              "      <td>377</td>\n",
              "      <td>7.625995</td>\n",
              "      <td>155.375597</td>\n",
              "    </tr>\n",
              "    <tr>\n",
              "      <th>7</th>\n",
              "      <td>3064</td>\n",
              "      <td>A Painted House</td>\n",
              "      <td>366</td>\n",
              "      <td>7.398907</td>\n",
              "      <td>150.839344</td>\n",
              "    </tr>\n",
              "    <tr>\n",
              "      <th>8</th>\n",
              "      <td>60688</td>\n",
              "      <td>Life of Pi</td>\n",
              "      <td>336</td>\n",
              "      <td>8.080357</td>\n",
              "      <td>139.248214</td>\n",
              "    </tr>\n",
              "    <tr>\n",
              "      <th>9</th>\n",
              "      <td>45374</td>\n",
              "      <td>Harry Potter and the Chamber of Secrets (Book 2)</td>\n",
              "      <td>326</td>\n",
              "      <td>8.840491</td>\n",
              "      <td>135.704294</td>\n",
              "    </tr>\n",
              "    <tr>\n",
              "      <th>10</th>\n",
              "      <td>29942</td>\n",
              "      <td>Divine Secrets of the Ya-Ya Sisterhood: A Novel</td>\n",
              "      <td>323</td>\n",
              "      <td>7.876161</td>\n",
              "      <td>133.925697</td>\n",
              "    </tr>\n",
              "    <tr>\n",
              "      <th>11</th>\n",
              "      <td>45403</td>\n",
              "      <td>Harry Potter and the Sorcerer's Stone (Harry P...</td>\n",
              "      <td>315</td>\n",
              "      <td>8.936508</td>\n",
              "      <td>131.361905</td>\n",
              "    </tr>\n",
              "    <tr>\n",
              "      <th>12</th>\n",
              "      <td>8134</td>\n",
              "      <td>Angels &amp;amp; Demons</td>\n",
              "      <td>310</td>\n",
              "      <td>8.016129</td>\n",
              "      <td>128.809677</td>\n",
              "    </tr>\n",
              "    <tr>\n",
              "      <th>13</th>\n",
              "      <td>117832</td>\n",
              "      <td>The Summons</td>\n",
              "      <td>309</td>\n",
              "      <td>7.275081</td>\n",
              "      <td>127.965049</td>\n",
              "    </tr>\n",
              "    <tr>\n",
              "      <th>14</th>\n",
              "      <td>131339</td>\n",
              "      <td>Where the Heart Is (Oprah's Book Club (Paperba...</td>\n",
              "      <td>295</td>\n",
              "      <td>8.142373</td>\n",
              "      <td>122.885424</td>\n",
              "    </tr>\n",
              "    <tr>\n",
              "      <th>15</th>\n",
              "      <td>112557</td>\n",
              "      <td>The Notebook</td>\n",
              "      <td>293</td>\n",
              "      <td>7.897611</td>\n",
              "      <td>121.938567</td>\n",
              "    </tr>\n",
              "    <tr>\n",
              "      <th>16</th>\n",
              "      <td>45393</td>\n",
              "      <td>Harry Potter and the Prisoner of Azkaban (Book 3)</td>\n",
              "      <td>277</td>\n",
              "      <td>9.043321</td>\n",
              "      <td>116.225993</td>\n",
              "    </tr>\n",
              "    <tr>\n",
              "      <th>17</th>\n",
              "      <td>42293</td>\n",
              "      <td>Girl with a Pearl Earring</td>\n",
              "      <td>278</td>\n",
              "      <td>7.982014</td>\n",
              "      <td>115.989209</td>\n",
              "    </tr>\n",
              "    <tr>\n",
              "      <th>18</th>\n",
              "      <td>90906</td>\n",
              "      <td>Snow Falling on Cedars</td>\n",
              "      <td>275</td>\n",
              "      <td>7.829091</td>\n",
              "      <td>114.697455</td>\n",
              "    </tr>\n",
              "    <tr>\n",
              "      <th>19</th>\n",
              "      <td>113728</td>\n",
              "      <td>The Pilot's Wife : A Novel</td>\n",
              "      <td>272</td>\n",
              "      <td>7.503676</td>\n",
              "      <td>113.302206</td>\n",
              "    </tr>\n",
              "  </tbody>\n",
              "</table>\n",
              "</div>\n",
              "      <button class=\"colab-df-convert\" onclick=\"convertToInteractive('df-3e7f6e0e-3254-4fa4-bde0-5fdf44607c80')\"\n",
              "              title=\"Convert this dataframe to an interactive table.\"\n",
              "              style=\"display:none;\">\n",
              "        \n",
              "  <svg xmlns=\"http://www.w3.org/2000/svg\" height=\"24px\"viewBox=\"0 0 24 24\"\n",
              "       width=\"24px\">\n",
              "    <path d=\"M0 0h24v24H0V0z\" fill=\"none\"/>\n",
              "    <path d=\"M18.56 5.44l.94 2.06.94-2.06 2.06-.94-2.06-.94-.94-2.06-.94 2.06-2.06.94zm-11 1L8.5 8.5l.94-2.06 2.06-.94-2.06-.94L8.5 2.5l-.94 2.06-2.06.94zm10 10l.94 2.06.94-2.06 2.06-.94-2.06-.94-.94-2.06-.94 2.06-2.06.94z\"/><path d=\"M17.41 7.96l-1.37-1.37c-.4-.4-.92-.59-1.43-.59-.52 0-1.04.2-1.43.59L10.3 9.45l-7.72 7.72c-.78.78-.78 2.05 0 2.83L4 21.41c.39.39.9.59 1.41.59.51 0 1.02-.2 1.41-.59l7.78-7.78 2.81-2.81c.8-.78.8-2.07 0-2.86zM5.41 20L4 18.59l7.72-7.72 1.47 1.35L5.41 20z\"/>\n",
              "  </svg>\n",
              "      </button>\n",
              "      \n",
              "  <style>\n",
              "    .colab-df-container {\n",
              "      display:flex;\n",
              "      flex-wrap:wrap;\n",
              "      gap: 12px;\n",
              "    }\n",
              "\n",
              "    .colab-df-convert {\n",
              "      background-color: #E8F0FE;\n",
              "      border: none;\n",
              "      border-radius: 50%;\n",
              "      cursor: pointer;\n",
              "      display: none;\n",
              "      fill: #1967D2;\n",
              "      height: 32px;\n",
              "      padding: 0 0 0 0;\n",
              "      width: 32px;\n",
              "    }\n",
              "\n",
              "    .colab-df-convert:hover {\n",
              "      background-color: #E2EBFA;\n",
              "      box-shadow: 0px 1px 2px rgba(60, 64, 67, 0.3), 0px 1px 3px 1px rgba(60, 64, 67, 0.15);\n",
              "      fill: #174EA6;\n",
              "    }\n",
              "\n",
              "    [theme=dark] .colab-df-convert {\n",
              "      background-color: #3B4455;\n",
              "      fill: #D2E3FC;\n",
              "    }\n",
              "\n",
              "    [theme=dark] .colab-df-convert:hover {\n",
              "      background-color: #434B5C;\n",
              "      box-shadow: 0px 1px 3px 1px rgba(0, 0, 0, 0.15);\n",
              "      filter: drop-shadow(0px 1px 2px rgba(0, 0, 0, 0.3));\n",
              "      fill: #FFFFFF;\n",
              "    }\n",
              "  </style>\n",
              "\n",
              "      <script>\n",
              "        const buttonEl =\n",
              "          document.querySelector('#df-3e7f6e0e-3254-4fa4-bde0-5fdf44607c80 button.colab-df-convert');\n",
              "        buttonEl.style.display =\n",
              "          google.colab.kernel.accessAllowed ? 'block' : 'none';\n",
              "\n",
              "        async function convertToInteractive(key) {\n",
              "          const element = document.querySelector('#df-3e7f6e0e-3254-4fa4-bde0-5fdf44607c80');\n",
              "          const dataTable =\n",
              "            await google.colab.kernel.invokeFunction('convertToInteractive',\n",
              "                                                     [key], {});\n",
              "          if (!dataTable) return;\n",
              "\n",
              "          const docLinkHtml = 'Like what you see? Visit the ' +\n",
              "            '<a target=\"_blank\" href=https://colab.research.google.com/notebooks/data_table.ipynb>data table notebook</a>'\n",
              "            + ' to learn more about interactive tables.';\n",
              "          element.innerHTML = '';\n",
              "          dataTable['output_type'] = 'display_data';\n",
              "          await google.colab.output.renderOutput(dataTable, element);\n",
              "          const docLink = document.createElement('div');\n",
              "          docLink.innerHTML = docLinkHtml;\n",
              "          element.appendChild(docLink);\n",
              "        }\n",
              "      </script>\n",
              "    </div>\n",
              "  </div>\n",
              "  "
            ]
          },
          "metadata": {},
          "execution_count": 73
        }
      ]
    },
    {
      "cell_type": "code",
      "source": [
        "image_list=[]\n",
        "for title in Most_popular_book['Book-Title']:\n",
        "  \n",
        "  url=str(Final_df[Final_df['Book-Title']==title]['Image-URL-S'].head(1))[8:57]\n",
        "  image_list.append(url)\n",
        "\n",
        "  "
      ],
      "metadata": {
        "id": "nNmI3aFkvTkH"
      },
      "execution_count": null,
      "outputs": []
    },
    {
      "cell_type": "code",
      "source": [
        "for path in image_list:\n",
        "    img = Image(url=path,height=300,width=300)\n",
        "    display(img)"
      ],
      "metadata": {
        "colab": {
          "base_uri": "https://localhost:8080/",
          "height": 1000
        },
        "id": "beBzggOtO_3n",
        "outputId": "5c87edd9-794e-4040-c986-834dbda75180"
      },
      "execution_count": null,
      "outputs": [
        {
          "output_type": "display_data",
          "data": {
            "text/html": [
              "<img src=\" http://images.amazon.com/images/P/0316666343.0..\" width=\"300\" height=\"300\"/>"
            ],
            "text/plain": [
              "<IPython.core.display.Image object>"
            ]
          },
          "metadata": {}
        },
        {
          "output_type": "display_data",
          "data": {
            "text/html": [
              "<img src=\" http://images.amazon.com/images/P/0971880107.0..\" width=\"300\" height=\"300\"/>"
            ],
            "text/plain": [
              "<IPython.core.display.Image object>"
            ]
          },
          "metadata": {}
        },
        {
          "output_type": "display_data",
          "data": {
            "text/html": [
              "<img src=\" http://images.amazon.com/images/P/0385504209.0..\" width=\"300\" height=\"300\"/>"
            ],
            "text/plain": [
              "<IPython.core.display.Image object>"
            ]
          },
          "metadata": {}
        },
        {
          "output_type": "display_data",
          "data": {
            "text/html": [
              "<img src=\"http://images.amazon.com/images/P/0142001740.0...\" width=\"300\" height=\"300\"/>"
            ],
            "text/plain": [
              "<IPython.core.display.Image object>"
            ]
          },
          "metadata": {}
        },
        {
          "output_type": "display_data",
          "data": {
            "text/html": [
              "<img src=\"http://images.amazon.com/images/P/0312278586.0...\" width=\"300\" height=\"300\"/>"
            ],
            "text/plain": [
              "<IPython.core.display.Image object>"
            ]
          },
          "metadata": {}
        },
        {
          "output_type": "display_data",
          "data": {
            "text/html": [
              "<img src=\" http://images.amazon.com/images/P/0312195516.0..\" width=\"300\" height=\"300\"/>"
            ],
            "text/plain": [
              "<IPython.core.display.Image object>"
            ]
          },
          "metadata": {}
        },
        {
          "output_type": "display_data",
          "data": {
            "text/html": [
              "<img src=\" http://images.amazon.com/images/P/014028009X.0..\" width=\"300\" height=\"300\"/>"
            ],
            "text/plain": [
              "<IPython.core.display.Image object>"
            ]
          },
          "metadata": {}
        },
        {
          "output_type": "display_data",
          "data": {
            "text/html": [
              "<img src=\"http://images.amazon.com/images/P/044023722X.0...\" width=\"300\" height=\"300\"/>"
            ],
            "text/plain": [
              "<IPython.core.display.Image object>"
            ]
          },
          "metadata": {}
        },
        {
          "output_type": "display_data",
          "data": {
            "text/html": [
              "<img src=\"http://images.amazon.com/images/P/0151008116.0...\" width=\"300\" height=\"300\"/>"
            ],
            "text/plain": [
              "<IPython.core.display.Image object>"
            ]
          },
          "metadata": {}
        },
        {
          "output_type": "display_data",
          "data": {
            "text/html": [
              "<img src=\"http://images.amazon.com/images/P/0439064864.0...\" width=\"300\" height=\"300\"/>"
            ],
            "text/plain": [
              "<IPython.core.display.Image object>"
            ]
          },
          "metadata": {}
        },
        {
          "output_type": "display_data",
          "data": {
            "text/html": [
              "<img src=\" http://images.amazon.com/images/P/0060928336.0..\" width=\"300\" height=\"300\"/>"
            ],
            "text/plain": [
              "<IPython.core.display.Image object>"
            ]
          },
          "metadata": {}
        },
        {
          "output_type": "display_data",
          "data": {
            "text/html": [
              "<img src=\" http://images.amazon.com/images/P/059035342X.0..\" width=\"300\" height=\"300\"/>"
            ],
            "text/plain": [
              "<IPython.core.display.Image object>"
            ]
          },
          "metadata": {}
        },
        {
          "output_type": "display_data",
          "data": {
            "text/html": [
              "<img src=\"http://images.amazon.com/images/P/0671027360.0...\" width=\"300\" height=\"300\"/>"
            ],
            "text/plain": [
              "<IPython.core.display.Image object>"
            ]
          },
          "metadata": {}
        },
        {
          "output_type": "display_data",
          "data": {
            "text/html": [
              "<img src=\" http://images.amazon.com/images/P/0440241073.0..\" width=\"300\" height=\"300\"/>"
            ],
            "text/plain": [
              "<IPython.core.display.Image object>"
            ]
          },
          "metadata": {}
        },
        {
          "output_type": "display_data",
          "data": {
            "text/html": [
              "<img src=\" http://images.amazon.com/images/P/0446672211.0..\" width=\"300\" height=\"300\"/>"
            ],
            "text/plain": [
              "<IPython.core.display.Image object>"
            ]
          },
          "metadata": {}
        },
        {
          "output_type": "display_data",
          "data": {
            "text/html": [
              "<img src=\" http://images.amazon.com/images/P/0446605239.0..\" width=\"300\" height=\"300\"/>"
            ],
            "text/plain": [
              "<IPython.core.display.Image object>"
            ]
          },
          "metadata": {}
        },
        {
          "output_type": "display_data",
          "data": {
            "text/html": [
              "<img src=\"http://images.amazon.com/images/P/0439136350.0...\" width=\"300\" height=\"300\"/>"
            ],
            "text/plain": [
              "<IPython.core.display.Image object>"
            ]
          },
          "metadata": {}
        },
        {
          "output_type": "display_data",
          "data": {
            "text/html": [
              "<img src=\" http://images.amazon.com/images/P/0452282152.0..\" width=\"300\" height=\"300\"/>"
            ],
            "text/plain": [
              "<IPython.core.display.Image object>"
            ]
          },
          "metadata": {}
        },
        {
          "output_type": "display_data",
          "data": {
            "text/html": [
              "<img src=\" http://images.amazon.com/images/P/0151001006.0..\" width=\"300\" height=\"300\"/>"
            ],
            "text/plain": [
              "<IPython.core.display.Image object>"
            ]
          },
          "metadata": {}
        },
        {
          "output_type": "display_data",
          "data": {
            "text/html": [
              "<img src=\"http://images.amazon.com/images/P/0316601950.0...\" width=\"300\" height=\"300\"/>"
            ],
            "text/plain": [
              "<IPython.core.display.Image object>"
            ]
          },
          "metadata": {}
        }
      ]
    },
    {
      "cell_type": "markdown",
      "source": [
        "## Collaborative Filtering Based Recommender System"
      ],
      "metadata": {
        "id": "P-6nLdCdViMM"
      }
    },
    {
      "cell_type": "code",
      "source": [
        "Final_df.info()"
      ],
      "metadata": {
        "colab": {
          "base_uri": "https://localhost:8080/"
        },
        "id": "7Zl2pdghY89f",
        "outputId": "01ad7895-1b11-4b02-8728-e8b089479a26"
      },
      "execution_count": null,
      "outputs": [
        {
          "output_type": "stream",
          "name": "stdout",
          "text": [
            "<class 'pandas.core.frame.DataFrame'>\n",
            "Int64Index: 383842 entries, 0 to 383841\n",
            "Data columns (total 9 columns):\n",
            " #   Column               Non-Null Count   Dtype  \n",
            "---  ------               --------------   -----  \n",
            " 0   User-ID              383842 non-null  int64  \n",
            " 1   Age                  383842 non-null  float64\n",
            " 2   ISBN                 383842 non-null  object \n",
            " 3   Book-Rating          383842 non-null  int64  \n",
            " 4   Book-Title           383842 non-null  object \n",
            " 5   Book-Author          383842 non-null  object \n",
            " 6   Year-Of-Publication  383842 non-null  float64\n",
            " 7   Publisher            383842 non-null  object \n",
            " 8   Image-URL-S          383842 non-null  object \n",
            "dtypes: float64(2), int64(2), object(5)\n",
            "memory usage: 29.3+ MB\n"
          ]
        }
      ]
    },
    {
      "cell_type": "code",
      "source": [
        "#user with at least 3 rateing\n",
        "rating_user_df=Final_df.groupby('User-ID').agg({'Book-Rating':'count'}).reset_index()\n",
        "relible_user=rating_user_df[rating_user_df['Book-Rating']>=3]['User-ID'].tolist()\n",
        "final_relible_user_df = Final_df[Final_df['User-ID'].isin(relible_user)]"
      ],
      "metadata": {
        "id": "UL1Q5eohWDwO"
      },
      "execution_count": null,
      "outputs": []
    },
    {
      "cell_type": "code",
      "source": [
        "#top 1 percent of most reviewed book\n",
        "threshold = len(final_relible_user_df ['ISBN'].unique()) * 0.01\n",
        "\n",
        "filter_books_list = final_relible_user_df ['ISBN'].value_counts().head(int(threshold)).index.to_list()\n",
        "final_relible_user_df  = final_relible_user_df [final_relible_user_df ['ISBN'].isin(filter_books_list)]\n",
        "\n"
      ],
      "metadata": {
        "id": "9bRoFk8Qkh-s"
      },
      "execution_count": null,
      "outputs": []
    },
    {
      "cell_type": "code",
      "source": [
        "final_relible_user_df.shape"
      ],
      "metadata": {
        "colab": {
          "base_uri": "https://localhost:8080/"
        },
        "id": "TnvUNXGTlqn1",
        "outputId": "82d13aad-d0b6-40f8-fab8-5a78536c087f"
      },
      "execution_count": null,
      "outputs": [
        {
          "output_type": "execute_result",
          "data": {
            "text/plain": [
              "(64086, 9)"
            ]
          },
          "metadata": {},
          "execution_count": 80
        }
      ]
    },
    {
      "cell_type": "code",
      "source": [
        "# Applying Pivot table \n",
        "user_item_df=final_relible_user_df.pivot_table(index='User-ID',columns='Book-Title',values='Book-Rating').fillna(0)\n",
        "user_item_df.head()"
      ],
      "metadata": {
        "colab": {
          "base_uri": "https://localhost:8080/",
          "height": 522
        },
        "id": "HBerXC-cnKzK",
        "outputId": "87381a25-8cfe-454c-d702-b562c16fde4e"
      },
      "execution_count": null,
      "outputs": [
        {
          "output_type": "execute_result",
          "data": {
            "text/plain": [
              "Book-Title  1984  1st to Die: A Novel  2010: Odyssey Two  2nd Chance  \\\n",
              "User-ID                                                                \n",
              "99           0.0                  0.0                0.0         0.0   \n",
              "114          0.0                  0.0                0.0         0.0   \n",
              "165          0.0                  0.0                0.0         0.0   \n",
              "242          0.0                  0.0                0.0         0.0   \n",
              "243          0.0                  0.0                0.0         0.0   \n",
              "\n",
              "Book-Title  3rd Degree  4 Blondes  84 Charing Cross Road  \\\n",
              "User-ID                                                    \n",
              "99                 0.0        0.0                    0.0   \n",
              "114                0.0        0.0                    0.0   \n",
              "165                0.0        0.0                    0.0   \n",
              "242                0.0        0.0                    0.0   \n",
              "243                0.0        0.0                    0.0   \n",
              "\n",
              "Book-Title  A 2nd Helping of Chicken Soup for the Soul (Chicken Soup for the Soul Series (Paper))  \\\n",
              "User-ID                                                                                             \n",
              "99                                                        0.0                                       \n",
              "114                                                       0.0                                       \n",
              "165                                                       0.0                                       \n",
              "242                                                       0.0                                       \n",
              "243                                                       0.0                                       \n",
              "\n",
              "Book-Title  A Beautiful Mind: The Life of Mathematical Genius and Nobel Laureate John Nash  \\\n",
              "User-ID                                                                                      \n",
              "99                                                        0.0                                \n",
              "114                                                       0.0                                \n",
              "165                                                       0.0                                \n",
              "242                                                       0.0                                \n",
              "243                                                       0.0                                \n",
              "\n",
              "Book-Title  A Bend in the Road  ...  \\\n",
              "User-ID                         ...   \n",
              "99                         0.0  ...   \n",
              "114                        0.0  ...   \n",
              "165                        0.0  ...   \n",
              "242                        0.0  ...   \n",
              "243                        0.0  ...   \n",
              "\n",
              "Book-Title  Word Freak: Heartbreak, Triumph, Genius, and Obsession in the World of Competitive Scrabble Players  \\\n",
              "User-ID                                                                                                           \n",
              "99                                                        0.0                                                     \n",
              "114                                                       0.0                                                     \n",
              "165                                                       0.0                                                     \n",
              "242                                                       0.0                                                     \n",
              "243                                                       0.0                                                     \n",
              "\n",
              "Book-Title  Writ of Execution  Writing Down the Bones  Wuthering Heights  \\\n",
              "User-ID                                                                    \n",
              "99                        0.0                     0.0                0.0   \n",
              "114                       0.0                     0.0                0.0   \n",
              "165                       0.0                     0.0                0.0   \n",
              "242                       0.0                     0.0                0.0   \n",
              "243                       0.0                     0.0                0.0   \n",
              "\n",
              "Book-Title  Xenocide (Ender Wiggins Saga (Paperback))  Year of Wonders  \\\n",
              "User-ID                                                                  \n",
              "99                                                0.0              0.0   \n",
              "114                                               0.0              0.0   \n",
              "165                                               0.0              0.0   \n",
              "242                                               0.0              0.0   \n",
              "243                                               0.0              0.0   \n",
              "\n",
              "Book-Title  You Belong To Me  \\\n",
              "User-ID                        \n",
              "99                       0.0   \n",
              "114                      0.0   \n",
              "165                      0.0   \n",
              "242                      0.0   \n",
              "243                      0.0   \n",
              "\n",
              "Book-Title  Zen and the Art of Motorcycle Maintenance: An Inquiry into Values  \\\n",
              "User-ID                                                                         \n",
              "99                                                        0.0                   \n",
              "114                                                       0.0                   \n",
              "165                                                       0.0                   \n",
              "242                                                       0.0                   \n",
              "243                                                       0.0                   \n",
              "\n",
              "Book-Title  \\O\\\" Is for Outlaw\"  stardust  \n",
              "User-ID                                    \n",
              "99                          0.0       0.0  \n",
              "114                         0.0       0.0  \n",
              "165                         0.0       0.0  \n",
              "242                         0.0       0.0  \n",
              "243                         0.0       0.0  \n",
              "\n",
              "[5 rows x 1250 columns]"
            ],
            "text/html": [
              "\n",
              "  <div id=\"df-e6648c48-b67d-4708-a2b3-ae7cddd636f1\">\n",
              "    <div class=\"colab-df-container\">\n",
              "      <div>\n",
              "<style scoped>\n",
              "    .dataframe tbody tr th:only-of-type {\n",
              "        vertical-align: middle;\n",
              "    }\n",
              "\n",
              "    .dataframe tbody tr th {\n",
              "        vertical-align: top;\n",
              "    }\n",
              "\n",
              "    .dataframe thead th {\n",
              "        text-align: right;\n",
              "    }\n",
              "</style>\n",
              "<table border=\"1\" class=\"dataframe\">\n",
              "  <thead>\n",
              "    <tr style=\"text-align: right;\">\n",
              "      <th>Book-Title</th>\n",
              "      <th>1984</th>\n",
              "      <th>1st to Die: A Novel</th>\n",
              "      <th>2010: Odyssey Two</th>\n",
              "      <th>2nd Chance</th>\n",
              "      <th>3rd Degree</th>\n",
              "      <th>4 Blondes</th>\n",
              "      <th>84 Charing Cross Road</th>\n",
              "      <th>A 2nd Helping of Chicken Soup for the Soul (Chicken Soup for the Soul Series (Paper))</th>\n",
              "      <th>A Beautiful Mind: The Life of Mathematical Genius and Nobel Laureate John Nash</th>\n",
              "      <th>A Bend in the Road</th>\n",
              "      <th>...</th>\n",
              "      <th>Word Freak: Heartbreak, Triumph, Genius, and Obsession in the World of Competitive Scrabble Players</th>\n",
              "      <th>Writ of Execution</th>\n",
              "      <th>Writing Down the Bones</th>\n",
              "      <th>Wuthering Heights</th>\n",
              "      <th>Xenocide (Ender Wiggins Saga (Paperback))</th>\n",
              "      <th>Year of Wonders</th>\n",
              "      <th>You Belong To Me</th>\n",
              "      <th>Zen and the Art of Motorcycle Maintenance: An Inquiry into Values</th>\n",
              "      <th>\\O\\\" Is for Outlaw\"</th>\n",
              "      <th>stardust</th>\n",
              "    </tr>\n",
              "    <tr>\n",
              "      <th>User-ID</th>\n",
              "      <th></th>\n",
              "      <th></th>\n",
              "      <th></th>\n",
              "      <th></th>\n",
              "      <th></th>\n",
              "      <th></th>\n",
              "      <th></th>\n",
              "      <th></th>\n",
              "      <th></th>\n",
              "      <th></th>\n",
              "      <th></th>\n",
              "      <th></th>\n",
              "      <th></th>\n",
              "      <th></th>\n",
              "      <th></th>\n",
              "      <th></th>\n",
              "      <th></th>\n",
              "      <th></th>\n",
              "      <th></th>\n",
              "      <th></th>\n",
              "      <th></th>\n",
              "    </tr>\n",
              "  </thead>\n",
              "  <tbody>\n",
              "    <tr>\n",
              "      <th>99</th>\n",
              "      <td>0.0</td>\n",
              "      <td>0.0</td>\n",
              "      <td>0.0</td>\n",
              "      <td>0.0</td>\n",
              "      <td>0.0</td>\n",
              "      <td>0.0</td>\n",
              "      <td>0.0</td>\n",
              "      <td>0.0</td>\n",
              "      <td>0.0</td>\n",
              "      <td>0.0</td>\n",
              "      <td>...</td>\n",
              "      <td>0.0</td>\n",
              "      <td>0.0</td>\n",
              "      <td>0.0</td>\n",
              "      <td>0.0</td>\n",
              "      <td>0.0</td>\n",
              "      <td>0.0</td>\n",
              "      <td>0.0</td>\n",
              "      <td>0.0</td>\n",
              "      <td>0.0</td>\n",
              "      <td>0.0</td>\n",
              "    </tr>\n",
              "    <tr>\n",
              "      <th>114</th>\n",
              "      <td>0.0</td>\n",
              "      <td>0.0</td>\n",
              "      <td>0.0</td>\n",
              "      <td>0.0</td>\n",
              "      <td>0.0</td>\n",
              "      <td>0.0</td>\n",
              "      <td>0.0</td>\n",
              "      <td>0.0</td>\n",
              "      <td>0.0</td>\n",
              "      <td>0.0</td>\n",
              "      <td>...</td>\n",
              "      <td>0.0</td>\n",
              "      <td>0.0</td>\n",
              "      <td>0.0</td>\n",
              "      <td>0.0</td>\n",
              "      <td>0.0</td>\n",
              "      <td>0.0</td>\n",
              "      <td>0.0</td>\n",
              "      <td>0.0</td>\n",
              "      <td>0.0</td>\n",
              "      <td>0.0</td>\n",
              "    </tr>\n",
              "    <tr>\n",
              "      <th>165</th>\n",
              "      <td>0.0</td>\n",
              "      <td>0.0</td>\n",
              "      <td>0.0</td>\n",
              "      <td>0.0</td>\n",
              "      <td>0.0</td>\n",
              "      <td>0.0</td>\n",
              "      <td>0.0</td>\n",
              "      <td>0.0</td>\n",
              "      <td>0.0</td>\n",
              "      <td>0.0</td>\n",
              "      <td>...</td>\n",
              "      <td>0.0</td>\n",
              "      <td>0.0</td>\n",
              "      <td>0.0</td>\n",
              "      <td>0.0</td>\n",
              "      <td>0.0</td>\n",
              "      <td>0.0</td>\n",
              "      <td>0.0</td>\n",
              "      <td>0.0</td>\n",
              "      <td>0.0</td>\n",
              "      <td>0.0</td>\n",
              "    </tr>\n",
              "    <tr>\n",
              "      <th>242</th>\n",
              "      <td>0.0</td>\n",
              "      <td>0.0</td>\n",
              "      <td>0.0</td>\n",
              "      <td>0.0</td>\n",
              "      <td>0.0</td>\n",
              "      <td>0.0</td>\n",
              "      <td>0.0</td>\n",
              "      <td>0.0</td>\n",
              "      <td>0.0</td>\n",
              "      <td>0.0</td>\n",
              "      <td>...</td>\n",
              "      <td>0.0</td>\n",
              "      <td>0.0</td>\n",
              "      <td>0.0</td>\n",
              "      <td>0.0</td>\n",
              "      <td>0.0</td>\n",
              "      <td>0.0</td>\n",
              "      <td>0.0</td>\n",
              "      <td>0.0</td>\n",
              "      <td>0.0</td>\n",
              "      <td>0.0</td>\n",
              "    </tr>\n",
              "    <tr>\n",
              "      <th>243</th>\n",
              "      <td>0.0</td>\n",
              "      <td>0.0</td>\n",
              "      <td>0.0</td>\n",
              "      <td>0.0</td>\n",
              "      <td>0.0</td>\n",
              "      <td>0.0</td>\n",
              "      <td>0.0</td>\n",
              "      <td>0.0</td>\n",
              "      <td>0.0</td>\n",
              "      <td>0.0</td>\n",
              "      <td>...</td>\n",
              "      <td>0.0</td>\n",
              "      <td>0.0</td>\n",
              "      <td>0.0</td>\n",
              "      <td>0.0</td>\n",
              "      <td>0.0</td>\n",
              "      <td>0.0</td>\n",
              "      <td>0.0</td>\n",
              "      <td>0.0</td>\n",
              "      <td>0.0</td>\n",
              "      <td>0.0</td>\n",
              "    </tr>\n",
              "  </tbody>\n",
              "</table>\n",
              "<p>5 rows × 1250 columns</p>\n",
              "</div>\n",
              "      <button class=\"colab-df-convert\" onclick=\"convertToInteractive('df-e6648c48-b67d-4708-a2b3-ae7cddd636f1')\"\n",
              "              title=\"Convert this dataframe to an interactive table.\"\n",
              "              style=\"display:none;\">\n",
              "        \n",
              "  <svg xmlns=\"http://www.w3.org/2000/svg\" height=\"24px\"viewBox=\"0 0 24 24\"\n",
              "       width=\"24px\">\n",
              "    <path d=\"M0 0h24v24H0V0z\" fill=\"none\"/>\n",
              "    <path d=\"M18.56 5.44l.94 2.06.94-2.06 2.06-.94-2.06-.94-.94-2.06-.94 2.06-2.06.94zm-11 1L8.5 8.5l.94-2.06 2.06-.94-2.06-.94L8.5 2.5l-.94 2.06-2.06.94zm10 10l.94 2.06.94-2.06 2.06-.94-2.06-.94-.94-2.06-.94 2.06-2.06.94z\"/><path d=\"M17.41 7.96l-1.37-1.37c-.4-.4-.92-.59-1.43-.59-.52 0-1.04.2-1.43.59L10.3 9.45l-7.72 7.72c-.78.78-.78 2.05 0 2.83L4 21.41c.39.39.9.59 1.41.59.51 0 1.02-.2 1.41-.59l7.78-7.78 2.81-2.81c.8-.78.8-2.07 0-2.86zM5.41 20L4 18.59l7.72-7.72 1.47 1.35L5.41 20z\"/>\n",
              "  </svg>\n",
              "      </button>\n",
              "      \n",
              "  <style>\n",
              "    .colab-df-container {\n",
              "      display:flex;\n",
              "      flex-wrap:wrap;\n",
              "      gap: 12px;\n",
              "    }\n",
              "\n",
              "    .colab-df-convert {\n",
              "      background-color: #E8F0FE;\n",
              "      border: none;\n",
              "      border-radius: 50%;\n",
              "      cursor: pointer;\n",
              "      display: none;\n",
              "      fill: #1967D2;\n",
              "      height: 32px;\n",
              "      padding: 0 0 0 0;\n",
              "      width: 32px;\n",
              "    }\n",
              "\n",
              "    .colab-df-convert:hover {\n",
              "      background-color: #E2EBFA;\n",
              "      box-shadow: 0px 1px 2px rgba(60, 64, 67, 0.3), 0px 1px 3px 1px rgba(60, 64, 67, 0.15);\n",
              "      fill: #174EA6;\n",
              "    }\n",
              "\n",
              "    [theme=dark] .colab-df-convert {\n",
              "      background-color: #3B4455;\n",
              "      fill: #D2E3FC;\n",
              "    }\n",
              "\n",
              "    [theme=dark] .colab-df-convert:hover {\n",
              "      background-color: #434B5C;\n",
              "      box-shadow: 0px 1px 3px 1px rgba(0, 0, 0, 0.15);\n",
              "      filter: drop-shadow(0px 1px 2px rgba(0, 0, 0, 0.3));\n",
              "      fill: #FFFFFF;\n",
              "    }\n",
              "  </style>\n",
              "\n",
              "      <script>\n",
              "        const buttonEl =\n",
              "          document.querySelector('#df-e6648c48-b67d-4708-a2b3-ae7cddd636f1 button.colab-df-convert');\n",
              "        buttonEl.style.display =\n",
              "          google.colab.kernel.accessAllowed ? 'block' : 'none';\n",
              "\n",
              "        async function convertToInteractive(key) {\n",
              "          const element = document.querySelector('#df-e6648c48-b67d-4708-a2b3-ae7cddd636f1');\n",
              "          const dataTable =\n",
              "            await google.colab.kernel.invokeFunction('convertToInteractive',\n",
              "                                                     [key], {});\n",
              "          if (!dataTable) return;\n",
              "\n",
              "          const docLinkHtml = 'Like what you see? Visit the ' +\n",
              "            '<a target=\"_blank\" href=https://colab.research.google.com/notebooks/data_table.ipynb>data table notebook</a>'\n",
              "            + ' to learn more about interactive tables.';\n",
              "          element.innerHTML = '';\n",
              "          dataTable['output_type'] = 'display_data';\n",
              "          await google.colab.output.renderOutput(dataTable, element);\n",
              "          const docLink = document.createElement('div');\n",
              "          docLink.innerHTML = docLinkHtml;\n",
              "          element.appendChild(docLink);\n",
              "        }\n",
              "      </script>\n",
              "    </div>\n",
              "  </div>\n",
              "  "
            ]
          },
          "metadata": {},
          "execution_count": 81
        }
      ]
    },
    {
      "cell_type": "markdown",
      "source": [
        "### Collaborative Filtering Based Recommender System using cosine_similarity "
      ],
      "metadata": {
        "id": "w7vl4RHFBqYm"
      }
    },
    {
      "cell_type": "code",
      "source": [
        "user_item_df_transposed=user_item_df.transpose()"
      ],
      "metadata": {
        "id": "Fsj6khBRHzpP"
      },
      "execution_count": null,
      "outputs": []
    },
    {
      "cell_type": "code",
      "source": [
        "#Applying cosine_similarity to pivot table\n",
        "similarity_scores = cosine_similarity(user_item_df_transposed)\n",
        "similarity_scores.shape"
      ],
      "metadata": {
        "colab": {
          "base_uri": "https://localhost:8080/"
        },
        "id": "IuK9XOB5HISc",
        "outputId": "834b5aba-f864-420c-8d57-1cd2c0704532"
      },
      "execution_count": null,
      "outputs": [
        {
          "output_type": "execute_result",
          "data": {
            "text/plain": [
              "(1250, 1250)"
            ]
          },
          "metadata": {},
          "execution_count": 83
        }
      ]
    },
    {
      "cell_type": "code",
      "source": [
        "def recommend_similer(book_name):\n",
        "    # index fetch\n",
        "    index = np.where(user_item_df_transposed.index==book_name)[0][0]\n",
        "    similar_items = sorted(list(enumerate(similarity_scores[index])),key=lambda x:x[1],reverse=True)[1:10]\n",
        "    \n",
        "    data = []\n",
        "    for i in similar_items:\n",
        "        item = []\n",
        "        temp_df = final_relible_user_df[final_relible_user_df['Book-Title'] == user_item_df_transposed.index[i[0]]]\n",
        "        item.extend(list(temp_df.drop_duplicates('Book-Title')['Book-Title'].values))\n",
        "        item.extend(list(temp_df.drop_duplicates('Book-Title')['Book-Author'].values))\n",
        "        \n",
        "        \n",
        "        data.append(item)\n",
        "    \n",
        "    return data"
      ],
      "metadata": {
        "id": "nHRk41wN4Xnx"
      },
      "execution_count": null,
      "outputs": []
    },
    {
      "cell_type": "code",
      "source": [
        "recommend_similer('1984')"
      ],
      "metadata": {
        "colab": {
          "base_uri": "https://localhost:8080/"
        },
        "id": "OYNFwlMk8ADZ",
        "outputId": "29ecce2f-96d0-4ac0-ce4c-32165c0219ad"
      },
      "execution_count": null,
      "outputs": [
        {
          "output_type": "execute_result",
          "data": {
            "text/plain": [
              "[['Brave New World', 'Aldous Huxley'],\n",
              " ['Animal Farm', 'George Orwell'],\n",
              " [\"The Hitchhiker's Guide to the Galaxy\", 'Douglas Adams'],\n",
              " ['The Drawing of the Three (The Dark Tower, Book 2)', 'Stephen King'],\n",
              " ['The Gunslinger (The Dark Tower, Book 1)', 'Stephen King'],\n",
              " [\"Slaughterhouse Five or the Children's Crusade: A Duty Dance With Death\",\n",
              "  'Kurt Vonnegut'],\n",
              " [\"The Restaurant at the End of the Universe (Hitchhiker's Trilogy (Paperback))\",\n",
              "  'Douglas Adams'],\n",
              " ['The Catcher in the Rye', 'J.D. Salinger'],\n",
              " ['The Vampire Lestat (Vampire Chronicles, Book II)', 'ANNE RICE']]"
            ]
          },
          "metadata": {},
          "execution_count": 119
        }
      ]
    },
    {
      "cell_type": "markdown",
      "source": [
        "### Collaborative Filtering Based Recommender System using Singular Value Decomposition Method"
      ],
      "metadata": {
        "id": "XtdZOeDr-RRb"
      }
    },
    {
      "cell_type": "code",
      "source": [
        "user_item_df.shape"
      ],
      "metadata": {
        "colab": {
          "base_uri": "https://localhost:8080/"
        },
        "id": "FykDCojEviJB",
        "outputId": "71722dab-ec4e-41f4-8fb7-a45b36e55d39"
      },
      "execution_count": null,
      "outputs": [
        {
          "output_type": "execute_result",
          "data": {
            "text/plain": [
              "(13811, 1250)"
            ]
          },
          "metadata": {},
          "execution_count": 85
        }
      ]
    },
    {
      "cell_type": "code",
      "source": [
        "#converting to numpy array\n",
        "user_item_matrix=user_item_df.values"
      ],
      "metadata": {
        "id": "C3iHd7dTrkMU"
      },
      "execution_count": null,
      "outputs": []
    },
    {
      "cell_type": "code",
      "source": [
        "user_item_matrix.shape"
      ],
      "metadata": {
        "colab": {
          "base_uri": "https://localhost:8080/"
        },
        "id": "Xqw00AdAsAtZ",
        "outputId": "0a816ebb-5efc-4957-f900-bffb0356bb92"
      },
      "execution_count": null,
      "outputs": [
        {
          "output_type": "execute_result",
          "data": {
            "text/plain": [
              "(13811, 1250)"
            ]
          },
          "metadata": {},
          "execution_count": 87
        }
      ]
    },
    {
      "cell_type": "code",
      "source": [
        "#fectorising matrix using svd\n",
        "U, sigma, Vt = svds(user_item_matrix, k = 16)"
      ],
      "metadata": {
        "id": "7fthb6VWtDaZ"
      },
      "execution_count": null,
      "outputs": []
    },
    {
      "cell_type": "code",
      "source": [
        "sigma=np.diag(sigma)"
      ],
      "metadata": {
        "id": "KnF2rilwuVJj"
      },
      "execution_count": null,
      "outputs": []
    },
    {
      "cell_type": "code",
      "source": [
        "U.shape,sigma.shape,Vt.shape"
      ],
      "metadata": {
        "colab": {
          "base_uri": "https://localhost:8080/"
        },
        "id": "CZKLMbM-txBL",
        "outputId": "4b92c5e1-ae58-4001-d958-bad8a4c4d694"
      },
      "execution_count": null,
      "outputs": [
        {
          "output_type": "execute_result",
          "data": {
            "text/plain": [
              "((13811, 16), (16, 16), (16, 1250))"
            ]
          },
          "metadata": {},
          "execution_count": 90
        }
      ]
    },
    {
      "cell_type": "code",
      "source": [
        "#reconstructing the matrix\n",
        "user_item_matrix_new = np.dot(np.dot(U, sigma), Vt) \n",
        "user_item_matrix_new"
      ],
      "metadata": {
        "colab": {
          "base_uri": "https://localhost:8080/"
        },
        "id": "U0p82RNbu3hC",
        "outputId": "94a2a334-fd3e-4d9a-ae53-aa1801040d7a"
      },
      "execution_count": null,
      "outputs": [
        {
          "output_type": "execute_result",
          "data": {
            "text/plain": [
              "array([[ 1.15198887e-02,  1.76138526e-02,  5.10332845e-03, ...,\n",
              "         6.29353586e-04,  5.55032329e-03,  1.81166065e-03],\n",
              "       [-1.64984890e-02,  4.75876175e-01, -5.35392943e-02, ...,\n",
              "        -9.12689217e-02, -3.69186994e-02,  2.04459761e-02],\n",
              "       [ 1.06865203e-03,  7.08212163e-02, -1.00160754e-02, ...,\n",
              "        -2.66859119e-02, -1.40928226e-03, -2.37210790e-02],\n",
              "       ...,\n",
              "       [ 7.64889581e-02, -2.93419633e-01,  4.90063544e-02, ...,\n",
              "         8.22652777e-02, -1.31610855e-02, -1.48963424e-02],\n",
              "       [-1.66342464e-04,  1.57218395e-02,  5.31666619e-04, ...,\n",
              "         1.87087648e-02,  2.50349657e-02,  1.71479040e-02],\n",
              "       [-1.74346498e-02,  9.44221099e-02, -2.34936815e-03, ...,\n",
              "         4.94379602e-03,  5.86847345e-02,  6.21423719e-03]])"
            ]
          },
          "metadata": {},
          "execution_count": 91
        }
      ]
    },
    {
      "cell_type": "code",
      "source": [
        "user_item_matrix_new .shape"
      ],
      "metadata": {
        "colab": {
          "base_uri": "https://localhost:8080/"
        },
        "id": "fDH0jbIIvLX6",
        "outputId": "b0fd2d9a-1243-4672-c319-25b828e500d5"
      },
      "execution_count": null,
      "outputs": [
        {
          "output_type": "execute_result",
          "data": {
            "text/plain": [
              "(13811, 1250)"
            ]
          },
          "metadata": {},
          "execution_count": 92
        }
      ]
    },
    {
      "cell_type": "code",
      "source": [
        "#Converting the reconstructed matrix back to a Pandas dataframe\n",
        "final_svd_df = pd.DataFrame(user_item_matrix_new, columns = user_item_df.columns, index=list(user_item_df.index)).transpose()\n",
        "final_svd_df.head()"
      ],
      "metadata": {
        "colab": {
          "base_uri": "https://localhost:8080/",
          "height": 452
        },
        "id": "gxzvMSs4vUF6",
        "outputId": "e0771424-dacd-43f7-85ff-57293af7a0aa"
      },
      "execution_count": null,
      "outputs": [
        {
          "output_type": "execute_result",
          "data": {
            "text/plain": [
              "                       99        114       165       242       243     \\\n",
              "Book-Title                                                              \n",
              "1984                 0.011520 -0.016498  0.001069  0.051223 -0.049149   \n",
              "1st to Die: A Novel  0.017614  0.475876  0.070821 -0.016669  0.426457   \n",
              "2010: Odyssey Two    0.005103 -0.053539 -0.010016  0.012692 -0.031243   \n",
              "2nd Chance          -0.001404  0.467756  0.054473 -0.020312  0.125163   \n",
              "3rd Degree          -0.003839  0.132261  0.001822 -0.008487 -0.067965   \n",
              "\n",
              "                       244       254       388       424       440     ...  \\\n",
              "Book-Title                                                             ...   \n",
              "1984                 0.231309  0.409780  0.017890  0.076655  0.030008  ...   \n",
              "1st to Die: A Novel  0.063179  0.207734  0.000127 -0.009998 -0.006438  ...   \n",
              "2010: Odyssey Two    0.067341  0.102214  0.008987  0.010508  0.006284  ...   \n",
              "2nd Chance           0.234761 -0.107231 -0.017580 -0.053329 -0.004954  ...   \n",
              "3rd Degree           0.093682  0.041233 -0.013323 -0.025678 -0.001015  ...   \n",
              "\n",
              "                       278582    278586    278633    278663    278694  \\\n",
              "Book-Title                                                              \n",
              "1984                 0.106294 -0.018893 -0.031124  0.013804 -0.016070   \n",
              "1st to Die: A Novel  0.639242  0.019273 -0.001869 -0.004224  0.068642   \n",
              "2010: Odyssey Two   -0.004688  0.003132  0.066965  0.003801 -0.006515   \n",
              "2nd Chance           0.499641  0.018961  0.049365 -0.036172  0.046446   \n",
              "3rd Degree           0.170987  0.008126  0.013661 -0.020453  0.009602   \n",
              "\n",
              "                       278773    278832    278843    278851    278854  \n",
              "Book-Title                                                             \n",
              "1984                -0.027506 -0.030409  0.076489 -0.000166 -0.017435  \n",
              "1st to Die: A Novel  0.072258  0.041441 -0.293420  0.015722  0.094422  \n",
              "2010: Odyssey Two   -0.008609  0.001744  0.049006  0.000532 -0.002349  \n",
              "2nd Chance           0.062039  0.031647 -0.423054 -0.005002  0.064031  \n",
              "3rd Degree           0.021996  0.012408 -0.127397 -0.000047  0.006275  \n",
              "\n",
              "[5 rows x 13811 columns]"
            ],
            "text/html": [
              "\n",
              "  <div id=\"df-335b21f4-9929-49d1-97dc-b6c12d659a5b\">\n",
              "    <div class=\"colab-df-container\">\n",
              "      <div>\n",
              "<style scoped>\n",
              "    .dataframe tbody tr th:only-of-type {\n",
              "        vertical-align: middle;\n",
              "    }\n",
              "\n",
              "    .dataframe tbody tr th {\n",
              "        vertical-align: top;\n",
              "    }\n",
              "\n",
              "    .dataframe thead th {\n",
              "        text-align: right;\n",
              "    }\n",
              "</style>\n",
              "<table border=\"1\" class=\"dataframe\">\n",
              "  <thead>\n",
              "    <tr style=\"text-align: right;\">\n",
              "      <th></th>\n",
              "      <th>99</th>\n",
              "      <th>114</th>\n",
              "      <th>165</th>\n",
              "      <th>242</th>\n",
              "      <th>243</th>\n",
              "      <th>244</th>\n",
              "      <th>254</th>\n",
              "      <th>388</th>\n",
              "      <th>424</th>\n",
              "      <th>440</th>\n",
              "      <th>...</th>\n",
              "      <th>278582</th>\n",
              "      <th>278586</th>\n",
              "      <th>278633</th>\n",
              "      <th>278663</th>\n",
              "      <th>278694</th>\n",
              "      <th>278773</th>\n",
              "      <th>278832</th>\n",
              "      <th>278843</th>\n",
              "      <th>278851</th>\n",
              "      <th>278854</th>\n",
              "    </tr>\n",
              "    <tr>\n",
              "      <th>Book-Title</th>\n",
              "      <th></th>\n",
              "      <th></th>\n",
              "      <th></th>\n",
              "      <th></th>\n",
              "      <th></th>\n",
              "      <th></th>\n",
              "      <th></th>\n",
              "      <th></th>\n",
              "      <th></th>\n",
              "      <th></th>\n",
              "      <th></th>\n",
              "      <th></th>\n",
              "      <th></th>\n",
              "      <th></th>\n",
              "      <th></th>\n",
              "      <th></th>\n",
              "      <th></th>\n",
              "      <th></th>\n",
              "      <th></th>\n",
              "      <th></th>\n",
              "      <th></th>\n",
              "    </tr>\n",
              "  </thead>\n",
              "  <tbody>\n",
              "    <tr>\n",
              "      <th>1984</th>\n",
              "      <td>0.011520</td>\n",
              "      <td>-0.016498</td>\n",
              "      <td>0.001069</td>\n",
              "      <td>0.051223</td>\n",
              "      <td>-0.049149</td>\n",
              "      <td>0.231309</td>\n",
              "      <td>0.409780</td>\n",
              "      <td>0.017890</td>\n",
              "      <td>0.076655</td>\n",
              "      <td>0.030008</td>\n",
              "      <td>...</td>\n",
              "      <td>0.106294</td>\n",
              "      <td>-0.018893</td>\n",
              "      <td>-0.031124</td>\n",
              "      <td>0.013804</td>\n",
              "      <td>-0.016070</td>\n",
              "      <td>-0.027506</td>\n",
              "      <td>-0.030409</td>\n",
              "      <td>0.076489</td>\n",
              "      <td>-0.000166</td>\n",
              "      <td>-0.017435</td>\n",
              "    </tr>\n",
              "    <tr>\n",
              "      <th>1st to Die: A Novel</th>\n",
              "      <td>0.017614</td>\n",
              "      <td>0.475876</td>\n",
              "      <td>0.070821</td>\n",
              "      <td>-0.016669</td>\n",
              "      <td>0.426457</td>\n",
              "      <td>0.063179</td>\n",
              "      <td>0.207734</td>\n",
              "      <td>0.000127</td>\n",
              "      <td>-0.009998</td>\n",
              "      <td>-0.006438</td>\n",
              "      <td>...</td>\n",
              "      <td>0.639242</td>\n",
              "      <td>0.019273</td>\n",
              "      <td>-0.001869</td>\n",
              "      <td>-0.004224</td>\n",
              "      <td>0.068642</td>\n",
              "      <td>0.072258</td>\n",
              "      <td>0.041441</td>\n",
              "      <td>-0.293420</td>\n",
              "      <td>0.015722</td>\n",
              "      <td>0.094422</td>\n",
              "    </tr>\n",
              "    <tr>\n",
              "      <th>2010: Odyssey Two</th>\n",
              "      <td>0.005103</td>\n",
              "      <td>-0.053539</td>\n",
              "      <td>-0.010016</td>\n",
              "      <td>0.012692</td>\n",
              "      <td>-0.031243</td>\n",
              "      <td>0.067341</td>\n",
              "      <td>0.102214</td>\n",
              "      <td>0.008987</td>\n",
              "      <td>0.010508</td>\n",
              "      <td>0.006284</td>\n",
              "      <td>...</td>\n",
              "      <td>-0.004688</td>\n",
              "      <td>0.003132</td>\n",
              "      <td>0.066965</td>\n",
              "      <td>0.003801</td>\n",
              "      <td>-0.006515</td>\n",
              "      <td>-0.008609</td>\n",
              "      <td>0.001744</td>\n",
              "      <td>0.049006</td>\n",
              "      <td>0.000532</td>\n",
              "      <td>-0.002349</td>\n",
              "    </tr>\n",
              "    <tr>\n",
              "      <th>2nd Chance</th>\n",
              "      <td>-0.001404</td>\n",
              "      <td>0.467756</td>\n",
              "      <td>0.054473</td>\n",
              "      <td>-0.020312</td>\n",
              "      <td>0.125163</td>\n",
              "      <td>0.234761</td>\n",
              "      <td>-0.107231</td>\n",
              "      <td>-0.017580</td>\n",
              "      <td>-0.053329</td>\n",
              "      <td>-0.004954</td>\n",
              "      <td>...</td>\n",
              "      <td>0.499641</td>\n",
              "      <td>0.018961</td>\n",
              "      <td>0.049365</td>\n",
              "      <td>-0.036172</td>\n",
              "      <td>0.046446</td>\n",
              "      <td>0.062039</td>\n",
              "      <td>0.031647</td>\n",
              "      <td>-0.423054</td>\n",
              "      <td>-0.005002</td>\n",
              "      <td>0.064031</td>\n",
              "    </tr>\n",
              "    <tr>\n",
              "      <th>3rd Degree</th>\n",
              "      <td>-0.003839</td>\n",
              "      <td>0.132261</td>\n",
              "      <td>0.001822</td>\n",
              "      <td>-0.008487</td>\n",
              "      <td>-0.067965</td>\n",
              "      <td>0.093682</td>\n",
              "      <td>0.041233</td>\n",
              "      <td>-0.013323</td>\n",
              "      <td>-0.025678</td>\n",
              "      <td>-0.001015</td>\n",
              "      <td>...</td>\n",
              "      <td>0.170987</td>\n",
              "      <td>0.008126</td>\n",
              "      <td>0.013661</td>\n",
              "      <td>-0.020453</td>\n",
              "      <td>0.009602</td>\n",
              "      <td>0.021996</td>\n",
              "      <td>0.012408</td>\n",
              "      <td>-0.127397</td>\n",
              "      <td>-0.000047</td>\n",
              "      <td>0.006275</td>\n",
              "    </tr>\n",
              "  </tbody>\n",
              "</table>\n",
              "<p>5 rows × 13811 columns</p>\n",
              "</div>\n",
              "      <button class=\"colab-df-convert\" onclick=\"convertToInteractive('df-335b21f4-9929-49d1-97dc-b6c12d659a5b')\"\n",
              "              title=\"Convert this dataframe to an interactive table.\"\n",
              "              style=\"display:none;\">\n",
              "        \n",
              "  <svg xmlns=\"http://www.w3.org/2000/svg\" height=\"24px\"viewBox=\"0 0 24 24\"\n",
              "       width=\"24px\">\n",
              "    <path d=\"M0 0h24v24H0V0z\" fill=\"none\"/>\n",
              "    <path d=\"M18.56 5.44l.94 2.06.94-2.06 2.06-.94-2.06-.94-.94-2.06-.94 2.06-2.06.94zm-11 1L8.5 8.5l.94-2.06 2.06-.94-2.06-.94L8.5 2.5l-.94 2.06-2.06.94zm10 10l.94 2.06.94-2.06 2.06-.94-2.06-.94-.94-2.06-.94 2.06-2.06.94z\"/><path d=\"M17.41 7.96l-1.37-1.37c-.4-.4-.92-.59-1.43-.59-.52 0-1.04.2-1.43.59L10.3 9.45l-7.72 7.72c-.78.78-.78 2.05 0 2.83L4 21.41c.39.39.9.59 1.41.59.51 0 1.02-.2 1.41-.59l7.78-7.78 2.81-2.81c.8-.78.8-2.07 0-2.86zM5.41 20L4 18.59l7.72-7.72 1.47 1.35L5.41 20z\"/>\n",
              "  </svg>\n",
              "      </button>\n",
              "      \n",
              "  <style>\n",
              "    .colab-df-container {\n",
              "      display:flex;\n",
              "      flex-wrap:wrap;\n",
              "      gap: 12px;\n",
              "    }\n",
              "\n",
              "    .colab-df-convert {\n",
              "      background-color: #E8F0FE;\n",
              "      border: none;\n",
              "      border-radius: 50%;\n",
              "      cursor: pointer;\n",
              "      display: none;\n",
              "      fill: #1967D2;\n",
              "      height: 32px;\n",
              "      padding: 0 0 0 0;\n",
              "      width: 32px;\n",
              "    }\n",
              "\n",
              "    .colab-df-convert:hover {\n",
              "      background-color: #E2EBFA;\n",
              "      box-shadow: 0px 1px 2px rgba(60, 64, 67, 0.3), 0px 1px 3px 1px rgba(60, 64, 67, 0.15);\n",
              "      fill: #174EA6;\n",
              "    }\n",
              "\n",
              "    [theme=dark] .colab-df-convert {\n",
              "      background-color: #3B4455;\n",
              "      fill: #D2E3FC;\n",
              "    }\n",
              "\n",
              "    [theme=dark] .colab-df-convert:hover {\n",
              "      background-color: #434B5C;\n",
              "      box-shadow: 0px 1px 3px 1px rgba(0, 0, 0, 0.15);\n",
              "      filter: drop-shadow(0px 1px 2px rgba(0, 0, 0, 0.3));\n",
              "      fill: #FFFFFF;\n",
              "    }\n",
              "  </style>\n",
              "\n",
              "      <script>\n",
              "        const buttonEl =\n",
              "          document.querySelector('#df-335b21f4-9929-49d1-97dc-b6c12d659a5b button.colab-df-convert');\n",
              "        buttonEl.style.display =\n",
              "          google.colab.kernel.accessAllowed ? 'block' : 'none';\n",
              "\n",
              "        async function convertToInteractive(key) {\n",
              "          const element = document.querySelector('#df-335b21f4-9929-49d1-97dc-b6c12d659a5b');\n",
              "          const dataTable =\n",
              "            await google.colab.kernel.invokeFunction('convertToInteractive',\n",
              "                                                     [key], {});\n",
              "          if (!dataTable) return;\n",
              "\n",
              "          const docLinkHtml = 'Like what you see? Visit the ' +\n",
              "            '<a target=\"_blank\" href=https://colab.research.google.com/notebooks/data_table.ipynb>data table notebook</a>'\n",
              "            + ' to learn more about interactive tables.';\n",
              "          element.innerHTML = '';\n",
              "          dataTable['output_type'] = 'display_data';\n",
              "          await google.colab.output.renderOutput(dataTable, element);\n",
              "          const docLink = document.createElement('div');\n",
              "          docLink.innerHTML = docLinkHtml;\n",
              "          element.appendChild(docLink);\n",
              "        }\n",
              "      </script>\n",
              "    </div>\n",
              "  </div>\n",
              "  "
            ]
          },
          "metadata": {},
          "execution_count": 93
        }
      ]
    },
    {
      "cell_type": "code",
      "source": [
        "final_svd_df.shape"
      ],
      "metadata": {
        "colab": {
          "base_uri": "https://localhost:8080/"
        },
        "id": "Wcdd989Xmmpc",
        "outputId": "520d44bf-85d0-4fd6-a00c-515e67174630"
      },
      "execution_count": null,
      "outputs": [
        {
          "output_type": "execute_result",
          "data": {
            "text/plain": [
              "(1250, 13811)"
            ]
          },
          "metadata": {},
          "execution_count": 94
        }
      ]
    },
    {
      "cell_type": "markdown",
      "source": [
        "### Prediction"
      ],
      "metadata": {
        "id": "cWyeh8W9vcz_"
      }
    },
    {
      "cell_type": "code",
      "source": [
        "def recommender(svd_df,user_id, items_to_ignore=[], topn=10):\n",
        "  sorted_recomanded_predictions = svd_df[user_id].sort_values(ascending=False).reset_index().rename(columns={user_id: 'recomandStrength'})\n",
        "  top_recomand_book=sorted_recomanded_predictions[~sorted_recomanded_predictions['Book-Title'].isin(items_to_ignore)].sort_values('recomandStrength', ascending = False).head(topn)\n",
        "  return top_recomand_book "
      ],
      "metadata": {
        "id": "5gj_TfntzEYC"
      },
      "execution_count": null,
      "outputs": []
    },
    {
      "cell_type": "code",
      "source": [
        "recommender(final_svd_df,114, items_to_ignore=[], topn=10)"
      ],
      "metadata": {
        "colab": {
          "base_uri": "https://localhost:8080/",
          "height": 363
        },
        "id": "oItQTsP52fcQ",
        "outputId": "7b98b7f1-6cbb-4ddb-dc45-63ba16fe1144"
      },
      "execution_count": null,
      "outputs": [
        {
          "output_type": "execute_result",
          "data": {
            "text/plain": [
              "                                          Book-Title  recomandStrength\n",
              "0                                  The Da Vinci Code          2.248182\n",
              "1                                Angels &amp; Demons          2.182762\n",
              "2                The Red Tent (Bestselling Backlist)          1.050664\n",
              "3                         The Nanny Diaries: A Novel          0.923243\n",
              "4                                        The Summons          0.900350\n",
              "5                                    A Painted House          0.685134\n",
              "6  The Fellowship of the Ring (The Lord of the Ri...          0.684829\n",
              "7                                           Timeline          0.562416\n",
              "8  The Hobbit : The Enchanting Prelude to The Lor...          0.555354\n",
              "9                      Digital Fortress : A Thriller          0.533706"
            ],
            "text/html": [
              "\n",
              "  <div id=\"df-2c309d8a-014f-463c-95db-4c6000c95549\">\n",
              "    <div class=\"colab-df-container\">\n",
              "      <div>\n",
              "<style scoped>\n",
              "    .dataframe tbody tr th:only-of-type {\n",
              "        vertical-align: middle;\n",
              "    }\n",
              "\n",
              "    .dataframe tbody tr th {\n",
              "        vertical-align: top;\n",
              "    }\n",
              "\n",
              "    .dataframe thead th {\n",
              "        text-align: right;\n",
              "    }\n",
              "</style>\n",
              "<table border=\"1\" class=\"dataframe\">\n",
              "  <thead>\n",
              "    <tr style=\"text-align: right;\">\n",
              "      <th></th>\n",
              "      <th>Book-Title</th>\n",
              "      <th>recomandStrength</th>\n",
              "    </tr>\n",
              "  </thead>\n",
              "  <tbody>\n",
              "    <tr>\n",
              "      <th>0</th>\n",
              "      <td>The Da Vinci Code</td>\n",
              "      <td>2.248182</td>\n",
              "    </tr>\n",
              "    <tr>\n",
              "      <th>1</th>\n",
              "      <td>Angels &amp;amp; Demons</td>\n",
              "      <td>2.182762</td>\n",
              "    </tr>\n",
              "    <tr>\n",
              "      <th>2</th>\n",
              "      <td>The Red Tent (Bestselling Backlist)</td>\n",
              "      <td>1.050664</td>\n",
              "    </tr>\n",
              "    <tr>\n",
              "      <th>3</th>\n",
              "      <td>The Nanny Diaries: A Novel</td>\n",
              "      <td>0.923243</td>\n",
              "    </tr>\n",
              "    <tr>\n",
              "      <th>4</th>\n",
              "      <td>The Summons</td>\n",
              "      <td>0.900350</td>\n",
              "    </tr>\n",
              "    <tr>\n",
              "      <th>5</th>\n",
              "      <td>A Painted House</td>\n",
              "      <td>0.685134</td>\n",
              "    </tr>\n",
              "    <tr>\n",
              "      <th>6</th>\n",
              "      <td>The Fellowship of the Ring (The Lord of the Ri...</td>\n",
              "      <td>0.684829</td>\n",
              "    </tr>\n",
              "    <tr>\n",
              "      <th>7</th>\n",
              "      <td>Timeline</td>\n",
              "      <td>0.562416</td>\n",
              "    </tr>\n",
              "    <tr>\n",
              "      <th>8</th>\n",
              "      <td>The Hobbit : The Enchanting Prelude to The Lor...</td>\n",
              "      <td>0.555354</td>\n",
              "    </tr>\n",
              "    <tr>\n",
              "      <th>9</th>\n",
              "      <td>Digital Fortress : A Thriller</td>\n",
              "      <td>0.533706</td>\n",
              "    </tr>\n",
              "  </tbody>\n",
              "</table>\n",
              "</div>\n",
              "      <button class=\"colab-df-convert\" onclick=\"convertToInteractive('df-2c309d8a-014f-463c-95db-4c6000c95549')\"\n",
              "              title=\"Convert this dataframe to an interactive table.\"\n",
              "              style=\"display:none;\">\n",
              "        \n",
              "  <svg xmlns=\"http://www.w3.org/2000/svg\" height=\"24px\"viewBox=\"0 0 24 24\"\n",
              "       width=\"24px\">\n",
              "    <path d=\"M0 0h24v24H0V0z\" fill=\"none\"/>\n",
              "    <path d=\"M18.56 5.44l.94 2.06.94-2.06 2.06-.94-2.06-.94-.94-2.06-.94 2.06-2.06.94zm-11 1L8.5 8.5l.94-2.06 2.06-.94-2.06-.94L8.5 2.5l-.94 2.06-2.06.94zm10 10l.94 2.06.94-2.06 2.06-.94-2.06-.94-.94-2.06-.94 2.06-2.06.94z\"/><path d=\"M17.41 7.96l-1.37-1.37c-.4-.4-.92-.59-1.43-.59-.52 0-1.04.2-1.43.59L10.3 9.45l-7.72 7.72c-.78.78-.78 2.05 0 2.83L4 21.41c.39.39.9.59 1.41.59.51 0 1.02-.2 1.41-.59l7.78-7.78 2.81-2.81c.8-.78.8-2.07 0-2.86zM5.41 20L4 18.59l7.72-7.72 1.47 1.35L5.41 20z\"/>\n",
              "  </svg>\n",
              "      </button>\n",
              "      \n",
              "  <style>\n",
              "    .colab-df-container {\n",
              "      display:flex;\n",
              "      flex-wrap:wrap;\n",
              "      gap: 12px;\n",
              "    }\n",
              "\n",
              "    .colab-df-convert {\n",
              "      background-color: #E8F0FE;\n",
              "      border: none;\n",
              "      border-radius: 50%;\n",
              "      cursor: pointer;\n",
              "      display: none;\n",
              "      fill: #1967D2;\n",
              "      height: 32px;\n",
              "      padding: 0 0 0 0;\n",
              "      width: 32px;\n",
              "    }\n",
              "\n",
              "    .colab-df-convert:hover {\n",
              "      background-color: #E2EBFA;\n",
              "      box-shadow: 0px 1px 2px rgba(60, 64, 67, 0.3), 0px 1px 3px 1px rgba(60, 64, 67, 0.15);\n",
              "      fill: #174EA6;\n",
              "    }\n",
              "\n",
              "    [theme=dark] .colab-df-convert {\n",
              "      background-color: #3B4455;\n",
              "      fill: #D2E3FC;\n",
              "    }\n",
              "\n",
              "    [theme=dark] .colab-df-convert:hover {\n",
              "      background-color: #434B5C;\n",
              "      box-shadow: 0px 1px 3px 1px rgba(0, 0, 0, 0.15);\n",
              "      filter: drop-shadow(0px 1px 2px rgba(0, 0, 0, 0.3));\n",
              "      fill: #FFFFFF;\n",
              "    }\n",
              "  </style>\n",
              "\n",
              "      <script>\n",
              "        const buttonEl =\n",
              "          document.querySelector('#df-2c309d8a-014f-463c-95db-4c6000c95549 button.colab-df-convert');\n",
              "        buttonEl.style.display =\n",
              "          google.colab.kernel.accessAllowed ? 'block' : 'none';\n",
              "\n",
              "        async function convertToInteractive(key) {\n",
              "          const element = document.querySelector('#df-2c309d8a-014f-463c-95db-4c6000c95549');\n",
              "          const dataTable =\n",
              "            await google.colab.kernel.invokeFunction('convertToInteractive',\n",
              "                                                     [key], {});\n",
              "          if (!dataTable) return;\n",
              "\n",
              "          const docLinkHtml = 'Like what you see? Visit the ' +\n",
              "            '<a target=\"_blank\" href=https://colab.research.google.com/notebooks/data_table.ipynb>data table notebook</a>'\n",
              "            + ' to learn more about interactive tables.';\n",
              "          element.innerHTML = '';\n",
              "          dataTable['output_type'] = 'display_data';\n",
              "          await google.colab.output.renderOutput(dataTable, element);\n",
              "          const docLink = document.createElement('div');\n",
              "          docLink.innerHTML = docLinkHtml;\n",
              "          element.appendChild(docLink);\n",
              "        }\n",
              "      </script>\n",
              "    </div>\n",
              "  </div>\n",
              "  "
            ]
          },
          "metadata": {},
          "execution_count": 96
        }
      ]
    },
    {
      "cell_type": "code",
      "source": [
        "user_id_list=user_item_df.index.tolist()"
      ],
      "metadata": {
        "id": "IlrfKZPqus9D"
      },
      "execution_count": null,
      "outputs": []
    },
    {
      "cell_type": "code",
      "source": [
        "def recommend_for_all(recommender,user_id_list,svd_df):\n",
        "  user_item_dict={}\n",
        "  \n",
        "  for user_id in user_id_list:\n",
        "    rec=recommender(svd_df,user_id, items_to_ignore=[], topn=15)\n",
        "    user_item_dict[user_id]=rec['Book-Title'].tolist()\n",
        "  return user_item_dict \n"
      ],
      "metadata": {
        "id": "eBfTd_JuwdlC"
      },
      "execution_count": null,
      "outputs": []
    },
    {
      "cell_type": "code",
      "source": [
        "svd_pred=recommend_for_all(recommender,user_id_list,final_svd_df)"
      ],
      "metadata": {
        "id": "e_4EdE_kcJ4_"
      },
      "execution_count": null,
      "outputs": []
    },
    {
      "cell_type": "code",
      "source": [
        "user_id_recomanded_book=pd.DataFrame(list(svd_pred.items())).rename(columns={0:\"User_id\",1:\"svd_recomanded_book\"})"
      ],
      "metadata": {
        "id": "kQGsOm0Xvkpe"
      },
      "execution_count": null,
      "outputs": []
    },
    {
      "cell_type": "code",
      "source": [
        "user_id_recomanded_book.shape"
      ],
      "metadata": {
        "colab": {
          "base_uri": "https://localhost:8080/"
        },
        "id": "LZmz4zMdv4jy",
        "outputId": "eaa1a38a-057b-4950-aff6-f0eee430de9b"
      },
      "execution_count": null,
      "outputs": [
        {
          "output_type": "execute_result",
          "data": {
            "text/plain": [
              "(13811, 2)"
            ]
          },
          "metadata": {},
          "execution_count": 101
        }
      ]
    },
    {
      "cell_type": "markdown",
      "source": [
        "### Actual Rateing"
      ],
      "metadata": {
        "id": "5kzXs0Ghm6MM"
      }
    },
    {
      "cell_type": "code",
      "source": [
        "def actual_rateing(user_item_df,user_id, items_to_ignore=[], topn=10):\n",
        "  sorted_actual_rateing = user_item_df.transpose()[user_id].sort_values(ascending=False).reset_index().rename(columns={user_id: 'Rating'})\n",
        "  top_rating_book=sorted_actual_rateing[~sorted_actual_rateing['Book-Title'].isin(items_to_ignore)].sort_values('Rating', ascending = False).head(topn)\n",
        "  return top_rating_book "
      ],
      "metadata": {
        "id": "sKEag4f8m5c6"
      },
      "execution_count": null,
      "outputs": []
    },
    {
      "cell_type": "code",
      "source": [
        "def rateing_for_all(actual_rateing,user_id_list,user_item_df):\n",
        "  user_item_dict={}\n",
        "  \n",
        "  for user_id in user_id_list:\n",
        "    rec=actual_rateing(user_item_df,user_id, items_to_ignore=[], topn=10)\n",
        "    user_item_dict[user_id]=rec['Book-Title'].tolist()\n",
        "  return user_item_dict "
      ],
      "metadata": {
        "id": "S0b-b-JTruzF"
      },
      "execution_count": null,
      "outputs": []
    },
    {
      "cell_type": "code",
      "source": [
        "actual_rating=rateing_for_all(actual_rateing,user_id_list,user_item_df)"
      ],
      "metadata": {
        "id": "7Ie9e02ssPA-"
      },
      "execution_count": null,
      "outputs": []
    },
    {
      "cell_type": "code",
      "source": [
        "user_id_top_rated_book=pd.DataFrame(list(actual_rating.items())).rename(columns={0:\"User_id\",1:\"Actual_top_rated_book\"})"
      ],
      "metadata": {
        "id": "dBCRpOQmsuyt"
      },
      "execution_count": null,
      "outputs": []
    },
    {
      "cell_type": "code",
      "source": [
        "user_id_top_rated_book.shape"
      ],
      "metadata": {
        "colab": {
          "base_uri": "https://localhost:8080/"
        },
        "id": "iLJPXyZHv_nd",
        "outputId": "faa61e7e-df14-4caf-b682-bf94fa2fa6d7"
      },
      "execution_count": null,
      "outputs": [
        {
          "output_type": "execute_result",
          "data": {
            "text/plain": [
              "(13811, 2)"
            ]
          },
          "metadata": {},
          "execution_count": 106
        }
      ]
    },
    {
      "cell_type": "code",
      "source": [
        "result_from_svd=user_id_top_rated_book.merge(user_id_recomanded_book,on=\"User_id\")"
      ],
      "metadata": {
        "id": "hzssW78dwJ1f"
      },
      "execution_count": null,
      "outputs": []
    },
    {
      "cell_type": "code",
      "source": [
        "pd.set_option('display.max_colwidth', None)\n",
        "\n",
        "result_from_svd"
      ],
      "metadata": {
        "colab": {
          "base_uri": "https://localhost:8080/",
          "height": 1000
        },
        "id": "g8Ifv68BwilP",
        "outputId": "fbc68950-864e-4b3e-d569-50ed1224d30b"
      },
      "execution_count": null,
      "outputs": [
        {
          "output_type": "execute_result",
          "data": {
            "text/plain": [
              "       User_id  \\\n",
              "0           99   \n",
              "1          114   \n",
              "2          165   \n",
              "3          242   \n",
              "4          243   \n",
              "...        ...   \n",
              "13806   278773   \n",
              "13807   278832   \n",
              "13808   278843   \n",
              "13809   278851   \n",
              "13810   278854   \n",
              "\n",
              "                                                                                                                                                                                                                                                                                                                                                                                                                              Actual_top_rated_book  \\\n",
              "0                                                                                                     [Rich Dad, Poor Dad: What the Rich Teach Their Kids About Money--That the Poor and Middle Class Do Not!, The Pillars of the Earth, Code to Zero, A Prayer for Owen Meany, 2010: Odyssey Two, 2nd Chance, 3rd Degree, 4 Blondes, 84 Charing Cross Road, A 2nd Helping of Chicken Soup for the Soul (Chicken Soup for the Soul Series (Paper))]   \n",
              "1                                                                                               [Angels &amp; Demons, Dead Aim, The Beach House, House of Sand and Fog, A Child Called \\It\\\": One Child's Courage to Survive\", 3rd Degree, 4 Blondes, 84 Charing Cross Road, A 2nd Helping of Chicken Soup for the Soul (Chicken Soup for the Soul Series (Paper)), A Beautiful Mind: The Life of Mathematical Genius and Nobel Laureate John Nash]   \n",
              "2                                                                                                                                                                                   [Little Altars Everywhere: A Novel, The Beach House, Code to Zero, A Prayer for Owen Meany, 2010: Odyssey Two, 2nd Chance, 3rd Degree, 4 Blondes, 84 Charing Cross Road, A 2nd Helping of Chicken Soup for the Soul (Chicken Soup for the Soul Series (Paper))]   \n",
              "3                                                                                 [The Martian Chronicles, A Child Called \\It\\\": One Child's Courage to Survive\", 3rd Degree, 4 Blondes, 84 Charing Cross Road, A 2nd Helping of Chicken Soup for the Soul (Chicken Soup for the Soul Series (Paper)), A Beautiful Mind: The Life of Mathematical Genius and Nobel Laureate John Nash, A Prayer for Owen Meany, A Bend in the Road, A Civil Action]   \n",
              "4                                                                                                                                                                                                                        [Memoirs of a Geisha, The Bean Trees, The General's Daughter, Me Talk Pretty One Day, Unnatural Exposure, The Pilot's Wife : A Novel, A Map of the World, The God of Small Things, River, Cross My Heart, A Painted House]   \n",
              "...                                                                                                                                                                                                                                                                                                                                                                                                                                             ...   \n",
              "13806        [Mystic River, A New Song (Mitford Years (Paperback)), Sticks &amp; Scones, A Child Called \\It\\\": One Child's Courage to Survive\", 3rd Degree, 4 Blondes, 84 Charing Cross Road, A 2nd Helping of Chicken Soup for the Soul (Chicken Soup for the Soul Series (Paper)), A Beautiful Mind: The Life of Mathematical Genius and Nobel Laureate John Nash, A Second Chicken Soup for the Woman's Soul (Chicken Soup for the Soul Series)]   \n",
              "13807                                                                                                  [Chicken Soup for the Soul (Chicken Soup for the Soul), Chicken Soup for the Pet Lover's Soul (Chicken Soup for the Soul), 1st to Die: A Novel, A Prayer for Owen Meany, 2010: Odyssey Two, 2nd Chance, 3rd Degree, 4 Blondes, 84 Charing Cross Road, A 2nd Helping of Chicken Soup for the Soul (Chicken Soup for the Soul Series (Paper))]   \n",
              "13808  [The Bonesetter's Daughter, Icy Sparks, Divine Secrets of the Ya-Ya Sisterhood : A Novel, Flowers for Algernon (Bantam Classic), Bridget Jones's Diary, Harry Potter and the Sorcerer's Stone (Harry Potter (Paperback)), Lasher, Don't Sweat the Small Stuff and It's All Small Stuff : Simple Ways to Keep the Little Things from Taking Over Your Life (Don't Sweat the Small Stuff Series), Little Altars Everywhere, Circle of Friends]   \n",
              "13809                       [Life's Little Instruction Book (Life's Little Instruction Books (Paperback)), A Child Called \\It\\\": One Child's Courage to Survive\", 3rd Degree, 4 Blondes, 84 Charing Cross Road, A 2nd Helping of Chicken Soup for the Soul (Chicken Soup for the Soul Series (Paper)), A Beautiful Mind: The Life of Mathematical Genius and Nobel Laureate John Nash, A Prayer for Owen Meany, A Bend in the Road, A Civil Action]   \n",
              "13810                                                 [Ashes to Ashes, Hornet's Nest, A Virtuous Woman (Oprah's Book Club (Paperback)), How Stella Got Her Groove Back, A Child Called \\It\\\": One Child's Courage to Survive\", 3rd Degree, 4 Blondes, 84 Charing Cross Road, A 2nd Helping of Chicken Soup for the Soul (Chicken Soup for the Soul Series (Paper)), A Beautiful Mind: The Life of Mathematical Genius and Nobel Laureate John Nash]   \n",
              "\n",
              "                                                                                                                                                                                                                                                                                                                                                                                                                                                                                                                                  svd_recomanded_book  \n",
              "0                                                                                                          [The Da Vinci Code, The Lovely Bones: A Novel, The Fellowship of the Ring (The Lord of the Rings, Part 1), The Firm, To Kill a Mockingbird, The Hobbit : The Enchanting Prelude to The Lord of the Rings, The Client, The Chamber, The Return of the King (The Lord of the Rings, Part 3), Angels &amp; Demons, The Two Towers (The Lord of the Rings, Part 2), The Secret Life of Bees, A Time to Kill, The Pelican Brief, The Rainmaker]  \n",
              "1                                                             [The Da Vinci Code, Angels &amp; Demons, The Red Tent (Bestselling Backlist), The Nanny Diaries: A Novel, The Summons, A Painted House, The Fellowship of the Ring (The Lord of the Rings, Part 1), Timeline, The Hobbit : The Enchanting Prelude to The Lord of the Rings, Digital Fortress : A Thriller, The Two Towers (The Lord of the Rings, Part 2), The Return of the King (The Lord of the Rings, Part 3), The Five People You Meet in Heaven, 1st to Die: A Novel, 2nd Chance]  \n",
              "2                                                            [The Red Tent (Bestselling Backlist), The Nanny Diaries: A Novel, Divine Secrets of the Ya-Ya Sisterhood: A Novel, Where the Heart Is (Oprah's Book Club (Paperback)), The Pilot's Wife : A Novel, The Notebook, A Painted House, The Poisonwood Bible: A Novel, The Five People You Meet in Heaven, Good in Bed, Little Altars Everywhere: A Novel, Angels &amp; Demons, Bridget Jones's Diary, The Summons, Tuesdays with Morrie: An Old Man, a Young Man, and Life's Greatest Lesson]  \n",
              "3                                      [The Fellowship of the Ring (The Lord of the Rings, Part 1), Life of Pi, To Kill a Mockingbird, The Hobbit : The Enchanting Prelude to The Lord of the Rings, The Return of the King (The Lord of the Rings, Part 3), The Two Towers (The Lord of the Rings, Part 2), The Catcher in the Rye, Jurassic Park, Fahrenheit 451, Silence of the Lambs, 1984, The Firm, Lord of the Flies, Ender's Game (Ender Wiggins Saga (Paperback)), Stupid White Men ...and Other Sorry Excuses for the State of the Nation!]  \n",
              "4                                                                                                                                  [Where the Heart Is (Oprah's Book Club (Paperback)), The Red Tent (Bestselling Backlist), The Secret Life of Bees, A Painted House, Divine Secrets of the Ya-Ya Sisterhood: A Novel, The Pilot's Wife : A Novel, The Poisonwood Bible: A Novel, Snow Falling on Cedars, The Firm, Summer Sisters, House of Sand and Fog, Little Altars Everywhere: A Novel, The Bean Trees, The Reader, Girl with a Pearl Earring]  \n",
              "...                                                                                                                                                                                                                                                                                                                                                                                                                                                                                                                                               ...  \n",
              "13806                                                                                                                                                                                    [The Da Vinci Code, Angels &amp; Demons, The Red Tent (Bestselling Backlist), 1st to Die: A Novel, A Painted House, 2nd Chance, The Summons, The Secret Life of Bees, Timeline, The Five People You Meet in Heaven, Digital Fortress : A Thriller, Four Blind Mice, The King of Torts, Violets Are Blue, Where the Heart Is (Oprah's Book Club (Paperback))]  \n",
              "13807                               [Where the Heart Is (Oprah's Book Club (Paperback)), The Notebook, A Walk to Remember, The Rescue, Insomnia, The Pilot's Wife : A Novel, Summer Sisters, Left Behind: A Novel of the Earth's Last Days (Left Behind No. 1), White Oleander : A Novel, Message in a Bottle, Tribulation Force: The Continuing Drama of Those Left Behind (Left Behind No. 2), A Bend in the Road, Harry Potter and the Chamber of Secrets (Book 2), Suzanne's Diary for Nicholas, Divine Secrets of the Ya-Ya Sisterhood: A Novel]  \n",
              "13808                                           [Harry Potter and the Sorcerer's Stone (Harry Potter (Paperback)), The Nanny Diaries: A Novel, Harry Potter and the Chamber of Secrets (Book 2), Bridget Jones's Diary, Divine Secrets of the Ya-Ya Sisterhood: A Novel, Good in Bed, The Firm, The Joy Luck Club, She's Come Undone (Oprah's Book Club (Paperback)), Fahrenheit 451, A Time to Kill, The Client, Harry Potter and the Prisoner of Azkaban (Book 3), Confessions of a Shopaholic (Summer Display Opportunity), To Kill a Mockingbird]  \n",
              "13809  [Harry Potter and the Sorcerer's Stone (Harry Potter (Paperback)), Snow Falling on Cedars, The God of Small Things, Fast Food Nation: The Dark Side of the All-American Meal, B Is for Burglar (Kinsey Millhone Mysteries (Paperback)), Cruel &amp; Unusual (Kay Scarpetta Mysteries (Paperback)), A Prayer for Owen Meany, The Hot Zone, G Is for Gumshoe (Kinsey Millhone Mysteries (Paperback)), From Potter's Field, Unnatural Exposure, Night, J Is for Judgment, C Is for Corpse (Kinsey Millhone Mysteries (Paperback)), SHIPPING NEWS]  \n",
              "13810                                                                                                                                                                                                                                                                                            [The Lovely Bones: A Novel, The Partner, Life of Pi, The Testament, 1st to Die: A Novel, The Firm, The Client, The Pelican Brief, A Painted House, The Street Lawyer, The Runaway Jury, The Chamber, Unnatural Exposure, The Rainmaker, The Summons]  \n",
              "\n",
              "[13811 rows x 3 columns]"
            ],
            "text/html": [
              "\n",
              "  <div id=\"df-1b25b5b3-4d37-47a7-b970-3531fa375fd7\">\n",
              "    <div class=\"colab-df-container\">\n",
              "      <div>\n",
              "<style scoped>\n",
              "    .dataframe tbody tr th:only-of-type {\n",
              "        vertical-align: middle;\n",
              "    }\n",
              "\n",
              "    .dataframe tbody tr th {\n",
              "        vertical-align: top;\n",
              "    }\n",
              "\n",
              "    .dataframe thead th {\n",
              "        text-align: right;\n",
              "    }\n",
              "</style>\n",
              "<table border=\"1\" class=\"dataframe\">\n",
              "  <thead>\n",
              "    <tr style=\"text-align: right;\">\n",
              "      <th></th>\n",
              "      <th>User_id</th>\n",
              "      <th>Actual_top_rated_book</th>\n",
              "      <th>svd_recomanded_book</th>\n",
              "    </tr>\n",
              "  </thead>\n",
              "  <tbody>\n",
              "    <tr>\n",
              "      <th>0</th>\n",
              "      <td>99</td>\n",
              "      <td>[Rich Dad, Poor Dad: What the Rich Teach Their Kids About Money--That the Poor and Middle Class Do Not!, The Pillars of the Earth, Code to Zero, A Prayer for Owen Meany, 2010: Odyssey Two, 2nd Chance, 3rd Degree, 4 Blondes, 84 Charing Cross Road, A 2nd Helping of Chicken Soup for the Soul (Chicken Soup for the Soul Series (Paper))]</td>\n",
              "      <td>[The Da Vinci Code, The Lovely Bones: A Novel, The Fellowship of the Ring (The Lord of the Rings, Part 1), The Firm, To Kill a Mockingbird, The Hobbit : The Enchanting Prelude to The Lord of the Rings, The Client, The Chamber, The Return of the King (The Lord of the Rings, Part 3), Angels &amp;amp; Demons, The Two Towers (The Lord of the Rings, Part 2), The Secret Life of Bees, A Time to Kill, The Pelican Brief, The Rainmaker]</td>\n",
              "    </tr>\n",
              "    <tr>\n",
              "      <th>1</th>\n",
              "      <td>114</td>\n",
              "      <td>[Angels &amp;amp; Demons, Dead Aim, The Beach House, House of Sand and Fog, A Child Called \\It\\\": One Child's Courage to Survive\", 3rd Degree, 4 Blondes, 84 Charing Cross Road, A 2nd Helping of Chicken Soup for the Soul (Chicken Soup for the Soul Series (Paper)), A Beautiful Mind: The Life of Mathematical Genius and Nobel Laureate John Nash]</td>\n",
              "      <td>[The Da Vinci Code, Angels &amp;amp; Demons, The Red Tent (Bestselling Backlist), The Nanny Diaries: A Novel, The Summons, A Painted House, The Fellowship of the Ring (The Lord of the Rings, Part 1), Timeline, The Hobbit : The Enchanting Prelude to The Lord of the Rings, Digital Fortress : A Thriller, The Two Towers (The Lord of the Rings, Part 2), The Return of the King (The Lord of the Rings, Part 3), The Five People You Meet in Heaven, 1st to Die: A Novel, 2nd Chance]</td>\n",
              "    </tr>\n",
              "    <tr>\n",
              "      <th>2</th>\n",
              "      <td>165</td>\n",
              "      <td>[Little Altars Everywhere: A Novel, The Beach House, Code to Zero, A Prayer for Owen Meany, 2010: Odyssey Two, 2nd Chance, 3rd Degree, 4 Blondes, 84 Charing Cross Road, A 2nd Helping of Chicken Soup for the Soul (Chicken Soup for the Soul Series (Paper))]</td>\n",
              "      <td>[The Red Tent (Bestselling Backlist), The Nanny Diaries: A Novel, Divine Secrets of the Ya-Ya Sisterhood: A Novel, Where the Heart Is (Oprah's Book Club (Paperback)), The Pilot's Wife : A Novel, The Notebook, A Painted House, The Poisonwood Bible: A Novel, The Five People You Meet in Heaven, Good in Bed, Little Altars Everywhere: A Novel, Angels &amp;amp; Demons, Bridget Jones's Diary, The Summons, Tuesdays with Morrie: An Old Man, a Young Man, and Life's Greatest Lesson]</td>\n",
              "    </tr>\n",
              "    <tr>\n",
              "      <th>3</th>\n",
              "      <td>242</td>\n",
              "      <td>[The Martian Chronicles, A Child Called \\It\\\": One Child's Courage to Survive\", 3rd Degree, 4 Blondes, 84 Charing Cross Road, A 2nd Helping of Chicken Soup for the Soul (Chicken Soup for the Soul Series (Paper)), A Beautiful Mind: The Life of Mathematical Genius and Nobel Laureate John Nash, A Prayer for Owen Meany, A Bend in the Road, A Civil Action]</td>\n",
              "      <td>[The Fellowship of the Ring (The Lord of the Rings, Part 1), Life of Pi, To Kill a Mockingbird, The Hobbit : The Enchanting Prelude to The Lord of the Rings, The Return of the King (The Lord of the Rings, Part 3), The Two Towers (The Lord of the Rings, Part 2), The Catcher in the Rye, Jurassic Park, Fahrenheit 451, Silence of the Lambs, 1984, The Firm, Lord of the Flies, Ender's Game (Ender Wiggins Saga (Paperback)), Stupid White Men ...and Other Sorry Excuses for the State of the Nation!]</td>\n",
              "    </tr>\n",
              "    <tr>\n",
              "      <th>4</th>\n",
              "      <td>243</td>\n",
              "      <td>[Memoirs of a Geisha, The Bean Trees, The General's Daughter, Me Talk Pretty One Day, Unnatural Exposure, The Pilot's Wife : A Novel, A Map of the World, The God of Small Things, River, Cross My Heart, A Painted House]</td>\n",
              "      <td>[Where the Heart Is (Oprah's Book Club (Paperback)), The Red Tent (Bestselling Backlist), The Secret Life of Bees, A Painted House, Divine Secrets of the Ya-Ya Sisterhood: A Novel, The Pilot's Wife : A Novel, The Poisonwood Bible: A Novel, Snow Falling on Cedars, The Firm, Summer Sisters, House of Sand and Fog, Little Altars Everywhere: A Novel, The Bean Trees, The Reader, Girl with a Pearl Earring]</td>\n",
              "    </tr>\n",
              "    <tr>\n",
              "      <th>...</th>\n",
              "      <td>...</td>\n",
              "      <td>...</td>\n",
              "      <td>...</td>\n",
              "    </tr>\n",
              "    <tr>\n",
              "      <th>13806</th>\n",
              "      <td>278773</td>\n",
              "      <td>[Mystic River, A New Song (Mitford Years (Paperback)), Sticks &amp;amp; Scones, A Child Called \\It\\\": One Child's Courage to Survive\", 3rd Degree, 4 Blondes, 84 Charing Cross Road, A 2nd Helping of Chicken Soup for the Soul (Chicken Soup for the Soul Series (Paper)), A Beautiful Mind: The Life of Mathematical Genius and Nobel Laureate John Nash, A Second Chicken Soup for the Woman's Soul (Chicken Soup for the Soul Series)]</td>\n",
              "      <td>[The Da Vinci Code, Angels &amp;amp; Demons, The Red Tent (Bestselling Backlist), 1st to Die: A Novel, A Painted House, 2nd Chance, The Summons, The Secret Life of Bees, Timeline, The Five People You Meet in Heaven, Digital Fortress : A Thriller, Four Blind Mice, The King of Torts, Violets Are Blue, Where the Heart Is (Oprah's Book Club (Paperback))]</td>\n",
              "    </tr>\n",
              "    <tr>\n",
              "      <th>13807</th>\n",
              "      <td>278832</td>\n",
              "      <td>[Chicken Soup for the Soul (Chicken Soup for the Soul), Chicken Soup for the Pet Lover's Soul (Chicken Soup for the Soul), 1st to Die: A Novel, A Prayer for Owen Meany, 2010: Odyssey Two, 2nd Chance, 3rd Degree, 4 Blondes, 84 Charing Cross Road, A 2nd Helping of Chicken Soup for the Soul (Chicken Soup for the Soul Series (Paper))]</td>\n",
              "      <td>[Where the Heart Is (Oprah's Book Club (Paperback)), The Notebook, A Walk to Remember, The Rescue, Insomnia, The Pilot's Wife : A Novel, Summer Sisters, Left Behind: A Novel of the Earth's Last Days (Left Behind No. 1), White Oleander : A Novel, Message in a Bottle, Tribulation Force: The Continuing Drama of Those Left Behind (Left Behind No. 2), A Bend in the Road, Harry Potter and the Chamber of Secrets (Book 2), Suzanne's Diary for Nicholas, Divine Secrets of the Ya-Ya Sisterhood: A Novel]</td>\n",
              "    </tr>\n",
              "    <tr>\n",
              "      <th>13808</th>\n",
              "      <td>278843</td>\n",
              "      <td>[The Bonesetter's Daughter, Icy Sparks, Divine Secrets of the Ya-Ya Sisterhood : A Novel, Flowers for Algernon (Bantam Classic), Bridget Jones's Diary, Harry Potter and the Sorcerer's Stone (Harry Potter (Paperback)), Lasher, Don't Sweat the Small Stuff and It's All Small Stuff : Simple Ways to Keep the Little Things from Taking Over Your Life (Don't Sweat the Small Stuff Series), Little Altars Everywhere, Circle of Friends]</td>\n",
              "      <td>[Harry Potter and the Sorcerer's Stone (Harry Potter (Paperback)), The Nanny Diaries: A Novel, Harry Potter and the Chamber of Secrets (Book 2), Bridget Jones's Diary, Divine Secrets of the Ya-Ya Sisterhood: A Novel, Good in Bed, The Firm, The Joy Luck Club, She's Come Undone (Oprah's Book Club (Paperback)), Fahrenheit 451, A Time to Kill, The Client, Harry Potter and the Prisoner of Azkaban (Book 3), Confessions of a Shopaholic (Summer Display Opportunity), To Kill a Mockingbird]</td>\n",
              "    </tr>\n",
              "    <tr>\n",
              "      <th>13809</th>\n",
              "      <td>278851</td>\n",
              "      <td>[Life's Little Instruction Book (Life's Little Instruction Books (Paperback)), A Child Called \\It\\\": One Child's Courage to Survive\", 3rd Degree, 4 Blondes, 84 Charing Cross Road, A 2nd Helping of Chicken Soup for the Soul (Chicken Soup for the Soul Series (Paper)), A Beautiful Mind: The Life of Mathematical Genius and Nobel Laureate John Nash, A Prayer for Owen Meany, A Bend in the Road, A Civil Action]</td>\n",
              "      <td>[Harry Potter and the Sorcerer's Stone (Harry Potter (Paperback)), Snow Falling on Cedars, The God of Small Things, Fast Food Nation: The Dark Side of the All-American Meal, B Is for Burglar (Kinsey Millhone Mysteries (Paperback)), Cruel &amp;amp; Unusual (Kay Scarpetta Mysteries (Paperback)), A Prayer for Owen Meany, The Hot Zone, G Is for Gumshoe (Kinsey Millhone Mysteries (Paperback)), From Potter's Field, Unnatural Exposure, Night, J Is for Judgment, C Is for Corpse (Kinsey Millhone Mysteries (Paperback)), SHIPPING NEWS]</td>\n",
              "    </tr>\n",
              "    <tr>\n",
              "      <th>13810</th>\n",
              "      <td>278854</td>\n",
              "      <td>[Ashes to Ashes, Hornet's Nest, A Virtuous Woman (Oprah's Book Club (Paperback)), How Stella Got Her Groove Back, A Child Called \\It\\\": One Child's Courage to Survive\", 3rd Degree, 4 Blondes, 84 Charing Cross Road, A 2nd Helping of Chicken Soup for the Soul (Chicken Soup for the Soul Series (Paper)), A Beautiful Mind: The Life of Mathematical Genius and Nobel Laureate John Nash]</td>\n",
              "      <td>[The Lovely Bones: A Novel, The Partner, Life of Pi, The Testament, 1st to Die: A Novel, The Firm, The Client, The Pelican Brief, A Painted House, The Street Lawyer, The Runaway Jury, The Chamber, Unnatural Exposure, The Rainmaker, The Summons]</td>\n",
              "    </tr>\n",
              "  </tbody>\n",
              "</table>\n",
              "<p>13811 rows × 3 columns</p>\n",
              "</div>\n",
              "      <button class=\"colab-df-convert\" onclick=\"convertToInteractive('df-1b25b5b3-4d37-47a7-b970-3531fa375fd7')\"\n",
              "              title=\"Convert this dataframe to an interactive table.\"\n",
              "              style=\"display:none;\">\n",
              "        \n",
              "  <svg xmlns=\"http://www.w3.org/2000/svg\" height=\"24px\"viewBox=\"0 0 24 24\"\n",
              "       width=\"24px\">\n",
              "    <path d=\"M0 0h24v24H0V0z\" fill=\"none\"/>\n",
              "    <path d=\"M18.56 5.44l.94 2.06.94-2.06 2.06-.94-2.06-.94-.94-2.06-.94 2.06-2.06.94zm-11 1L8.5 8.5l.94-2.06 2.06-.94-2.06-.94L8.5 2.5l-.94 2.06-2.06.94zm10 10l.94 2.06.94-2.06 2.06-.94-2.06-.94-.94-2.06-.94 2.06-2.06.94z\"/><path d=\"M17.41 7.96l-1.37-1.37c-.4-.4-.92-.59-1.43-.59-.52 0-1.04.2-1.43.59L10.3 9.45l-7.72 7.72c-.78.78-.78 2.05 0 2.83L4 21.41c.39.39.9.59 1.41.59.51 0 1.02-.2 1.41-.59l7.78-7.78 2.81-2.81c.8-.78.8-2.07 0-2.86zM5.41 20L4 18.59l7.72-7.72 1.47 1.35L5.41 20z\"/>\n",
              "  </svg>\n",
              "      </button>\n",
              "      \n",
              "  <style>\n",
              "    .colab-df-container {\n",
              "      display:flex;\n",
              "      flex-wrap:wrap;\n",
              "      gap: 12px;\n",
              "    }\n",
              "\n",
              "    .colab-df-convert {\n",
              "      background-color: #E8F0FE;\n",
              "      border: none;\n",
              "      border-radius: 50%;\n",
              "      cursor: pointer;\n",
              "      display: none;\n",
              "      fill: #1967D2;\n",
              "      height: 32px;\n",
              "      padding: 0 0 0 0;\n",
              "      width: 32px;\n",
              "    }\n",
              "\n",
              "    .colab-df-convert:hover {\n",
              "      background-color: #E2EBFA;\n",
              "      box-shadow: 0px 1px 2px rgba(60, 64, 67, 0.3), 0px 1px 3px 1px rgba(60, 64, 67, 0.15);\n",
              "      fill: #174EA6;\n",
              "    }\n",
              "\n",
              "    [theme=dark] .colab-df-convert {\n",
              "      background-color: #3B4455;\n",
              "      fill: #D2E3FC;\n",
              "    }\n",
              "\n",
              "    [theme=dark] .colab-df-convert:hover {\n",
              "      background-color: #434B5C;\n",
              "      box-shadow: 0px 1px 3px 1px rgba(0, 0, 0, 0.15);\n",
              "      filter: drop-shadow(0px 1px 2px rgba(0, 0, 0, 0.3));\n",
              "      fill: #FFFFFF;\n",
              "    }\n",
              "  </style>\n",
              "\n",
              "      <script>\n",
              "        const buttonEl =\n",
              "          document.querySelector('#df-1b25b5b3-4d37-47a7-b970-3531fa375fd7 button.colab-df-convert');\n",
              "        buttonEl.style.display =\n",
              "          google.colab.kernel.accessAllowed ? 'block' : 'none';\n",
              "\n",
              "        async function convertToInteractive(key) {\n",
              "          const element = document.querySelector('#df-1b25b5b3-4d37-47a7-b970-3531fa375fd7');\n",
              "          const dataTable =\n",
              "            await google.colab.kernel.invokeFunction('convertToInteractive',\n",
              "                                                     [key], {});\n",
              "          if (!dataTable) return;\n",
              "\n",
              "          const docLinkHtml = 'Like what you see? Visit the ' +\n",
              "            '<a target=\"_blank\" href=https://colab.research.google.com/notebooks/data_table.ipynb>data table notebook</a>'\n",
              "            + ' to learn more about interactive tables.';\n",
              "          element.innerHTML = '';\n",
              "          dataTable['output_type'] = 'display_data';\n",
              "          await google.colab.output.renderOutput(dataTable, element);\n",
              "          const docLink = document.createElement('div');\n",
              "          docLink.innerHTML = docLinkHtml;\n",
              "          element.appendChild(docLink);\n",
              "        }\n",
              "      </script>\n",
              "    </div>\n",
              "  </div>\n",
              "  "
            ]
          },
          "metadata": {},
          "execution_count": 108
        }
      ]
    }
  ]
}